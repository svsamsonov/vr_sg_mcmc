{
 "cells": [
  {
   "cell_type": "code",
   "execution_count": 22,
   "metadata": {},
   "outputs": [],
   "source": [
    "import numpy as np\n",
    "import numpy.polynomial as P\n",
    "import scipy as sp\n",
    "from matplotlib import pyplot as plt\n",
    "from tqdm import tqdm\n",
    "#from sklearn.preprocessing import PolynomialFeatures\n",
    "from multiprocessing import Pool\n",
    "import multiprocessing\n",
    "import ZVnbrosse\n",
    "from potentials import GaussPotential,GaussMixture,GausMixtureIdent,GausMixtureSame,BananaShape\n",
    "from samplers import MCMC_sampler,Generate_train,ULA_light\n",
    "from baselines import set_function,construct_ESVM_kernel,GenerateSigma\n",
    "from martingale import approx_q,test_traj\n",
    "from optimize import Run_eval_test,optimize_parallel_new \n",
    "from utils import *\n",
    "import copy"
   ]
  },
  {
   "cell_type": "code",
   "execution_count": 23,
   "metadata": {},
   "outputs": [
    {
     "name": "stdout",
     "output_type": "stream",
     "text": [
      "12\n"
     ]
    }
   ],
   "source": [
    "N_burn = 1*10**3 # Burn in period\n",
    "N_train = 1*10**4 # Number of samples on which we optimize\n",
    "N_test = 2*10**3 # Number of samples\n",
    "step = 0.01 # Step size\n",
    "#step = 0.2\n",
    "n_traj_train = 10\n",
    "n_traj_test = 24 # Number of independent MCMC trajectories for test\n",
    "f_type = \"posterior_mean\"\n",
    "K_max = 2 #max degree of Hermite polynomial\n",
    "S_max = 4 #max degree of polynomial during regression stage\n",
    "lag = 50 #maximal lag order\n",
    "b_n_train = 20 #lag-window size\n",
    "b_n_test = int(np.round(N_test**(0.33)))\n",
    "print(b_n_test)\n",
    "degree = 2"
   ]
  },
  {
   "cell_type": "markdown",
   "metadata": {},
   "source": [
    "Choose sampler type (currently only ULA is maintained)"
   ]
  },
  {
   "cell_type": "code",
   "execution_count": 24,
   "metadata": {},
   "outputs": [],
   "source": [
    "d = 2\n",
    "B = 0.1\n",
    "M = 100\n",
    "Cur_pot = BananaShape(B,M,d)\n",
    "r_seed = 777\n",
    "x0 = np.array([0.0,0.0])\n",
    "fixed_start = True"
   ]
  },
  {
   "cell_type": "markdown",
   "metadata": {},
   "source": [
    "### Generate data"
   ]
  },
  {
   "cell_type": "code",
   "execution_count": 25,
   "metadata": {},
   "outputs": [
    {
     "name": "stdout",
     "output_type": "stream",
     "text": [
      "(10, 10000, 2)\n"
     ]
    }
   ],
   "source": [
    "r_seed = 777\n",
    "traj = np.zeros((n_traj_train,N_train,d),dtype = float)\n",
    "for i in range(n_traj_train):\n",
    "    cur_traj = ULA_light(r_seed+i,Cur_pot,step, N_burn, N_train, d, return_noise = False, x0 = x0, fixed_start = fixed_start)\n",
    "    traj[i] = copy.deepcopy(cur_traj)\n",
    "print(traj.shape)"
   ]
  },
  {
   "cell_type": "code",
   "execution_count": 26,
   "metadata": {},
   "outputs": [
    {
     "name": "stdout",
     "output_type": "stream",
     "text": [
      "(10, 10000, 1)\n"
     ]
    }
   ],
   "source": [
    "inds_arr = np.array([1]) # Taking the second index (not intercept)\n",
    "params = None    \n",
    "f_vals = set_function(f_type,traj,inds_arr,params) \n",
    "#f_vals = traj[:,:,0]\n",
    "#f_vals = np.expand_dims(f_vals, axis=2)\n",
    "print(f_vals.shape)"
   ]
  },
  {
   "cell_type": "markdown",
   "metadata": {},
   "source": [
    "### Evaluate baselines (EVM and ESVM methods)"
   ]
  },
  {
   "cell_type": "code",
   "execution_count": 27,
   "metadata": {},
   "outputs": [
    {
     "name": "stdout",
     "output_type": "stream",
     "text": [
      "ncores =  12\n"
     ]
    }
   ],
   "source": [
    "sampler = {\"sampler\":\"ULA\",\"burn_type\":\"full\",\"main_type\":\"full\"} # Sampling method\n",
    "\n",
    "if sampler[\"sampler\"] == \"ULA\":\n",
    "    res = Generate_train(n_traj_train, sampler, Cur_pot, step, N_burn, N_train, d)\n",
    "    res = np.asarray(res)\n",
    "    traj_evm,traj_grad = res[:,0,:,:],res[:,1,:,:]\n",
    "else:\n",
    "    raise \"You should use ULA!\""
   ]
  },
  {
   "cell_type": "code",
   "execution_count": 28,
   "metadata": {},
   "outputs": [
    {
     "name": "stdout",
     "output_type": "stream",
     "text": [
      "(10, 10000, 2)\n"
     ]
    }
   ],
   "source": [
    "print(traj.shape)\n",
    "inds_arr = np.array([0])#Taking the second index\n",
    "params = None\n",
    "f_vals_evm = set_function(f_type,traj_evm,inds_arr,params)"
   ]
  },
  {
   "cell_type": "code",
   "execution_count": 29,
   "metadata": {},
   "outputs": [
    {
     "name": "stdout",
     "output_type": "stream",
     "text": [
      "[[[ -5.75983569]\n",
      "  [ -5.89121684]\n",
      "  [ -6.00988869]\n",
      "  ...\n",
      "  [  2.95070547]\n",
      "  [  2.95842788]\n",
      "  [  3.04618322]]\n",
      "\n",
      " [[  7.59742217]\n",
      "  [  7.49314497]\n",
      "  [  7.55339915]\n",
      "  ...\n",
      "  [-13.27903938]\n",
      "  [-13.3383729 ]\n",
      "  [-13.54537778]]\n",
      "\n",
      " [[  8.34931762]\n",
      "  [  8.41411667]\n",
      "  [  8.43266924]\n",
      "  ...\n",
      "  [-12.30766929]\n",
      "  [-12.36623186]\n",
      "  [-12.37113836]]\n",
      "\n",
      " ...\n",
      "\n",
      " [[  8.50895374]\n",
      "  [  8.70622707]\n",
      "  [  8.68315038]\n",
      "  ...\n",
      "  [  8.27639864]\n",
      "  [  8.25756255]\n",
      "  [  8.30141072]]\n",
      "\n",
      " [[ 10.49918145]\n",
      "  [ 10.73274964]\n",
      "  [ 11.06208873]\n",
      "  ...\n",
      "  [ -3.50639353]\n",
      "  [ -3.52481336]\n",
      "  [ -3.7482058 ]]\n",
      "\n",
      " [[ -1.99396972]\n",
      "  [ -1.77463124]\n",
      "  [ -1.75359706]\n",
      "  ...\n",
      "  [ -8.8634436 ]\n",
      "  [ -8.77190562]\n",
      "  [ -8.71672299]]]\n",
      "[[[  0.        ]\n",
      "  [ -0.23558358]\n",
      "  [ -0.09283078]\n",
      "  ...\n",
      "  [  7.64820433]\n",
      "  [  7.87372659]\n",
      "  [  7.54968037]]\n",
      "\n",
      " [[  0.        ]\n",
      "  [  0.24490876]\n",
      "  [  0.14385082]\n",
      "  ...\n",
      "  [-13.77127048]\n",
      "  [-13.66991513]\n",
      "  [-13.68046598]]\n",
      "\n",
      " [[  0.        ]\n",
      "  [  0.07202356]\n",
      "  [  0.22638919]\n",
      "  ...\n",
      "  [ -6.6956829 ]\n",
      "  [ -6.36561135]\n",
      "  [ -6.2819282 ]]\n",
      "\n",
      " ...\n",
      "\n",
      " [[  0.        ]\n",
      "  [  0.01594682]\n",
      "  [  0.44525506]\n",
      "  ...\n",
      "  [  6.28784159]\n",
      "  [  6.24194704]\n",
      "  [  6.34800869]]\n",
      "\n",
      " [[  0.        ]\n",
      "  [  0.20659382]\n",
      "  [ -0.06292087]\n",
      "  ...\n",
      "  [  7.3483452 ]\n",
      "  [  7.25583175]\n",
      "  [  7.01976971]]\n",
      "\n",
      " [[  0.        ]\n",
      "  [  0.0811545 ]\n",
      "  [  0.21163996]\n",
      "  ...\n",
      "  [  2.42402226]\n",
      "  [  2.12245517]\n",
      "  [  2.11242274]]]\n"
     ]
    }
   ],
   "source": [
    "print(f_vals_evm)\n",
    "print(f_vals)"
   ]
  },
  {
   "cell_type": "code",
   "execution_count": 30,
   "metadata": {},
   "outputs": [],
   "source": [
    "W_train_spec = construct_ESVM_kernel(N_train,b_n_train) #weight matrix for train\n",
    "W_test_spec = construct_ESVM_kernel(N_test,b_n_test) #weight matrix for test\n",
    "opt_structure_train = {\n",
    "    \"W\":W_train_spec,\n",
    "    \"n_restarts\": 3, # Number of restarts during optimization,\n",
    "    \"sigma\": 1.0, # Deviation of starting points\n",
    "    \"tol\": 1e-5, # Tolerance (for the norm of gradient)\n",
    "    \"alpha\": 0.0, # Ridge penalty for 2nd order control functionals\n",
    "    \"beta\": 10000.0 # smoothing parameter in the softmax\n",
    "}\n",
    "methods = [\"ESVM\",\"EVM\"]"
   ]
  },
  {
   "cell_type": "code",
   "execution_count": 31,
   "metadata": {},
   "outputs": [
    {
     "name": "stdout",
     "output_type": "stream",
     "text": [
      "2 degree optimization terminated succesfully\n",
      "Jacobian matrix at termination: \n",
      "[-1.75100699e-08  1.86935627e-08  4.81765573e-07 -5.26788546e-08\n",
      " -5.26788546e-08  1.77602075e-07]\n",
      "2 degree optimization terminated succesfully\n",
      "Jacobian matrix at termination: \n",
      "[ 9.56796953e-10  1.18981805e-07 -8.70818440e-09 -3.19860760e-10\n",
      " -3.19860760e-10 -6.42296527e-09]\n",
      "{'ESVM': array([[ 0.06076883,  0.59307151, -0.00563711,  0.02211763,  0.02211763,\n",
      "        -0.03648885]]), 'EVM': array([[ 0.14390782,  0.38528008, -0.00637908,  0.01478276,  0.01478276,\n",
      "        -0.02256197]]), 'LS': [], 'MAX': []}\n"
     ]
    }
   ],
   "source": [
    "coef_dict = optimize_parallel_new(degree,inds_arr,f_vals_evm,traj_evm,traj_grad,opt_structure_train,methods)\n",
    "print(coef_dict)"
   ]
  },
  {
   "cell_type": "code",
   "execution_count": 32,
   "metadata": {},
   "outputs": [],
   "source": [
    "#Create a dictionary and put respective matrices into it\n",
    "test_params = {\n",
    "    \"W\":W_test_spec,\n",
    "    \"step\":step,\n",
    "    \"burn_in\":N_burn,\n",
    "    \"n_test\":N_test,\n",
    "    \"dim\":d\n",
    "}\n",
    "\n",
    "nbcores = multiprocessing.cpu_count()\n",
    "trav = Pool(nbcores)\n",
    "res = trav.starmap(Run_eval_test, [(i,degree,sampler,methods,inds_arr,Cur_pot,test_params,coef_dict,params,f_type) for i in range (n_traj_test)])\n",
    "trav.close()"
   ]
  },
  {
   "cell_type": "code",
   "execution_count": 33,
   "metadata": {},
   "outputs": [
    {
     "name": "stdout",
     "output_type": "stream",
     "text": [
      "['Vanilla', 'ESVM', 'EVM']\n"
     ]
    }
   ],
   "source": [
    "methods_enh = ['Vanilla'] + methods\n",
    "print(methods_enh)\n",
    "ints_result = {key: [] for key in methods_enh}\n",
    "vars_result = {key: [] for key in methods_enh}"
   ]
  },
  {
   "cell_type": "code",
   "execution_count": 34,
   "metadata": {},
   "outputs": [],
   "source": [
    "for i in range(len(res)):\n",
    "    for j in range(len(methods_enh)):\n",
    "        ints_result[methods_enh[j]].append(res[i][0][methods_enh[j]][0])\n",
    "        vars_result[methods_enh[j]].append(res[i][1][methods_enh[j]][0])\n",
    "for key in methods_enh:\n",
    "    ints_result[key] = np.asarray(ints_result[key])\n",
    "    vars_result[key] = np.asarray(vars_result[key])"
   ]
  },
  {
   "cell_type": "markdown",
   "metadata": {},
   "source": [
    "### Bernoulli:: Optimize coefficients by solving regression with polynomial features"
   ]
  },
  {
   "cell_type": "code",
   "execution_count": 35,
   "metadata": {},
   "outputs": [
    {
     "name": "stdout",
     "output_type": "stream",
     "text": [
      "dimension =  10000\n",
      "(100000, 15)\n",
      "(99990, 15)\n",
      "(99980, 15)\n",
      "(99970, 15)\n",
      "(99960, 15)\n",
      "(99950, 15)\n",
      "(99940, 15)\n",
      "(99930, 15)\n",
      "(99920, 15)\n",
      "(99910, 15)\n",
      "(99900, 15)\n",
      "(99890, 15)\n",
      "(99880, 15)\n",
      "(99870, 15)\n",
      "(99860, 15)\n",
      "(99850, 15)\n",
      "(99840, 15)\n",
      "(99830, 15)\n",
      "(99820, 15)\n",
      "(99810, 15)\n",
      "(99800, 15)\n",
      "(99790, 15)\n",
      "(99780, 15)\n",
      "(99770, 15)\n",
      "(99760, 15)\n",
      "(99750, 15)\n",
      "(99740, 15)\n",
      "(99730, 15)\n",
      "(99720, 15)\n",
      "(99710, 15)\n",
      "(99700, 15)\n",
      "(99690, 15)\n",
      "(99680, 15)\n",
      "(99670, 15)\n",
      "(99660, 15)\n",
      "(99650, 15)\n",
      "(99640, 15)\n",
      "(99630, 15)\n",
      "(99620, 15)\n",
      "(99610, 15)\n",
      "(99600, 15)\n",
      "(99590, 15)\n",
      "(99580, 15)\n",
      "(99570, 15)\n",
      "(99560, 15)\n",
      "(99550, 15)\n",
      "(99540, 15)\n",
      "(99530, 15)\n",
      "(99520, 15)\n",
      "(99510, 15)\n",
      "(50, 15)\n"
     ]
    }
   ],
   "source": [
    "#polynomial coefficients\n",
    "coefs_poly = approx_q(traj,f_vals,n_traj_train,lag,S_max)\n",
    "print(coefs_poly.shape)"
   ]
  },
  {
   "cell_type": "markdown",
   "metadata": {},
   "source": [
    "### Use theoretically computed coefficients in regression"
   ]
  },
  {
   "cell_type": "code",
   "execution_count": null,
   "metadata": {},
   "outputs": [],
   "source": [
    "print(coefs_poly.shape)\n",
    "print(coefs_poly)\n",
    "coefs_poly_theor = np.zeros_like(coefs_poly)\n",
    "for ind in range(len(coefs_poly_theor)):\n",
    "    if ind == 0:\n",
    "        coefs_poly_theor[ind,0] = 0\n",
    "    else:\n",
    "        coefs_poly_theor[ind,0] = d*(1-(1-step)**(2*ind))/(1-step/2)   \n",
    "    coefs_poly_theor[ind,3] = (1-step)**(2*ind)\n",
    "    coefs_poly_theor[ind,5] = (1-step)**(2*ind)"
   ]
  },
  {
   "cell_type": "markdown",
   "metadata": {},
   "source": [
    "Test our regressors"
   ]
  },
  {
   "cell_type": "code",
   "execution_count": null,
   "metadata": {},
   "outputs": [],
   "source": [
    "cur_lag = 1\n",
    "N_pts = 100\n",
    "plt.figure(figsize=(10, 10))\n",
    "plt.title(\"Testing regression model\",fontsize=20)\n",
    "plt.plot(traj[0,cur_lag:N_pts],color='r',label='true function')\n",
    "plt.plot(P.polynomial.polyval(traj[0,:N_pts-cur_lag],coefs_poly[cur_lag,:]),color='g',label = 'practical approximation')\n",
    "#plt.plot(P.polynomial.polyval(X_train[0,:N_pts-cur_lag],coefs_poly_theor[cur_lag,:]),color='b',label = 'theoretical approximation')\n",
    "plt.legend(loc = 'lower right',fontsize = 16)\n",
    "plt.show()"
   ]
  },
  {
   "cell_type": "code",
   "execution_count": 36,
   "metadata": {},
   "outputs": [
    {
     "name": "stdout",
     "output_type": "stream",
     "text": [
      "[0. 0.]\n",
      "[0. 0.]\n",
      "[0. 0.]\n",
      "[0. 0.]\n",
      "[0. 0.]\n",
      "[0. 0.]\n",
      "[0. 0.]\n",
      "[0. 0.]\n",
      "[0. 0.]\n",
      "[0. 0.]\n",
      "[0. 0.]\n",
      "[0. 0.]\n",
      "[0. 0.]\n",
      "[0. 0.]\n",
      "[0. 0.]\n",
      "[0. 0.]\n",
      "[0. 0.]\n",
      "[0. 0.]\n",
      "[0. 0.]\n",
      "[0. 0.]\n",
      "[0. 0.]\n",
      "[0. 0.]\n",
      "[0. 0.]\n",
      "[0. 0.]\n"
     ]
    }
   ],
   "source": [
    "test_seed = 1453\n",
    "nbcores = multiprocessing.cpu_count()\n",
    "trav = Pool(nbcores)\n",
    "res = trav.starmap(test_traj, [(Cur_pot,coefs_poly,step,test_seed+i,lag,K_max,S_max,N_burn,N_test,d,f_type,inds_arr,params,x0,fixed_start) for i in range (n_traj_test)])\n",
    "trav.close()"
   ]
  },
  {
   "cell_type": "code",
   "execution_count": 37,
   "metadata": {},
   "outputs": [
    {
     "name": "stdout",
     "output_type": "stream",
     "text": [
      "(24, 2, 2000)\n"
     ]
    }
   ],
   "source": [
    "res_new = np.asarray(res)\n",
    "print(res_new.shape)"
   ]
  },
  {
   "cell_type": "code",
   "execution_count": 38,
   "metadata": {},
   "outputs": [
    {
     "name": "stdout",
     "output_type": "stream",
     "text": [
      "1.070445927297398\n"
     ]
    }
   ],
   "source": [
    "vars_vanilla = np.var(res_new[:,0,:],axis = 0)\n",
    "vars_adj = np.var(res_new[:,1,:],axis = 0)\n",
    "#print(vars_vanilla)\n",
    "#print(vars_adj)\n",
    "print(np.mean(vars_adj[1:]/vars_vanilla[1:]))"
   ]
  },
  {
   "cell_type": "markdown",
   "metadata": {},
   "source": [
    "### Comparison plots"
   ]
  },
  {
   "cell_type": "code",
   "execution_count": 39,
   "metadata": {},
   "outputs": [],
   "source": [
    "title = \"\"\n",
    "labels = ['Vanilla\\n ULA', 'ULA \\nwith MDCV', 'ULA \\nwith EVM','ULA\\nwith ESVM']"
   ]
  },
  {
   "cell_type": "code",
   "execution_count": 40,
   "metadata": {},
   "outputs": [
    {
     "data": {
      "image/png": "[encoded data removed]",
      "text/plain": [
       "<Figure size 500x400 with 1 Axes>"
      ]
     },
     "metadata": {
      "needs_background": "light"
     },
     "output_type": "display_data"
    }
   ],
   "source": [
    "data = [ints_result['Vanilla'][:,0],res_new[:,1,-1],ints_result['EVM'][:,0],ints_result['ESVM'][:,0]] \n",
    "boxplot_ind(data, title, labels)"
   ]
  },
  {
   "cell_type": "code",
   "execution_count": 41,
   "metadata": {},
   "outputs": [],
   "source": [
    "title = \"\"\n",
    "labels = ['ULA \\nwith MDCV', 'ULA \\nwith EVM','ULA\\nwith ESVM']"
   ]
  },
  {
   "cell_type": "code",
   "execution_count": 42,
   "metadata": {},
   "outputs": [
    {
     "data": {
      "image/png": "[encoded data removed]",
      "text/plain": [
       "<Figure size 500x400 with 1 Axes>"
      ]
     },
     "metadata": {
      "needs_background": "light"
     },
     "output_type": "display_data"
    }
   ],
   "source": [
    "data = [res_new[:,1,-1],ints_result['EVM'][:,0],ints_result['ESVM'][:,0]] \n",
    "boxplot_ind(data, title, labels)"
   ]
  },
  {
   "cell_type": "code",
   "execution_count": null,
   "metadata": {},
   "outputs": [],
   "source": []
  },
  {
   "cell_type": "code",
   "execution_count": null,
   "metadata": {},
   "outputs": [],
   "source": []
  }
 ],
 "metadata": {
  "kernelspec": {
   "display_name": "Python 3",
   "language": "python",
   "name": "python3"
  },
  "language_info": {
   "codemirror_mode": {
    "name": "ipython",
    "version": 3
   },
   "file_extension": ".py",
   "mimetype": "text/x-python",
   "name": "python",
   "nbconvert_exporter": "python",
   "pygments_lexer": "ipython3",
   "version": "3.7.3"
  }
 },
 "nbformat": 4,
 "nbformat_minor": 2
}
