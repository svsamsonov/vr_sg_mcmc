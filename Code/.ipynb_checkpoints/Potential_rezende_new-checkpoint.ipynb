{
 "cells": [
  {
   "cell_type": "code",
   "execution_count": null,
   "metadata": {},
   "outputs": [],
   "source": [
    "import numpy as np\n",
    "import numpy.polynomial as P\n",
    "import scipy as sp\n",
    "from matplotlib import pyplot as plt\n",
    "from tqdm import tqdm\n",
    "#from sklearn.preprocessing import PolynomialFeatures\n",
    "from multiprocessing import Pool\n",
    "import multiprocessing\n",
    "import ZVnbrosse\n",
    "from potentials import PotentialOne, PotentialTwo, PotentialThree, PotentialOnePrime\n",
    "from zv_cv import Eval_ZVCV_Gaus\n",
    "from samplers import MCMC_sampler,Generate_train,ULA_light\n",
    "from baselines import set_function,construct_ESVM_kernel,GenerateSigma\n",
    "from martingale import approx_q,test_traj\n",
    "from optimize import Run_eval_test,optimize_parallel_new \n",
    "from utils import *\n",
    "import copy"
   ]
  },
  {
   "cell_type": "code",
   "execution_count": null,
   "metadata": {},
   "outputs": [],
   "source": [
    "N_burn = 1*10**4 # Burn in period\n",
    "N_train = 1*10**4 # Number of samples on which we optimize\n",
    "step = 0.1 # Step size\n",
    "#put 0.5 for MALA\n",
    "#step = 0.2\n",
    "n_traj = 20 # Number of independent MCMC trajectories for test\n",
    "f_type = \"sum\"\n",
    "bn = 100\n",
    "W_test = construct_ESVM_kernel(N_train,bn)"
   ]
  },
  {
   "cell_type": "markdown",
   "metadata": {},
   "source": [
    "Choose density parameters"
   ]
  },
  {
   "cell_type": "code",
   "execution_count": null,
   "metadata": {},
   "outputs": [],
   "source": [
    "d = 2\n",
    "#B = np.pi/2\n",
    "M = 1.0\n",
    "mu = 3.0\n",
    "sigma = 3.0\n",
    "Cur_pot = PotentialThree(M,mu,sigma,d)\n",
    "#mu = 0.5\n",
    "#sigma = 0.5\n",
    "#M = 1.0\n",
    "#Cur_pot = PotentialTwo(M,mu,sigma,d)"
   ]
  },
  {
   "cell_type": "markdown",
   "metadata": {},
   "source": [
    "### Visualize level sets of the potential"
   ]
  },
  {
   "cell_type": "code",
   "execution_count": null,
   "metadata": {},
   "outputs": [],
   "source": [
    "mu_1 = 3.0\n",
    "mu_2 = 3.0\n",
    "M = 1.0\n",
    "sigma = 3.0\n",
    "###\n",
    "def U(x, y):\n",
    "    return -1./(2*M**2)*(np.sqrt(x**2 + y**2) - mu_1)**2 + np.log(np.exp(-1/(2*sigma**2)*(x-mu_2)**2) + np.exp(-1/(2*sigma**2)*(x+mu_2)**2))\n",
    "\n",
    "x = np.linspace(-5, 5, 200)\n",
    "y = np.linspace(-5, 5, 200)\n",
    "\n",
    "X, Y = np.meshgrid(x, y)\n",
    "Z = np.exp(U(X, Y))"
   ]
  },
  {
   "cell_type": "code",
   "execution_count": null,
   "metadata": {},
   "outputs": [],
   "source": [
    "plt.imshow(Z, extent=[-5, 5, -5, 5], origin='lower',\n",
    "           cmap='RdGy')\n",
    "plt.colorbar()\n",
    "plt.axis(aspect='image')"
   ]
  },
  {
   "cell_type": "markdown",
   "metadata": {},
   "source": [
    "### Generate data"
   ]
  },
  {
   "cell_type": "code",
   "execution_count": null,
   "metadata": {},
   "outputs": [],
   "source": [
    "sampler = {\"sampler\":\"RWM\",\"burn_type\":\"full\",\"main_type\":\"full\"} # Sampling method\n",
    "\n",
    "if sampler[\"sampler\"] == \"ULA\":\n",
    "    res = Generate_train(n_traj, sampler, Cur_pot, step, N_burn, N_train, d)\n",
    "    res = np.asarray(res)\n",
    "    traj,traj_grad = res[:,0,:,:],res[:,1,:,:]\n",
    "else:\n",
    "    res = Generate_train(n_traj, sampler, Cur_pot, step, N_burn, N_train, d)\n",
    "    traj = []\n",
    "    traj_grad = []\n",
    "    for i in range(len(res)):\n",
    "        traj.append(res[i][0])\n",
    "        traj_grad.append(res[i][1])\n",
    "        print(\"accepted = \",res[i][2])\n",
    "    traj = np.asarray(traj)\n",
    "    traj_grad = np.asarray(traj_grad)"
   ]
  },
  {
   "cell_type": "markdown",
   "metadata": {},
   "source": [
    "### Visualize training trajectories"
   ]
  },
  {
   "cell_type": "code",
   "execution_count": null,
   "metadata": {},
   "outputs": [],
   "source": [
    "visualize_scatter_2d(traj[0,:,:])"
   ]
  },
  {
   "cell_type": "markdown",
   "metadata": {},
   "source": [
    "### Run variance reduction"
   ]
  },
  {
   "cell_type": "code",
   "execution_count": null,
   "metadata": {},
   "outputs": [],
   "source": [
    "print(traj.shape)\n",
    "print(traj_grad.shape)\n",
    "traj_grad = (-1)*traj_grad"
   ]
  },
  {
   "cell_type": "code",
   "execution_count": null,
   "metadata": {},
   "outputs": [],
   "source": [
    "test_seed = 1453\n",
    "f_type = \"sum\"\n",
    "nbcores = multiprocessing.cpu_count()\n",
    "trav = Pool(nbcores)\n",
    "res = trav.starmap(Eval_ZVCV_Gaus, [(traj[i,:,:],traj_grad[i,:,:],f_type,None,W_test) for i in range (n_traj)])\n",
    "trav.close()"
   ]
  },
  {
   "cell_type": "code",
   "execution_count": null,
   "metadata": {},
   "outputs": [],
   "source": [
    "res_arr = np.asarray(res)\n",
    "print(res_arr.shape)"
   ]
  },
  {
   "cell_type": "markdown",
   "metadata": {},
   "source": [
    "### Saving results"
   ]
  },
  {
   "cell_type": "code",
   "execution_count": null,
   "metadata": {},
   "outputs": [],
   "source": [
    "#np.save(\"rezende/rwm_quadratic_15_04.npy\",res_arr)\n",
    "print(\"Average vr rates:\")\n",
    "print(\"ZV-1:\",np.mean(res_arr[:,1,0]/res_arr[:,1,1]))\n",
    "print(\"CV-1:\",np.mean(res_arr[:,1,0]/res_arr[:,1,2]))\n",
    "#print(\"ZV-2:\",np.mean(res_arr[:,1,0]/res_arr[:,1,2]))\n",
    "#print(\"CV-2:\",np.mean(res_arr[:,1,0]/res_arr[:,1,4]))"
   ]
  },
  {
   "cell_type": "markdown",
   "metadata": {},
   "source": [
    "### Comparison plots"
   ]
  },
  {
   "cell_type": "code",
   "execution_count": null,
   "metadata": {},
   "outputs": [],
   "source": [
    "title = \"\"\n",
    "labels = ['Vanilla\\n RWM', 'RWM \\nwith ZV-1', 'RWM \\nwith CV-1']"
   ]
  },
  {
   "cell_type": "code",
   "execution_count": null,
   "metadata": {},
   "outputs": [],
   "source": [
    "data = [res_arr[:,0,0],res_arr[:,0,1],res_arr[:,0,2]] \n",
    "boxplot_ind(data, title, labels)"
   ]
  },
  {
   "cell_type": "code",
   "execution_count": null,
   "metadata": {},
   "outputs": [],
   "source": [
    "title = \"\"\n",
    "labels = ['ULA \\nwith ZV-1', 'ULA \\nwith CV-1']"
   ]
  },
  {
   "cell_type": "code",
   "execution_count": null,
   "metadata": {},
   "outputs": [],
   "source": [
    "data = [res_arr[:,0,1],res_arr[:,0,3]] \n",
    "boxplot_ind(data, title, labels)"
   ]
  },
  {
   "cell_type": "code",
   "execution_count": null,
   "metadata": {},
   "outputs": [],
   "source": [
    "title = \"\"\n",
    "labels = ['Vanilla\\n MALA', 'MALA \\nwith ZV-2', 'MALA \\nwith CV-2']"
   ]
  },
  {
   "cell_type": "code",
   "execution_count": null,
   "metadata": {},
   "outputs": [],
   "source": [
    "data = [res_arr[:,0,0],res_arr[:,0,2],res_arr[:,0,4]] \n",
    "boxplot_ind(data, title, labels)"
   ]
  },
  {
   "cell_type": "code",
   "execution_count": null,
   "metadata": {},
   "outputs": [],
   "source": [
    "title = \"\"\n",
    "labels = ['ULA \\nwith ZV-2', 'ULA \\nwith CV-2']"
   ]
  },
  {
   "cell_type": "code",
   "execution_count": null,
   "metadata": {},
   "outputs": [],
   "source": [
    "data = [res_arr[:,0,2],res_arr[:,0,4]] \n",
    "boxplot_ind(data, title, labels)"
   ]
  },
  {
   "cell_type": "code",
   "execution_count": null,
   "metadata": {},
   "outputs": [],
   "source": []
  },
  {
   "cell_type": "code",
   "execution_count": null,
   "metadata": {},
   "outputs": [],
   "source": []
  }
 ],
 "metadata": {
  "kernelspec": {
   "display_name": "Python 3",
   "language": "python",
   "name": "python3"
  },
  "language_info": {
   "codemirror_mode": {
    "name": "ipython",
    "version": 3
   },
   "file_extension": ".py",
   "mimetype": "text/x-python",
   "name": "python",
   "nbconvert_exporter": "python",
   "pygments_lexer": "ipython3",
   "version": "3.6.7"
  }
 },
 "nbformat": 4,
 "nbformat_minor": 2
}
