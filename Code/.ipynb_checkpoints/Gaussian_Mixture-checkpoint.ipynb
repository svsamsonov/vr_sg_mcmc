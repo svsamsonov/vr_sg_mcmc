{
 "cells": [
  {
   "cell_type": "code",
   "execution_count": 26,
   "metadata": {},
   "outputs": [],
   "source": [
    "import numpy as np\n",
    "import numpy.polynomial as P\n",
    "import scipy as sp\n",
    "from matplotlib import pyplot as plt\n",
    "from tqdm import tqdm\n",
    "#from sklearn.preprocessing import PolynomialFeatures\n",
    "from multiprocessing import Pool\n",
    "import multiprocessing\n",
    "import ZVnbrosse\n",
    "from potentials import GaussPotential,GaussMixture,GausMixtureIdent,GausMixtureSame\n",
    "from samplers import MCMC_sampler,Generate_train,ULA_light\n",
    "from baselines import set_function,construct_ESVM_kernel,GenerateSigma\n",
    "from martingale import approx_q,approx_q_independent,test_traj\n",
    "from optimize import Run_eval_test,optimize_parallel_new \n",
    "from utils import *\n",
    "import copy"
   ]
  },
  {
   "cell_type": "code",
   "execution_count": 27,
   "metadata": {},
   "outputs": [
    {
     "name": "stdout",
     "output_type": "stream",
     "text": [
      "12\n"
     ]
    }
   ],
   "source": [
    "N_burn = 1*10**3 # Burn in period\n",
    "N_train = 1*10**4 # Number of samples on which we optimize\n",
    "N_test = 2*10**3 # Number of samples\n",
    "step = 0.1 # Step size\n",
    "#step = 0.2\n",
    "n_traj_train = 10\n",
    "n_traj_test = 24 # Number of independent MCMC trajectories for test\n",
    "f_type = \"sum_squares\"\n",
    "K_max = 2 #max degree of Hermite polynomial\n",
    "S_max = 2 #max degree of polynomial during regression stage\n",
    "lag = 50 #maximal lag order\n",
    "b_n_train = 20 #lag-window size\n",
    "b_n_test = int(np.round(N_test**(0.33)))\n",
    "print(b_n_test)\n",
    "degree = 2\n",
    "#for independent sampling\n",
    "n_traj_train_indep = 5*10**4"
   ]
  },
  {
   "cell_type": "markdown",
   "metadata": {},
   "source": [
    "Choose sampler type (currently only ULA is maintained)"
   ]
  },
  {
   "cell_type": "code",
   "execution_count": 28,
   "metadata": {},
   "outputs": [],
   "source": [
    "d = 2\n",
    "mu = 0.5*np.array([0.0,0.0],dtype = float)\n",
    "#mu_1 = np.array([-1.0])\n",
    "#mu_2 = np.array([1.0])\n",
    "#Sigma_1 = np.array([[1.0]])\n",
    "#Sigma_2 = np.array([[1.0]])\n",
    "#Sigma = GenerateSigma(d,rand_seed = 777,eps = 0.1) #covariation matrix \n",
    "p = 0.5\n",
    "#Cur_pot = GausMixtureSame(Sigma,mu,p)\n",
    "#Cur_pot = GaussMixture(Sigma_1,Sigma_2,mu_1,mu_2,p)\n",
    "Cur_pot = GausMixtureIdent(mu,p)\n",
    "r_seed = 777\n",
    "x0 = np.array([0.0,0.0])\n",
    "fixed_start = True"
   ]
  },
  {
   "cell_type": "markdown",
   "metadata": {},
   "source": [
    "### Generate data"
   ]
  },
  {
   "cell_type": "code",
   "execution_count": 29,
   "metadata": {},
   "outputs": [
    {
     "name": "stdout",
     "output_type": "stream",
     "text": [
      "(10, 10000, 2)\n"
     ]
    }
   ],
   "source": [
    "r_seed = 777\n",
    "traj = np.zeros((n_traj_train,N_train,d),dtype = float)\n",
    "for i in range(n_traj_train):\n",
    "    cur_traj = ULA_light(r_seed+i,Cur_pot,step, N_burn, N_train, d, return_noise = False, x0 = x0, fixed_start = fixed_start)\n",
    "    traj[i] = copy.deepcopy(cur_traj)\n",
    "print(traj.shape)"
   ]
  },
  {
   "cell_type": "code",
   "execution_count": 30,
   "metadata": {},
   "outputs": [
    {
     "name": "stdout",
     "output_type": "stream",
     "text": [
      "(50000, 50, 2)\n",
      "(50000, 50, 1)\n"
     ]
    }
   ],
   "source": [
    "traj_independent = np.zeros((n_traj_train_indep,lag,d),dtype = float)\n",
    "for i in range(n_traj_train_indep):\n",
    "    cur_traj = ULA_light(r_seed+i,Cur_pot,step, 0, lag, d, return_noise = False, x0 = x0, fixed_start = False)\n",
    "    traj_independent[i] = copy.deepcopy(cur_traj)\n",
    "print(traj_independent.shape)\n",
    "\n",
    "\n",
    "inds_arr = np.array([0]) # Taking the second index (not intercept)\n",
    "params = None    \n",
    "f_vals_independent = set_function(f_type,traj_independent,inds_arr,params) \n",
    "print(f_vals_independent.shape)"
   ]
  },
  {
   "cell_type": "code",
   "execution_count": 31,
   "metadata": {},
   "outputs": [
    {
     "name": "stdout",
     "output_type": "stream",
     "text": [
      "[0.97666946 1.7008986 ]\n"
     ]
    }
   ],
   "source": [
    "print(traj_independent[1,0,:])"
   ]
  },
  {
   "cell_type": "code",
   "execution_count": 32,
   "metadata": {},
   "outputs": [
    {
     "name": "stdout",
     "output_type": "stream",
     "text": [
      "(10, 10000, 1)\n"
     ]
    }
   ],
   "source": [
    "inds_arr = np.array([0]) # Taking the second index (not intercept)\n",
    "params = None    \n",
    "f_vals = set_function(f_type,traj,inds_arr,params) \n",
    "#f_vals = traj[:,:,0]\n",
    "#f_vals = np.expand_dims(f_vals, axis=2)\n",
    "print(f_vals.shape)"
   ]
  },
  {
   "cell_type": "markdown",
   "metadata": {},
   "source": [
    "### Evaluate baselines (EVM and ESVM methods)"
   ]
  },
  {
   "cell_type": "code",
   "execution_count": null,
   "metadata": {},
   "outputs": [],
   "source": [
    "sampler = {\"sampler\":\"ULA\",\"burn_type\":\"full\",\"main_type\":\"full\"} # Sampling method\n",
    "\n",
    "if sampler[\"sampler\"] == \"ULA\":\n",
    "    res = Generate_train(n_traj_train, sampler, Cur_pot, step, N_burn, N_train, d)\n",
    "    res = np.asarray(res)\n",
    "    traj_evm,traj_grad = res[:,0,:,:],res[:,1,:,:]\n",
    "else:\n",
    "    raise \"You should use ULA!\""
   ]
  },
  {
   "cell_type": "code",
   "execution_count": null,
   "metadata": {},
   "outputs": [],
   "source": [
    "print(traj.shape)\n",
    "inds_arr = np.array([0])#Taking the second index\n",
    "params = None\n",
    "f_vals_evm = set_function(f_type,traj_evm,inds_arr,params)"
   ]
  },
  {
   "cell_type": "code",
   "execution_count": null,
   "metadata": {},
   "outputs": [],
   "source": [
    "print(f_vals_evm)\n",
    "print(f_vals)"
   ]
  },
  {
   "cell_type": "code",
   "execution_count": null,
   "metadata": {},
   "outputs": [],
   "source": [
    "W_train_spec = construct_ESVM_kernel(N_train,b_n_train) #weight matrix for train\n",
    "W_test_spec = construct_ESVM_kernel(N_test,b_n_test) #weight matrix for test\n",
    "opt_structure_train = {\n",
    "    \"W\":W_train_spec,\n",
    "    \"n_restarts\": 3, # Number of restarts during optimization,\n",
    "    \"sigma\": 1.0, # Deviation of starting points\n",
    "    \"tol\": 1e-5, # Tolerance (for the norm of gradient)\n",
    "    \"alpha\": 0.0, # Ridge penalty for 2nd order control functionals\n",
    "    \"beta\": 10000.0 # smoothing parameter in the softmax\n",
    "}\n",
    "methods = [\"ESVM\",\"EVM\"]"
   ]
  },
  {
   "cell_type": "code",
   "execution_count": null,
   "metadata": {},
   "outputs": [],
   "source": [
    "coef_dict = optimize_parallel_new(degree,inds_arr,f_vals_evm,traj_evm,traj_grad,opt_structure_train,methods)\n",
    "print(coef_dict)"
   ]
  },
  {
   "cell_type": "code",
   "execution_count": null,
   "metadata": {},
   "outputs": [],
   "source": [
    "#Create a dictionary and put respective matrices into it\n",
    "test_params = {\n",
    "    \"W\":W_test_spec,\n",
    "    \"step\":step,\n",
    "    \"burn_in\":N_burn,\n",
    "    \"n_test\":N_test,\n",
    "    \"dim\":d\n",
    "}\n",
    "\n",
    "nbcores = multiprocessing.cpu_count()\n",
    "trav = Pool(nbcores)\n",
    "res = trav.starmap(Run_eval_test, [(i,degree,sampler,methods,inds_arr,Cur_pot,test_params,coef_dict,params,f_type) for i in range (n_traj_test)])\n",
    "trav.close()"
   ]
  },
  {
   "cell_type": "code",
   "execution_count": null,
   "metadata": {},
   "outputs": [],
   "source": [
    "methods_enh = ['Vanilla'] + methods\n",
    "print(methods_enh)\n",
    "ints_result = {key: [] for key in methods_enh}\n",
    "vars_result = {key: [] for key in methods_enh}"
   ]
  },
  {
   "cell_type": "code",
   "execution_count": null,
   "metadata": {},
   "outputs": [],
   "source": [
    "for i in range(len(res)):\n",
    "    for j in range(len(methods_enh)):\n",
    "        ints_result[methods_enh[j]].append(res[i][0][methods_enh[j]][0])\n",
    "        vars_result[methods_enh[j]].append(res[i][1][methods_enh[j]][0])\n",
    "for key in methods_enh:\n",
    "    ints_result[key] = np.asarray(ints_result[key])\n",
    "    vars_result[key] = np.asarray(vars_result[key])"
   ]
  },
  {
   "cell_type": "markdown",
   "metadata": {},
   "source": [
    "### Bernoulli:: Optimize coefficients by solving regression with polynomial features"
   ]
  },
  {
   "cell_type": "code",
   "execution_count": 33,
   "metadata": {},
   "outputs": [
    {
     "name": "stdout",
     "output_type": "stream",
     "text": [
      "dimension =  10000\n",
      "(100000, 6)\n",
      "(99990, 6)\n",
      "(99980, 6)\n",
      "(99970, 6)\n",
      "(99960, 6)\n",
      "(99950, 6)\n",
      "(99940, 6)\n",
      "(99930, 6)\n",
      "(99920, 6)\n",
      "(99910, 6)\n",
      "(99900, 6)\n",
      "(99890, 6)\n",
      "(99880, 6)\n",
      "(99870, 6)\n",
      "(99860, 6)\n",
      "(99850, 6)\n",
      "(99840, 6)\n",
      "(99830, 6)\n",
      "(99820, 6)\n",
      "(99810, 6)\n",
      "(99800, 6)\n",
      "(99790, 6)\n",
      "(99780, 6)\n",
      "(99770, 6)\n",
      "(99760, 6)\n",
      "(99750, 6)\n",
      "(99740, 6)\n",
      "(99730, 6)\n",
      "(99720, 6)\n",
      "(99710, 6)\n",
      "(99700, 6)\n",
      "(99690, 6)\n",
      "(99680, 6)\n",
      "(99670, 6)\n",
      "(99660, 6)\n",
      "(99650, 6)\n",
      "(99640, 6)\n",
      "(99630, 6)\n",
      "(99620, 6)\n",
      "(99610, 6)\n",
      "(99600, 6)\n",
      "(99590, 6)\n",
      "(99580, 6)\n",
      "(99570, 6)\n",
      "(99560, 6)\n",
      "(99550, 6)\n",
      "(99540, 6)\n",
      "(99530, 6)\n",
      "(99520, 6)\n",
      "(99510, 6)\n",
      "(50, 6)\n",
      "dimension =  50\n",
      "(50000, 6)\n",
      "(50000, 6)\n",
      "(50000, 6)\n",
      "(50000, 6)\n",
      "(50000, 6)\n",
      "(50000, 6)\n",
      "(50000, 6)\n",
      "(50000, 6)\n",
      "(50000, 6)\n",
      "(50000, 6)\n",
      "(50000, 6)\n",
      "(50000, 6)\n",
      "(50000, 6)\n",
      "(50000, 6)\n",
      "(50000, 6)\n",
      "(50000, 6)\n",
      "(50000, 6)\n",
      "(50000, 6)\n",
      "(50000, 6)\n",
      "(50000, 6)\n",
      "(50000, 6)\n",
      "(50000, 6)\n",
      "(50000, 6)\n",
      "(50000, 6)\n",
      "(50000, 6)\n",
      "(50000, 6)\n",
      "(50000, 6)\n",
      "(50000, 6)\n",
      "(50000, 6)\n",
      "(50000, 6)\n",
      "(50000, 6)\n",
      "(50000, 6)\n",
      "(50000, 6)\n",
      "(50000, 6)\n",
      "(50000, 6)\n",
      "(50000, 6)\n",
      "(50000, 6)\n",
      "(50000, 6)\n",
      "(50000, 6)\n",
      "(50000, 6)\n",
      "(50000, 6)\n",
      "(50000, 6)\n",
      "(50000, 6)\n",
      "(50000, 6)\n",
      "(50000, 6)\n",
      "(50000, 6)\n",
      "(50000, 6)\n",
      "(50000, 6)\n",
      "(50000, 6)\n",
      "(50000, 6)\n",
      "(50, 6)\n"
     ]
    }
   ],
   "source": [
    "#polynomial coefficients\n",
    "coefs_poly = approx_q(traj,f_vals,n_traj_train,lag,S_max)\n",
    "print(coefs_poly.shape)\n",
    "coefs_poly_independent = approx_q_independent(traj_independent,f_vals_independent,n_traj_train_indep,lag,S_max)\n",
    "print(coefs_poly_independent.shape)"
   ]
  },
  {
   "cell_type": "code",
   "execution_count": 34,
   "metadata": {},
   "outputs": [
    {
     "name": "stdout",
     "output_type": "stream",
     "text": [
      "[[ 1.62283167e-14  4.44089210e-16 -1.36152754e-15  1.00000000e+00\n",
      "   1.38083989e-15  1.00000000e+00]\n",
      " [ 3.98688570e-01  1.63076214e-03 -7.08921360e-04  8.08858024e-01\n",
      "   8.75735460e-04  8.09889350e-01]\n",
      " [ 7.04992319e-01 -5.33151181e-03 -4.89529929e-04  6.54593018e-01\n",
      "  -4.47716425e-04  6.55934166e-01]\n",
      " [ 9.92831753e-01 -2.28122775e-03 -2.16977701e-03  5.30678194e-01\n",
      "  -9.96968663e-04  5.31870916e-01]\n",
      " [ 1.25552352e+00  2.73370062e-03 -7.11356886e-03  4.28634051e-01\n",
      "  -1.98503672e-03  4.29158371e-01]\n",
      " [ 1.38737907e+00  1.15978032e-02 -8.83498586e-03  3.47629139e-01\n",
      "  -4.86096418e-04  3.47786891e-01]\n",
      " [ 1.51973796e+00  5.79244462e-03 -8.52717521e-03  2.81404285e-01\n",
      "  -1.36568151e-03  2.82192037e-01]\n",
      " [ 1.60943576e+00  5.24036656e-03 -5.83562996e-03  2.28664557e-01\n",
      "  -8.04634945e-04  2.29067235e-01]\n",
      " [ 1.67425961e+00  1.71541976e-03 -2.83325416e-03  1.84814119e-01\n",
      "   5.29222353e-04  1.87124639e-01]\n",
      " [ 1.77092225e+00  4.64090271e-03 -2.77510831e-03  1.49300758e-01\n",
      "  -9.71130151e-04  1.51128006e-01]\n",
      " [ 1.83164661e+00  3.43103908e-03 -6.41366769e-03  1.21883573e-01\n",
      "  -1.29801166e-03  1.22107546e-01]\n",
      " [ 1.86212572e+00  2.40202248e-03 -6.31748265e-03  9.85896942e-02\n",
      "  -8.25730184e-04  9.93989466e-02]\n",
      " [ 1.92188351e+00  3.63065029e-03 -8.15317018e-03  8.02584927e-02\n",
      "  -4.30582662e-04  7.99008161e-02]\n",
      " [ 1.93051477e+00 -2.03518556e-04 -1.92967704e-03  6.57210877e-02\n",
      "  -2.30557894e-04  6.53190641e-02]\n",
      " [ 1.96523099e+00  5.69933037e-05 -1.00085720e-03  5.29221852e-02\n",
      "  -5.68770342e-04  5.28819746e-02]\n",
      " [ 1.99864167e+00  2.49959056e-04  1.65438042e-04  4.26226444e-02\n",
      "  -2.55623777e-04  4.28981268e-02]\n",
      " [ 2.01742947e+00 -1.49180951e-03  3.26659459e-04  3.44731230e-02\n",
      "  -9.64448538e-05  3.47733936e-02]\n",
      " [ 2.03204460e+00 -2.00480401e-03  2.61130378e-03  2.80606618e-02\n",
      "  -3.01433926e-04  2.82558913e-02]\n",
      " [ 2.04434568e+00  1.54560701e-04  1.86519681e-03  2.27558989e-02\n",
      "   1.62168357e-05  2.27311074e-02]\n",
      " [ 2.05768772e+00  2.61935687e-03  7.49950215e-04  1.83591736e-02\n",
      "   6.98568346e-04  1.85490352e-02]\n",
      " [ 2.06760184e+00  1.00044229e-03  2.03132573e-03  1.46155464e-02\n",
      "   5.16885529e-04  1.48551370e-02]\n",
      " [ 2.07902708e+00  1.10756073e-03 -9.72587841e-04  1.19348912e-02\n",
      "   3.77168468e-04  1.22037448e-02]\n",
      " [ 2.08210697e+00 -4.17196538e-04 -1.78874140e-03  9.65663567e-03\n",
      "  -9.75505259e-05  1.00072719e-02]\n",
      " [ 2.08427203e+00 -6.30675962e-04 -2.76196531e-03  7.72864202e-03\n",
      "   4.45806374e-04  8.33698059e-03]\n",
      " [ 2.08843865e+00 -1.31714537e-03 -3.53216461e-03  6.28829392e-03\n",
      "   1.56165260e-04  6.70905611e-03]\n",
      " [ 2.08960736e+00 -4.16012039e-03 -1.31098553e-03  4.92531305e-03\n",
      "   1.35141379e-04  5.41028309e-03]\n",
      " [ 2.09961748e+00 -5.44864015e-03 -3.22421040e-03  3.95298906e-03\n",
      "  -5.99239083e-04  4.55668968e-03]\n",
      " [ 2.09190947e+00 -3.14433119e-03 -4.16953947e-03  3.08676415e-03\n",
      "  -9.46538565e-04  3.74441922e-03]\n",
      " [ 2.09412603e+00 -1.86017437e-03 -2.79978592e-03  2.59370350e-03\n",
      "  -8.25401760e-04  3.09006276e-03]\n",
      " [ 2.08245227e+00 -2.04629585e-03 -2.64199742e-03  2.18473015e-03\n",
      "  -4.72679203e-04  2.84007062e-03]\n",
      " [ 2.08144631e+00 -2.21383516e-03 -3.65071367e-03  1.94469123e-03\n",
      "   7.53472199e-05  2.16814025e-03]\n",
      " [ 2.08014535e+00 -3.11450320e-03 -3.29731644e-03  1.56849209e-03\n",
      "  -3.77308806e-05  2.08425365e-03]\n",
      " [ 2.08588411e+00 -3.11968868e-03 -3.51003622e-03  1.28005635e-03\n",
      "  -1.24364414e-04  1.67312086e-03]\n",
      " [ 2.07784205e+00 -2.83872470e-03 -4.15279133e-03  1.11479622e-03\n",
      "  -1.72360717e-04  1.49543178e-03]\n",
      " [ 2.08753772e+00  1.99610185e-04 -3.75711596e-03  1.19324392e-03\n",
      "  -8.96620199e-05  9.32254094e-04]\n",
      " [ 2.08882537e+00  7.71665087e-04 -2.23418260e-03  9.27021013e-04\n",
      "  -2.72841924e-04  7.86071643e-04]\n",
      " [ 2.08804599e+00 -7.45688067e-04 -2.68259250e-03  8.88397033e-04\n",
      "  -3.21879166e-04  7.05609810e-04]\n",
      " [ 2.09030061e+00 -5.68533742e-04 -1.45316070e-03  6.90764852e-04\n",
      "  -7.56833579e-05  4.04088329e-04]\n",
      " [ 2.10474618e+00  2.82766309e-05  2.41424767e-04  5.75826583e-04\n",
      "  -3.25146386e-05  1.10705110e-04]\n",
      " [ 2.10377512e+00  3.93105942e-04 -6.04150858e-04  2.50564986e-04\n",
      "   8.95094204e-05  1.91368417e-04]\n",
      " [ 2.11113263e+00 -1.95676356e-03 -1.52275417e-03  5.97507492e-05\n",
      "   1.91656297e-04  2.71375796e-04]\n",
      " [ 2.11350315e+00 -2.08732175e-03 -2.63281961e-03  6.24805165e-05\n",
      "   1.91727779e-04  2.41594608e-04]\n",
      " [ 2.11768578e+00 -2.64099504e-03 -1.26170922e-03  9.15407162e-06\n",
      "   7.15277297e-05  1.09242047e-04]\n",
      " [ 2.11446351e+00 -3.98707192e-03 -6.93154127e-04  5.97911472e-05\n",
      "   9.01918651e-05  9.35103907e-05]\n",
      " [ 2.10257306e+00 -1.58989827e-03 -2.19427634e-04  5.39396773e-05\n",
      "  -6.80933966e-05  4.09198818e-04]\n",
      " [ 2.11271534e+00 -4.02733798e-04 -3.40699928e-04 -2.09152213e-04\n",
      "  -2.44082017e-04  3.79635514e-04]\n",
      " [ 2.10202519e+00  1.46738951e-03 -1.44213649e-03 -3.88225570e-05\n",
      "  -2.15001531e-04  5.52529799e-04]\n",
      " [ 2.10526213e+00  1.89199968e-03 -3.90437402e-03  8.46562145e-05\n",
      "  -3.89063940e-04  1.64248129e-04]\n",
      " [ 2.10122928e+00  1.26516795e-03 -1.01558148e-03  9.97182432e-05\n",
      "  -2.56936551e-04  1.24537851e-04]\n",
      " [ 2.11534852e+00 -7.80856203e-04 -2.18883357e-03 -1.10099039e-04\n",
      "  -8.05542337e-05 -1.49308243e-04]]\n"
     ]
    }
   ],
   "source": [
    "print(coefs_poly_independent)"
   ]
  },
  {
   "cell_type": "markdown",
   "metadata": {},
   "source": [
    "### Use theoretically computed coefficients in regression"
   ]
  },
  {
   "cell_type": "code",
   "execution_count": 35,
   "metadata": {},
   "outputs": [
    {
     "name": "stdout",
     "output_type": "stream",
     "text": [
      "(50, 6)\n",
      "[[ 7.41694749e-15  0.00000000e+00 -6.41847686e-17  1.00000000e+00\n",
      "   5.37764278e-17  1.00000000e+00]\n",
      " [ 4.13064707e-01 -3.77888639e-03 -6.72243351e-04  8.05510420e-01\n",
      "   6.10010866e-03  8.03043176e-01]\n",
      " [ 7.46001589e-01 -7.73362721e-03  3.79212992e-04  6.49628264e-01\n",
      "   7.41825304e-03  6.43405639e-01]\n",
      " [ 1.01388898e+00 -1.08965663e-02  3.10658011e-05  5.24311348e-01\n",
      "   2.34053537e-03  5.14862364e-01]\n",
      " [ 1.22873371e+00 -1.16601068e-02 -9.91370552e-04  4.23388351e-01\n",
      "   1.09217727e-03  4.12186197e-01]\n",
      " [ 1.39764205e+00 -1.33658207e-02  4.30025875e-04  3.41132561e-01\n",
      "   3.54913444e-03  3.34359002e-01]\n",
      " [ 1.53684358e+00 -1.47528211e-02  3.19955127e-04  2.73522195e-01\n",
      "   9.44378700e-03  2.69998618e-01]\n",
      " [ 1.64791520e+00 -1.70154050e-02  1.07092866e-03  2.19870377e-01\n",
      "   1.23288370e-02  2.18337194e-01]\n",
      " [ 1.73871042e+00 -1.68124909e-02  3.67727916e-03  1.75415935e-01\n",
      "   1.40263469e-02  1.76765566e-01]\n",
      " [ 1.81446102e+00 -1.54995972e-02  8.48694597e-03  1.38723194e-01\n",
      "   1.53602051e-02  1.41727783e-01]\n",
      " [ 1.87851191e+00 -1.36539092e-02  1.14163504e-02  1.08589546e-01\n",
      "   1.51266264e-02  1.11152594e-01]\n",
      " [ 1.93282641e+00 -1.21815443e-02  1.44238552e-02  8.38392497e-02\n",
      "   1.48168971e-02  8.44777312e-02]\n",
      " [ 1.97535405e+00 -1.01681455e-02  1.62691425e-02  6.54807929e-02\n",
      "   1.46279180e-02  6.26003656e-02]\n",
      " [ 2.00923289e+00 -8.69910694e-03  1.66787333e-02  5.08078640e-02\n",
      "   1.71001515e-02  4.51874483e-02]\n",
      " [ 2.03265781e+00 -6.85570466e-03  1.94188786e-02  4.04228069e-02\n",
      "   1.93875310e-02  3.34276522e-02]\n",
      " [ 2.05420049e+00 -8.29117529e-03  1.96227583e-02  3.09973458e-02\n",
      "   2.23479187e-02  2.24470430e-02]\n",
      " [ 2.07372362e+00 -8.89570336e-03  1.78008048e-02  2.12119081e-02\n",
      "   2.82717850e-02  1.37374654e-02]\n",
      " [ 2.09025447e+00 -9.32749536e-03  1.45704132e-02  1.19048469e-02\n",
      "   2.99118580e-02  7.45166396e-03]\n",
      " [ 2.10371491e+00 -8.22381178e-03  1.16132694e-02  5.30244199e-03\n",
      "   2.90924275e-02  1.32269457e-03]\n",
      " [ 2.11252026e+00 -4.06791243e-03  8.32985387e-03  2.47608331e-04\n",
      "   3.03550423e-02 -1.89495384e-03]\n",
      " [ 2.11955211e+00  4.24812900e-04  6.31825574e-03 -3.74163921e-03\n",
      "   3.12014516e-02 -4.45339081e-03]\n",
      " [ 2.12589270e+00  4.63333044e-03  5.29920464e-03 -5.10168630e-03\n",
      "   2.75060516e-02 -9.00531527e-03]\n",
      " [ 2.13208831e+00  8.35635398e-03  3.13615605e-03 -9.13852036e-03\n",
      "   2.34140266e-02 -1.07659406e-02]\n",
      " [ 2.13490309e+00  1.17293775e-02  8.89547247e-06 -1.20706661e-02\n",
      "   2.14840629e-02 -1.04012634e-02]\n",
      " [ 2.13337009e+00  1.50476750e-02 -3.84076774e-03 -8.99315686e-03\n",
      "   1.95641823e-02 -1.19757834e-02]\n",
      " [ 2.13267601e+00  2.01412830e-02 -5.27849420e-03 -4.96919511e-03\n",
      "   1.89171284e-02 -1.53361977e-02]\n",
      " [ 2.13117054e+00  2.33443877e-02 -4.93721844e-03 -2.34653406e-03\n",
      "   1.66711077e-02 -1.64753801e-02]\n",
      " [ 2.12464816e+00  2.34725924e-02 -4.38230343e-03  9.94549810e-04\n",
      "   1.48820563e-02 -1.35723700e-02]\n",
      " [ 2.11649173e+00  2.38077253e-02 -3.11751812e-03  4.60201442e-03\n",
      "   1.54143897e-02 -9.37909074e-03]\n",
      " [ 2.11417446e+00  2.48179521e-02 -2.91329608e-03  4.12778792e-03\n",
      "   1.18774812e-02 -6.58080249e-03]\n",
      " [ 2.11303997e+00  2.66544258e-02 -3.29499588e-03  1.02589764e-03\n",
      "   1.24744917e-02 -2.31443559e-03]\n",
      " [ 2.11289930e+00  2.78088781e-02 -2.16323957e-03 -5.08803036e-04\n",
      "   1.26680175e-02 -5.55755173e-04]\n",
      " [ 2.11510374e+00  2.72487681e-02 -2.71632444e-03 -2.67825227e-03\n",
      "   8.31712949e-03 -3.64870553e-04]\n",
      " [ 2.11691617e+00  2.53053644e-02 -4.91986388e-03 -2.75828118e-03\n",
      "   2.65963566e-03 -1.88962358e-03]\n",
      " [ 2.11600691e+00  2.56538986e-02 -5.85745587e-03 -7.24940022e-04\n",
      "  -4.23789265e-03 -2.91908165e-03]\n",
      " [ 2.11525811e+00  2.20366303e-02 -8.53390159e-03  7.07992571e-04\n",
      "  -9.47099865e-03 -3.58529682e-03]\n",
      " [ 2.11272430e+00  2.32482607e-02 -1.08875344e-02  1.82831499e-03\n",
      "  -1.43027846e-02 -2.22970403e-03]\n",
      " [ 2.10758322e+00  1.97000443e-02 -1.20721194e-02  4.23507843e-03\n",
      "  -1.63277462e-02  1.94373611e-04]\n",
      " [ 2.10390360e+00  1.73480377e-02 -1.22905973e-02  5.85472504e-03\n",
      "  -1.44645234e-02  1.99098807e-03]\n",
      " [ 2.10039819e+00  1.27074276e-02 -9.76776842e-03  6.94925371e-03\n",
      "  -9.84514796e-03  4.07951563e-03]\n",
      " [ 2.09932558e+00  8.80526021e-03 -1.05165443e-02  7.65269706e-03\n",
      "  -7.97353667e-03  4.21701318e-03]\n",
      " [ 2.09806079e+00  4.01790119e-03 -1.04097024e-02  7.28868931e-03\n",
      "  -7.58970421e-03  5.58580546e-03]\n",
      " [ 2.09408275e+00  1.51973749e-03 -1.13713800e-02  7.88348189e-03\n",
      "  -5.96711759e-03  8.65399677e-03]\n",
      " [ 2.09413085e+00 -1.64456339e-05 -1.06761500e-02  6.24167545e-03\n",
      "  -2.70280678e-03  1.01457222e-02]\n",
      " [ 2.09466856e+00 -6.32595846e-05 -7.79632960e-03  3.73469578e-03\n",
      "  -1.96276079e-03  1.20855153e-02]\n",
      " [ 2.09592605e+00 -1.82378844e-03 -5.38938292e-03  8.92780311e-04\n",
      "  -1.03835969e-04  1.36774514e-02]\n",
      " [ 2.09313268e+00 -1.70190260e-03 -7.05273776e-03  3.50604083e-03\n",
      "   6.44018056e-04  1.36705645e-02]\n",
      " [ 2.09310048e+00 -1.33977247e-03 -8.37505018e-03  3.85535213e-03\n",
      "  -1.23780469e-03  1.34023292e-02]\n",
      " [ 2.09688795e+00 -1.58288670e-03 -9.42480603e-03  4.49856228e-03\n",
      "   1.91850490e-03  9.16221477e-03]\n",
      " [ 2.09870605e+00  2.31413085e-04 -9.58086345e-03  3.96544021e-03\n",
      "   1.44633672e-03  8.08630438e-03]]\n"
     ]
    }
   ],
   "source": [
    "print(coefs_poly.shape)\n",
    "print(coefs_poly)\n",
    "coefs_poly_theor = np.zeros_like(coefs_poly)\n",
    "for ind in range(len(coefs_poly_theor)):\n",
    "    if ind == 0:\n",
    "        coefs_poly_theor[ind,0] = 0\n",
    "    else:\n",
    "        coefs_poly_theor[ind,0] = d*(1-(1-step)**(2*ind))/(1-step/2)   \n",
    "    coefs_poly_theor[ind,3] = (1-step)**(2*ind)\n",
    "    coefs_poly_theor[ind,5] = (1-step)**(2*ind)"
   ]
  },
  {
   "cell_type": "code",
   "execution_count": 36,
   "metadata": {},
   "outputs": [
    {
     "name": "stdout",
     "output_type": "stream",
     "text": [
      "error norm for long trajectories\n",
      "0.28003169317875776\n",
      "error norm for short trajectories\n",
      "0.12784595395286177\n"
     ]
    }
   ],
   "source": [
    "print(\"error norm for long trajectories\")\n",
    "print(np.linalg.norm(coefs_poly_theor - coefs_poly))\n",
    "print(\"error norm for short trajectories\")\n",
    "print(np.linalg.norm(coefs_poly_theor - coefs_poly_independent))"
   ]
  },
  {
   "cell_type": "markdown",
   "metadata": {},
   "source": [
    "Test our regressors"
   ]
  },
  {
   "cell_type": "code",
   "execution_count": null,
   "metadata": {},
   "outputs": [],
   "source": [
    "cur_lag = 1\n",
    "N_pts = 100\n",
    "plt.figure(figsize=(10, 10))\n",
    "plt.title(\"Testing regression model\",fontsize=20)\n",
    "plt.plot(traj[0,cur_lag:N_pts],color='r',label='true function')\n",
    "plt.plot(P.polynomial.polyval(traj[0,:N_pts-cur_lag],coefs_poly[cur_lag,:]),color='g',label = 'practical approximation')\n",
    "#plt.plot(P.polynomial.polyval(X_train[0,:N_pts-cur_lag],coefs_poly_theor[cur_lag,:]),color='b',label = 'theoretical approximation')\n",
    "plt.legend(loc = 'lower right',fontsize = 16)\n",
    "plt.show()"
   ]
  },
  {
   "cell_type": "code",
   "execution_count": null,
   "metadata": {},
   "outputs": [],
   "source": [
    "test_seed = 1453\n",
    "nbcores = multiprocessing.cpu_count()\n",
    "trav = Pool(nbcores)\n",
    "res = trav.starmap(test_traj, [(Cur_pot,coefs_poly,step,test_seed+i,lag,K_max,S_max,N_burn,N_test,d,f_type,inds_arr,params,x0,fixed_start) for i in range (n_traj_test)])\n",
    "trav.close()"
   ]
  },
  {
   "cell_type": "code",
   "execution_count": null,
   "metadata": {},
   "outputs": [],
   "source": [
    "res_new = np.asarray(res)\n",
    "print(res_new.shape)"
   ]
  },
  {
   "cell_type": "code",
   "execution_count": null,
   "metadata": {},
   "outputs": [],
   "source": [
    "vars_vanilla = np.var(res_new[:,0,:],axis = 0)\n",
    "vars_adj = np.var(res_new[:,1,:],axis = 0)\n",
    "#print(vars_vanilla)\n",
    "#print(vars_adj)\n",
    "print(np.mean(vars_adj[1:]/vars_vanilla[1:]))"
   ]
  },
  {
   "cell_type": "markdown",
   "metadata": {},
   "source": [
    "### Comparison plots"
   ]
  },
  {
   "cell_type": "code",
   "execution_count": null,
   "metadata": {},
   "outputs": [],
   "source": [
    "title = \"\"\n",
    "labels = ['Vanilla\\n ULA', 'ULA \\nwith MDCV', 'ULA \\nwith EVM','ULA\\nwith ESVM']"
   ]
  },
  {
   "cell_type": "code",
   "execution_count": null,
   "metadata": {},
   "outputs": [],
   "source": [
    "data = [ints_result['Vanilla'][:,0],res_new[:,1,-1],ints_result['EVM'][:,0],ints_result['ESVM'][:,0]] \n",
    "boxplot_ind(data, title, labels)"
   ]
  },
  {
   "cell_type": "code",
   "execution_count": null,
   "metadata": {},
   "outputs": [],
   "source": [
    "title = \"\"\n",
    "labels = ['ULA \\nwith MDCV', 'ULA \\nwith EVM','ULA\\nwith ESVM']"
   ]
  },
  {
   "cell_type": "code",
   "execution_count": null,
   "metadata": {},
   "outputs": [],
   "source": [
    "data = [res_new[:,1,-1],ints_result['EVM'][:,0],ints_result['ESVM'][:,0]] \n",
    "boxplot_ind(data, title, labels)"
   ]
  },
  {
   "cell_type": "code",
   "execution_count": null,
   "metadata": {},
   "outputs": [],
   "source": []
  },
  {
   "cell_type": "code",
   "execution_count": null,
   "metadata": {},
   "outputs": [],
   "source": []
  }
 ],
 "metadata": {
  "kernelspec": {
   "display_name": "Python 3",
   "language": "python",
   "name": "python3"
  },
  "language_info": {
   "codemirror_mode": {
    "name": "ipython",
    "version": 3
   },
   "file_extension": ".py",
   "mimetype": "text/x-python",
   "name": "python",
   "nbconvert_exporter": "python",
   "pygments_lexer": "ipython3",
   "version": "3.6.7"
  }
 },
 "nbformat": 4,
 "nbformat_minor": 2
}
