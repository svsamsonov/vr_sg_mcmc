{
 "cells": [
  {
   "cell_type": "code",
   "execution_count": 1,
   "metadata": {},
   "outputs": [],
   "source": [
    "import numpy as np\n",
    "import numpy.polynomial as P\n",
    "import scipy as sp\n",
    "from matplotlib import pyplot as plt\n",
    "from tqdm import tqdm\n",
    "#from sklearn.preprocessing import PolynomialFeatures\n",
    "from multiprocessing import Pool\n",
    "import multiprocessing\n",
    "import ZVnbrosse\n",
    "from potentials import GaussPotential,GaussMixture,GausMixtureIdent,GausMixtureSame\n",
    "from samplers import MCMC_sampler,Generate_train,ULA_light\n",
    "from baselines import set_function,construct_ESVM_kernel,GenerateSigma\n",
    "from martingale import approx_q,approx_q_independent,test_traj,test_monte_carlo\n",
    "from optimize import Run_eval_test,optimize_parallel_new \n",
    "from utils import *\n",
    "import copy\n",
    "import time"
   ]
  },
  {
   "cell_type": "code",
   "execution_count": 2,
   "metadata": {},
   "outputs": [],
   "source": [
    "N_burn = 1*10**4 # Burn in period\n",
    "N_train = 2*10**4 # Number of samples on which we optimize\n"
    "N_test = 2*10**3 # Number of samples\n",
    "step = 0.1 # Step size\n",
    "#step = 0.2\n",
    "n_traj_train = 10\n",
    "n_traj_test = 24 # Number of independent MCMC trajectories for test\n",
    "f_type = \"sum_squares\"\n",
    "K_max = 2 #max degree of Hermite polynomial\n",
    "S_max = 2 #max degree of polynomial during regression stage\n",
    "lag = 50 #maximal lag order\n",
    "b_n_train = 20 #lag-window size\n",
    "b_n_test = int(np.round(N_test**(0.33)))\n",
    "print(b_n_test)\n",
    "degree = 2\n",
    "#for independent sampling\n",
    "n_traj_train_indep = 5*10**4"
   ]
  },
  {
   "cell_type": "markdown",
   "metadata": {},
   "source": [
    "Choose sampler type (currently only ULA is maintained)"
   ]
  },
  {
   "cell_type": "code",
   "execution_count": 3,
   "metadata": {},
   "outputs": [],
   "source": [
    "d = 2\n",
    "mu = 0.5*np.array([0.0,0.0],dtype = float)\n",
    "#mu_1 = np.array([-1.0])\n",
    "#mu_2 = np.array([1.0])\n",
    "#Sigma_1 = np.array([[1.0]])\n",
    "#Sigma_2 = np.array([[1.0]])\n",
    "#Sigma = GenerateSigma(d,rand_seed = 777,eps = 0.1) #covariation matrix \n",
    "p = 0.5\n",
    "#Cur_pot = GausMixtureSame(Sigma,mu,p)\n",
    "#Cur_pot = GaussMixture(Sigma_1,Sigma_2,mu_1,mu_2,p)\n",
    "Cur_pot = GausMixtureIdent(mu,p)\n",
    "r_seed = 777\n",
    "x0 = np.array([0.0,0.0])\n",
    "fixed_start = True"
   ]
  },
  {
   "cell_type": "markdown",
   "metadata": {},
   "source": [
    "### Generate data"
   ]
  },
  {
   "cell_type": "code",
   "execution_count": null,
   "metadata": {},
   "outputs": [],
   "source": [
    "r_seed = 777\n",
    "traj = np.zeros((n_traj_train,N_train,d),dtype = float)\n",
    "for i in range(n_traj_train):\n",
    "    cur_traj = ULA_light(r_seed+i,Cur_pot,step, N_burn, N_train, d, return_noise = False, x0 = x0, fixed_start = fixed_start)\n",
    "    traj[i] = copy.deepcopy(cur_traj)\n",
    "print(traj.shape)"
   ]
  },
  {
   "cell_type": "code",
   "execution_count": 5,
   "metadata": {},
   "outputs": [
    {
     "name": "stdout",
     "output_type": "stream",
     "text": [
      "(50000, 50, 2)\n",
      "(50000, 50, 1)\n"
     ]
    }
   ],
   "source": [
    "traj_independent = np.zeros((n_traj_train_indep,lag,d),dtype = float)\n",
    "for i in range(n_traj_train_indep):\n",
    "    cur_traj = ULA_light(r_seed+i,Cur_pot,step, 0, lag, d, return_noise = False, x0 = x0, fixed_start = False)\n",
    "    traj_independent[i] = copy.deepcopy(cur_traj)\n",
    "print(traj_independent.shape)\n",
    "\n",
    "\n",
    "inds_arr = np.array([0]) # Taking the second index (not intercept)\n",
    "params = None    \n",
    "f_vals_independent = set_function(f_type,traj_independent,inds_arr,params) \n",
    "print(f_vals_independent.shape)"
   ]
  },
  {
   "cell_type": "code",
   "execution_count": null,
   "metadata": {},
   "outputs": [],
   "source": [
    "n_traj_train_adv = 1*10**5\n",
    "r_seed = 7771453\n",
    "traj_adv = np.zeros((n_traj_train_adv,lag,d),dtype = float)\n",
    "\n",
    "nbcores = multiprocessing.cpu_count()\n",
    "trav = Pool(nbcores)\n",
    "res = trav.starmap(ULA_light, [(r_seed+i,Cur_pot,step, 100, lag, d, False,x0, False) for i in range (n_traj_train_adv)])\n",
    "trav.close()"
   ]
  },
  {
   "cell_type": "code",
   "execution_count": null,
   "metadata": {},
   "outputs": [],
   "source": [
    "print(len(res))\n",
    "res = np.asarray(res)\n",
    "print(res.shape)"
   ]
  },
  {
   "cell_type": "code",
   "execution_count": null,
   "metadata": {},
   "outputs": [],
   "source": [
    "for i in range(n_traj_train_adv):\n",
    "    traj_adv[i] = copy.deepcopy(res[i])\n",
    "print(traj_adv.shape)\n",
    "\n",
    "inds_arr = np.array([0]) # Taking the second index (not intercept)\n",
    "params = None    \n",
    "f_vals_adv = set_function(f_type,traj_adv,inds_arr,params) \n",
    "print(f_vals_adv.shape)"
   ]
  },
  {
   "cell_type": "markdown",zzzz
   "execution_count": 6,
>>>>>>> 43fdf6a0560870408ef4a49a98fb499195d353a6
   "metadata": {},
   "outputs": [
    {
     "name": "stdout",
     "output_type": "stream",
     "text": [
      "[1.95333892 3.4017972 ]\n"
     ]
    }
   ],
   "source": [
    "print(traj_independent[1,0,:])"
   ]
  },
  {
   "cell_type": "code",
<<<<<<< HEAD
   "execution_count": null,
   "metadata": {},
   "outputs": [],
=======
   "execution_count": 7,
   "metadata": {},
   "outputs": [
    {
     "name": "stdout",
     "output_type": "stream",
     "text": [
      "(10, 10000, 1)\n"
     ]
    }
   ],
>>>>>>> 43fdf6a0560870408ef4a49a98fb499195d353a6
   "source": [
    "inds_arr = np.array([0]) # Taking the second index (not intercept)\n",
    "params = None    \n",
    "f_vals = set_function(f_type,traj,inds_arr,params) \n",
    "#f_vals = traj[:,:,0]\n",
    "#f_vals = np.expand_dims(f_vals, axis=2)\n",
    "print(f_vals.shape)"
   ]
  },
  {
   "cell_type": "markdown",
   "metadata": {},
   "source": [
    "### Evaluate baselines (EVM and ESVM methods)"
   ]
  },
  {
   "cell_type": "code",
   "execution_count": null,
   "metadata": {},
   "outputs": [],
   "source": [
    "sampler = {\"sampler\":\"ULA\",\"burn_type\":\"full\",\"main_type\":\"full\"} # Sampling method\n",
    "\n",
    "if sampler[\"sampler\"] == \"ULA\":\n",
    "    res = Generate_train(n_traj_train, sampler, Cur_pot, step, N_burn, N_train, d)\n",
    "    res = np.asarray(res)\n",
    "    traj_evm,traj_grad = res[:,0,:,:],res[:,1,:,:]\n",
    "else:\n",
    "    raise \"You should use ULA!\""
   ]
  },
  {
   "cell_type": "code",
   "execution_count": null,
   "metadata": {},
   "outputs": [],
   "source": [
    "print(traj.shape)\n",
    "inds_arr = np.array([0])#Taking the second index\n",
    "params = None\n",
    "f_vals_evm = set_function(f_type,traj_evm,inds_arr,params)"
   ]
  },
  {
   "cell_type": "code",
   "execution_count": null,
   "metadata": {},
   "outputs": [],
   "source": [
    "print(f_vals_evm)\n",
    "print(f_vals)"
   ]
  },
  {
   "cell_type": "code",
   "execution_count": null,
   "metadata": {},
   "outputs": [],
   "source": [
    "W_train_spec = construct_ESVM_kernel(N_train,b_n_train) #weight matrix for train\n",
    "W_test_spec = construct_ESVM_kernel(N_test,b_n_test) #weight matrix for test\n",
    "opt_structure_train = {\n",
    "    \"W\":W_train_spec,\n",
    "    \"n_restarts\": 3, # Number of restarts during optimization,\n",
    "    \"sigma\": 1.0, # Deviation of starting points\n",
    "    \"tol\": 1e-5, # Tolerance (for the norm of gradient)\n",
    "    \"alpha\": 0.0, # Ridge penalty for 2nd order control functionals\n",
    "    \"beta\": 10000.0 # smoothing parameter in the softmax\n",
    "}\n",
    "methods = [\"ESVM\",\"EVM\"]"
   ]
  },
  {
   "cell_type": "code",
   "execution_count": null,
   "metadata": {},
   "outputs": [],
   "source": [
    "coef_dict = optimize_parallel_new(degree,inds_arr,f_vals_evm,traj_evm,traj_grad,opt_structure_train,methods)\n",
    "print(coef_dict)"
   ]
  },
  {
   "cell_type": "code",
   "execution_count": null,
   "metadata": {},
   "outputs": [],
   "source": [
    "#Create a dictionary and put respective matrices into it\n",
    "test_params = {\n",
    "    \"W\":W_test_spec,\n",
    "    \"step\":step,\n",
    "    \"burn_in\":N_burn,\n",
    "    \"n_test\":N_test,\n",
    "    \"dim\":d\n",
    "}\n",
    "\n",
    "nbcores = multiprocessing.cpu_count()\n",
    "trav = Pool(nbcores)\n",
    "res = trav.starmap(Run_eval_test, [(i,degree,sampler,methods,inds_arr,Cur_pot,test_params,coef_dict,params,f_type) for i in range (n_traj_test)])\n",
    "trav.close()"
   ]
  },
  {
   "cell_type": "code",
   "execution_count": null,
   "metadata": {},
   "outputs": [],
<<<<<<< HEAD
   "source": [
    "print(len(res))\n",
    "print(res[0])"
   ]
  },
  {
   "cell_type": "code",
   "execution_count": null,
   "metadata": {},
   "outputs": [],
=======
>>>>>>> 43fdf6a0560870408ef4a49a98fb499195d353a6
   "source": [
    "methods_enh = ['Vanilla'] + methods\n",
    "print(methods_enh)\n",
    "ints_result = {key: [] for key in methods_enh}\n",
    "vars_result = {key: [] for key in methods_enh}\n",
    "time_result = {key: [] for key in methods_enh}"
   ]
  },
  {
   "cell_type": "code",
   "execution_count": null,
   "metadata": {},
   "outputs": [],
   "source": [
    "for i in range(len(res)):\n",
    "    for j in range(len(methods_enh)):\n",
    "        ints_result[methods_enh[j]].append(res[i][0][methods_enh[j]][0])\n",
    "        vars_result[methods_enh[j]].append(res[i][1][methods_enh[j]][0])\n",
    "        time_result[methods_enh[j]].append(res[i][2][methods_enh[j]][0])\n",
    "for key in methods_enh:\n",
    "    ints_result[key] = np.asarray(ints_result[key])\n",
    "    vars_result[key] = np.asarray(vars_result[key])\n",
    "    time_result[key] = np.asarray(time_result[key])"
   ]
  },
  {
   "cell_type": "markdown",
   "metadata": {},
   "source": [
    "### Bernoulli:: Optimize coefficients by solving regression with polynomial features"
   ]
  },
  {
   "cell_type": "code",
<<<<<<< HEAD
   "execution_count": null,
   "metadata": {
    "scrolled": true
   },
   "outputs": [],
=======
   "execution_count": 8,
   "metadata": {},
   "outputs": [
    {
     "name": "stdout",
     "output_type": "stream",
     "text": [
      "dimension =  10000\n",
      "(100000, 6)\n",
      "(99990, 6)\n",
      "(99980, 6)\n",
      "(99970, 6)\n",
      "(99960, 6)\n",
      "(99950, 6)\n",
      "(99940, 6)\n",
      "(99930, 6)\n",
      "(99920, 6)\n",
      "(99910, 6)\n",
      "(99900, 6)\n",
      "(99890, 6)\n",
      "(99880, 6)\n",
      "(99870, 6)\n",
      "(99860, 6)\n",
      "(99850, 6)\n",
      "(99840, 6)\n",
      "(99830, 6)\n",
      "(99820, 6)\n",
      "(99810, 6)\n",
      "(99800, 6)\n",
      "(99790, 6)\n",
      "(99780, 6)\n",
      "(99770, 6)\n",
      "(99760, 6)\n",
      "(99750, 6)\n",
      "(99740, 6)\n",
      "(99730, 6)\n",
      "(99720, 6)\n",
      "(99710, 6)\n",
      "(99700, 6)\n",
      "(99690, 6)\n",
      "(99680, 6)\n",
      "(99670, 6)\n",
      "(99660, 6)\n",
      "(99650, 6)\n",
      "(99640, 6)\n",
      "(99630, 6)\n",
      "(99620, 6)\n",
      "(99610, 6)\n",
      "(99600, 6)\n",
      "(99590, 6)\n",
      "(99580, 6)\n",
      "(99570, 6)\n",
      "(99560, 6)\n",
      "(99550, 6)\n",
      "(99540, 6)\n",
      "(99530, 6)\n",
      "(99520, 6)\n",
      "(99510, 6)\n",
      "(50, 6)\n",
      "dimension =  50\n",
      "(50000, 6)\n",
      "(50000, 6)\n",
      "(50000, 6)\n",
      "(50000, 6)\n",
      "(50000, 6)\n",
      "(50000, 6)\n",
      "(50000, 6)\n",
      "(50000, 6)\n",
      "(50000, 6)\n",
      "(50000, 6)\n",
      "(50000, 6)\n",
      "(50000, 6)\n",
      "(50000, 6)\n",
      "(50000, 6)\n",
      "(50000, 6)\n",
      "(50000, 6)\n",
      "(50000, 6)\n",
      "(50000, 6)\n",
      "(50000, 6)\n",
      "(50000, 6)\n",
      "(50000, 6)\n",
      "(50000, 6)\n",
      "(50000, 6)\n",
      "(50000, 6)\n",
      "(50000, 6)\n",
      "(50000, 6)\n",
      "(50000, 6)\n",
      "(50000, 6)\n",
      "(50000, 6)\n",
      "(50000, 6)\n",
      "(50000, 6)\n",
      "(50000, 6)\n",
      "(50000, 6)\n",
      "(50000, 6)\n",
      "(50000, 6)\n",
      "(50000, 6)\n",
      "(50000, 6)\n",
      "(50000, 6)\n",
      "(50000, 6)\n",
      "(50000, 6)\n",
      "(50000, 6)\n",
      "(50000, 6)\n",
      "(50000, 6)\n",
      "(50000, 6)\n",
      "(50000, 6)\n",
      "(50000, 6)\n",
      "(50000, 6)\n",
      "(50000, 6)\n",
      "(50000, 6)\n",
      "(50000, 6)\n",
      "(50, 6)\n"
     ]
    }
   ],
>>>>>>> 43fdf6a0560870408ef4a49a98fb499195d353a6
   "source": [
    "#polynomial coefficients\n",
    "coefs_poly = approx_q(traj,f_vals,n_traj_train,lag,S_max)\n",
    "print(coefs_poly.shape)\n",
    "coefs_poly_independent = approx_q_independent(traj_independent,f_vals_independent,n_traj_train_indep,lag,S_max)\n",
    "print(coefs_poly_independent.shape)"
   ]
  },
  {
   "cell_type": "code",
   "execution_count": 9,
   "metadata": {},
   "outputs": [
    {
     "name": "stdout",
     "output_type": "stream",
     "text": [
      "[[-6.60168176e-14 -4.21884749e-15 -1.51228585e-15  1.00000000e+00\n",
      "  -1.47451495e-17  1.00000000e+00]\n",
      " [ 4.00601168e-01  1.70225881e-03 -5.95468186e-04  8.09439655e-01\n",
      "   4.38283373e-04  8.09930309e-01]\n",
      " [ 6.94899882e-01 -5.03431332e-03 -5.24017923e-04  6.55372577e-01\n",
      "  -2.35715123e-04  6.55997717e-01]\n",
      " [ 9.99375690e-01 -2.37309184e-03 -1.84153080e-03  5.31118293e-01\n",
      "  -5.10334965e-04  5.31657244e-01]\n",
      " [ 1.31189391e+00  2.83079061e-03 -7.26988848e-03  4.29619828e-01\n",
      "  -9.88981391e-04  4.29796390e-01]\n",
      " [ 1.40279170e+00  1.17212075e-02 -8.99235712e-03  3.48188759e-01\n",
      "  -1.91755377e-04  3.48219035e-01]\n",
      " [ 1.52827303e+00  5.08091209e-03 -8.58407338e-03  2.81960843e-01\n",
      "  -6.60356561e-04  2.82310969e-01]\n",
      " [ 1.59524171e+00  4.59237722e-03 -6.29203153e-03  2.28732225e-01\n",
      "  -3.88894328e-04  2.28919665e-01]\n",
      " [ 1.63775528e+00  1.51413053e-03 -3.67157678e-03  1.85108840e-01\n",
      "   2.35308709e-04  1.86160313e-01]\n",
      " [ 1.75321470e+00  4.10331257e-03 -3.94286592e-03  1.49705299e-01\n",
      "  -4.97230089e-04  1.50591336e-01]\n",
      " [ 1.80366957e+00  2.66880226e-03 -7.41752774e-03  1.21731502e-01\n",
      "  -6.89669641e-04  1.21910123e-01]\n",
      " [ 1.83148604e+00  1.61248848e-03 -6.70009802e-03  9.85419399e-02\n",
      "  -4.62501086e-04  9.89593726e-02]\n",
      " [ 1.91053275e+00  2.41886943e-03 -8.44856955e-03  7.99844068e-02\n",
      "  -3.08343834e-04  7.98018081e-02]\n",
      " [ 1.89507906e+00 -6.29028414e-04 -2.54907158e-03  6.51468365e-02\n",
      "  -1.26491275e-04  6.50086442e-02]\n",
      " [ 1.94641076e+00 -1.33401229e-03 -1.07510870e-03  5.26115100e-02\n",
      "  -3.51218782e-04  5.25896620e-02]\n",
      " [ 1.99077720e+00 -1.44007919e-03  1.48192908e-04  4.25293604e-02\n",
      "  -1.99668084e-04  4.26749587e-02]\n",
      " [ 2.01031914e+00 -3.56937152e-03  8.93642519e-04  3.44262477e-02\n",
      "  -8.99074720e-05  3.45980244e-02]\n",
      " [ 2.02919710e+00 -4.18007477e-03  2.76046705e-03  2.79011806e-02\n",
      "  -1.19262699e-04  2.80200214e-02]\n",
      " [ 2.04205127e+00 -2.06498897e-03  2.51440361e-03  2.26038056e-02\n",
      "  -3.67727118e-05  2.26447762e-02]\n",
      " [ 2.04884907e+00  6.27460715e-04  1.32522846e-03  1.82786746e-02\n",
      "   2.48053117e-04  1.84623116e-02]\n",
      " [ 2.06571560e+00 -8.74352974e-04  2.07118215e-03  1.46580424e-02\n",
      "   1.10702582e-04  1.48802507e-02]\n",
      " [ 2.07685392e+00 -3.25388913e-04 -3.95647572e-04  1.19605786e-02\n",
      "   6.16063923e-05  1.20823067e-02]\n",
      " [ 2.07774865e+00 -1.40328376e-03 -7.12900910e-04  9.63674575e-03\n",
      "  -6.62105374e-05  9.85828963e-03]\n",
      " [ 2.07990382e+00 -1.32214352e-03 -1.48527702e-03  7.77759792e-03\n",
      "   1.25368255e-04  8.08526441e-03]\n",
      " [ 2.08423835e+00 -1.86302951e-03 -2.11536192e-03  6.33340308e-03\n",
      "   4.29578571e-05  6.55321574e-03]\n",
      " [ 2.08364124e+00 -3.33619485e-03 -8.17595447e-04  5.08365544e-03\n",
      "   3.50832082e-05  5.32228935e-03]\n",
      " [ 2.09633440e+00 -4.44784872e-03 -1.71394906e-03  4.10785495e-03\n",
      "  -2.44483925e-04  4.34773015e-03]\n",
      " [ 2.08801798e+00 -3.28491583e-03 -2.43168962e-03  3.27749217e-03\n",
      "  -3.66587013e-04  3.55973158e-03]\n",
      " [ 2.08805072e+00 -2.48615911e-03 -1.94868770e-03  2.68395206e-03\n",
      "  -3.27510877e-04  2.91551552e-03]\n",
      " [ 2.07833818e+00 -2.03261401e-03 -1.82656934e-03  2.19895095e-03\n",
      "  -1.79987764e-04  2.43605720e-03]\n",
      " [ 2.07733744e+00 -2.04208602e-03 -2.29803008e-03  1.81814296e-03\n",
      "  -8.88689623e-06  1.94331772e-03]\n",
      " [ 2.07671894e+00 -2.36255133e-03 -2.10168326e-03  1.46530900e-03\n",
      "  -5.58269109e-05  1.66191799e-03]\n",
      " [ 2.08379672e+00 -2.28457609e-03 -2.16869356e-03  1.18691727e-03\n",
      "  -7.65482625e-05  1.34698408e-03]\n",
      " [ 2.07453045e+00 -2.06258114e-03 -2.28121167e-03  9.84520300e-04\n",
      "  -8.93832599e-05  1.14646283e-03]\n",
      " [ 2.08356650e+00 -3.67896134e-04 -2.25191869e-03  8.72982124e-04\n",
      "  -7.23573719e-05  8.62788774e-04]\n",
      " [ 2.08484299e+00  5.82203697e-05 -1.28027451e-03  6.99664842e-04\n",
      "  -1.07144667e-04  7.13271819e-04]\n",
      " [ 2.08533697e+00 -7.14791748e-04 -1.42230031e-03  5.99528171e-04\n",
      "  -9.64586069e-05  5.92081431e-04]\n",
      " [ 2.08778980e+00 -5.72451419e-04 -7.49470228e-04  4.75513932e-04\n",
      "  -3.16684281e-05  4.37407805e-04]\n",
      " [ 2.10282071e+00 -1.65451657e-04  4.40979093e-05  3.92478900e-04\n",
      "  -1.92411553e-05  2.96111942e-04]\n",
      " [ 2.10070087e+00  1.42563720e-04 -4.10731073e-04  2.69083128e-04\n",
      "   9.51235004e-06  2.74608970e-04]\n",
      " [ 2.10809272e+00 -1.01254349e-03 -8.81029129e-04  1.87115987e-04\n",
      "   3.64616862e-05  2.63523240e-04]\n",
      " [ 2.11175968e+00 -1.07459948e-03 -1.42140612e-03  1.52784038e-04\n",
      "   4.05055943e-05  2.17229292e-04]\n",
      " [ 2.11622360e+00 -1.38430944e-03 -6.36790303e-04  1.12368298e-04\n",
      "   1.40500183e-05  1.55173642e-04]\n",
      " [ 2.11398409e+00 -1.94777724e-03 -3.63322142e-04  9.60277304e-05\n",
      "   1.49511364e-05  1.27345586e-04]\n",
      " [ 2.10168243e+00 -8.03415727e-04 -1.62148675e-04  8.14291548e-05\n",
      "  -2.22370716e-05  1.90914852e-04]\n",
      " [ 2.11225641e+00 -2.44123072e-04 -2.07934896e-04 -1.88010448e-06\n",
      "  -6.54371673e-05  1.68765906e-04]\n",
      " [ 2.10116817e+00  7.57777278e-04 -7.85929138e-04  3.18285591e-05\n",
      "  -5.16154745e-05  1.99811702e-04]\n",
      " [ 2.10443314e+00  9.57300248e-04 -1.99004539e-03  5.69332767e-05\n",
      "  -9.25275844e-05  8.64915309e-05]\n",
      " [ 2.10051730e+00  6.34995415e-04 -5.52630015e-04  5.61029232e-05\n",
      "  -5.65975241e-05  6.81571536e-05]\n",
      " [ 2.11463802e+00 -4.08670779e-04 -1.13300074e-03 -4.25348957e-06\n",
      "  -1.62702891e-05 -7.53587872e-06]]\n"
     ]
    }
   ],
   "source": [
    "print(coefs_poly_independent)"
   ]
  },
  {
   "cell_type": "code",
   "execution_count": null,
   "metadata": {},
   "outputs": [],
   "source": [
    "coefs_poly_adv = approx_q_independent(traj_adv,f_vals_adv,n_traj_train_adv,lag,S_max)\n",
    "print(coefs_poly_adv.shape)"
   ]
  },
  {
   "cell_type": "code",
   "execution_count": null,
   "metadata": {},
   "outputs": [],
   "source": [
    "ind = 3\n",
    "print(coefs_poly[ind,:])\n",
    "print(coefs_poly_adv[ind,:])"
   ]
  },
  {
   "cell_type": "code",
   "execution_count": null,
   "metadata": {},
   "outputs": [],
   "source": [
    "print(np.linalg.norm(coefs_poly_adv-coefs_poly)/np.linalg.norm(coefs_poly))"
   ]
  },
  {
   "cell_type": "markdown",
   "metadata": {},
   "source": [
    "### Use theoretically computed coefficients in regression"
   ]
  },
  {
   "cell_type": "code",
   "execution_count": 10,
   "metadata": {},
   "outputs": [
    {
     "name": "stdout",
     "output_type": "stream",
     "text": [
      "(50, 6)\n",
      "[[ 7.41694749e-15  0.00000000e+00 -6.41847686e-17  1.00000000e+00\n",
      "   5.37764278e-17  1.00000000e+00]\n",
      " [ 4.13064707e-01 -3.77888639e-03 -6.72243351e-04  8.05510420e-01\n",
      "   6.10010866e-03  8.03043176e-01]\n",
      " [ 7.46001589e-01 -7.73362721e-03  3.79212992e-04  6.49628264e-01\n",
      "   7.41825304e-03  6.43405639e-01]\n",
      " [ 1.01388898e+00 -1.08965663e-02  3.10658011e-05  5.24311348e-01\n",
      "   2.34053537e-03  5.14862364e-01]\n",
      " [ 1.22873371e+00 -1.16601068e-02 -9.91370552e-04  4.23388351e-01\n",
      "   1.09217727e-03  4.12186197e-01]\n",
      " [ 1.39764205e+00 -1.33658207e-02  4.30025875e-04  3.41132561e-01\n",
      "   3.54913444e-03  3.34359002e-01]\n",
      " [ 1.53684358e+00 -1.47528211e-02  3.19955127e-04  2.73522195e-01\n",
      "   9.44378700e-03  2.69998618e-01]\n",
      " [ 1.64791520e+00 -1.70154050e-02  1.07092866e-03  2.19870377e-01\n",
      "   1.23288370e-02  2.18337194e-01]\n",
      " [ 1.73871042e+00 -1.68124909e-02  3.67727916e-03  1.75415935e-01\n",
      "   1.40263469e-02  1.76765566e-01]\n",
      " [ 1.81446102e+00 -1.54995972e-02  8.48694597e-03  1.38723194e-01\n",
      "   1.53602051e-02  1.41727783e-01]\n",
      " [ 1.87851191e+00 -1.36539092e-02  1.14163504e-02  1.08589546e-01\n",
      "   1.51266264e-02  1.11152594e-01]\n",
      " [ 1.93282641e+00 -1.21815443e-02  1.44238552e-02  8.38392497e-02\n",
      "   1.48168971e-02  8.44777312e-02]\n",
      " [ 1.97535405e+00 -1.01681455e-02  1.62691425e-02  6.54807929e-02\n",
      "   1.46279180e-02  6.26003656e-02]\n",
      " [ 2.00923289e+00 -8.69910694e-03  1.66787333e-02  5.08078640e-02\n",
      "   1.71001515e-02  4.51874483e-02]\n",
      " [ 2.03265781e+00 -6.85570466e-03  1.94188786e-02  4.04228069e-02\n",
      "   1.93875310e-02  3.34276522e-02]\n",
      " [ 2.05420049e+00 -8.29117529e-03  1.96227583e-02  3.09973458e-02\n",
      "   2.23479187e-02  2.24470430e-02]\n",
      " [ 2.07372362e+00 -8.89570336e-03  1.78008048e-02  2.12119081e-02\n",
      "   2.82717850e-02  1.37374654e-02]\n",
      " [ 2.09025447e+00 -9.32749536e-03  1.45704132e-02  1.19048469e-02\n",
      "   2.99118580e-02  7.45166396e-03]\n",
      " [ 2.10371491e+00 -8.22381178e-03  1.16132694e-02  5.30244199e-03\n",
      "   2.90924275e-02  1.32269457e-03]\n",
      " [ 2.11252026e+00 -4.06791243e-03  8.32985387e-03  2.47608331e-04\n",
      "   3.03550423e-02 -1.89495384e-03]\n",
      " [ 2.11955211e+00  4.24812900e-04  6.31825574e-03 -3.74163921e-03\n",
      "   3.12014516e-02 -4.45339081e-03]\n",
      " [ 2.12589270e+00  4.63333044e-03  5.29920464e-03 -5.10168630e-03\n",
      "   2.75060516e-02 -9.00531527e-03]\n",
      " [ 2.13208831e+00  8.35635398e-03  3.13615605e-03 -9.13852036e-03\n",
      "   2.34140266e-02 -1.07659406e-02]\n",
      " [ 2.13490309e+00  1.17293775e-02  8.89547247e-06 -1.20706661e-02\n",
      "   2.14840629e-02 -1.04012634e-02]\n",
      " [ 2.13337009e+00  1.50476750e-02 -3.84076774e-03 -8.99315686e-03\n",
      "   1.95641823e-02 -1.19757834e-02]\n",
      " [ 2.13267601e+00  2.01412830e-02 -5.27849420e-03 -4.96919511e-03\n",
      "   1.89171284e-02 -1.53361977e-02]\n",
      " [ 2.13117054e+00  2.33443877e-02 -4.93721844e-03 -2.34653406e-03\n",
      "   1.66711077e-02 -1.64753801e-02]\n",
      " [ 2.12464816e+00  2.34725924e-02 -4.38230343e-03  9.94549810e-04\n",
      "   1.48820563e-02 -1.35723700e-02]\n",
      " [ 2.11649173e+00  2.38077253e-02 -3.11751812e-03  4.60201442e-03\n",
      "   1.54143897e-02 -9.37909074e-03]\n",
      " [ 2.11417446e+00  2.48179521e-02 -2.91329608e-03  4.12778792e-03\n",
      "   1.18774812e-02 -6.58080249e-03]\n",
      " [ 2.11303997e+00  2.66544258e-02 -3.29499588e-03  1.02589764e-03\n",
      "   1.24744917e-02 -2.31443559e-03]\n",
      " [ 2.11289930e+00  2.78088781e-02 -2.16323957e-03 -5.08803036e-04\n",
      "   1.26680175e-02 -5.55755173e-04]\n",
      " [ 2.11510374e+00  2.72487681e-02 -2.71632444e-03 -2.67825227e-03\n",
      "   8.31712949e-03 -3.64870553e-04]\n",
      " [ 2.11691617e+00  2.53053644e-02 -4.91986388e-03 -2.75828118e-03\n",
      "   2.65963566e-03 -1.88962358e-03]\n",
      " [ 2.11600691e+00  2.56538986e-02 -5.85745587e-03 -7.24940022e-04\n",
      "  -4.23789265e-03 -2.91908165e-03]\n",
      " [ 2.11525811e+00  2.20366303e-02 -8.53390159e-03  7.07992571e-04\n",
      "  -9.47099865e-03 -3.58529682e-03]\n",
      " [ 2.11272430e+00  2.32482607e-02 -1.08875344e-02  1.82831499e-03\n",
      "  -1.43027846e-02 -2.22970403e-03]\n",
      " [ 2.10758322e+00  1.97000443e-02 -1.20721194e-02  4.23507843e-03\n",
      "  -1.63277462e-02  1.94373611e-04]\n",
      " [ 2.10390360e+00  1.73480377e-02 -1.22905973e-02  5.85472504e-03\n",
      "  -1.44645234e-02  1.99098807e-03]\n",
      " [ 2.10039819e+00  1.27074276e-02 -9.76776842e-03  6.94925371e-03\n",
      "  -9.84514796e-03  4.07951563e-03]\n",
      " [ 2.09932558e+00  8.80526021e-03 -1.05165443e-02  7.65269706e-03\n",
      "  -7.97353667e-03  4.21701318e-03]\n",
      " [ 2.09806079e+00  4.01790119e-03 -1.04097024e-02  7.28868931e-03\n",
      "  -7.58970421e-03  5.58580546e-03]\n",
      " [ 2.09408275e+00  1.51973749e-03 -1.13713800e-02  7.88348189e-03\n",
      "  -5.96711759e-03  8.65399677e-03]\n",
      " [ 2.09413085e+00 -1.64456339e-05 -1.06761500e-02  6.24167545e-03\n",
      "  -2.70280678e-03  1.01457222e-02]\n",
      " [ 2.09466856e+00 -6.32595846e-05 -7.79632960e-03  3.73469578e-03\n",
      "  -1.96276079e-03  1.20855153e-02]\n",
      " [ 2.09592605e+00 -1.82378844e-03 -5.38938292e-03  8.92780311e-04\n",
      "  -1.03835969e-04  1.36774514e-02]\n",
      " [ 2.09313268e+00 -1.70190260e-03 -7.05273776e-03  3.50604083e-03\n",
      "   6.44018056e-04  1.36705645e-02]\n",
      " [ 2.09310048e+00 -1.33977247e-03 -8.37505018e-03  3.85535213e-03\n",
      "  -1.23780469e-03  1.34023292e-02]\n",
      " [ 2.09688795e+00 -1.58288670e-03 -9.42480603e-03  4.49856228e-03\n",
      "   1.91850490e-03  9.16221477e-03]\n",
      " [ 2.09870605e+00  2.31413085e-04 -9.58086345e-03  3.96544021e-03\n",
      "   1.44633672e-03  8.08630438e-03]]\n"
     ]
    }
   ],
   "source": [
    "print(coefs_poly.shape)\n",
    "print(coefs_poly)\n",
    "coefs_poly_theor = np.zeros_like(coefs_poly)\n",
    "for ind in range(len(coefs_poly_theor)):\n",
    "    if ind == 0:\n",
    "        coefs_poly_theor[ind,0] = 0\n",
    "    else:\n",
    "        coefs_poly_theor[ind,0] = d*(1-(1-step)**(2*ind))/(1-step/2)   \n",
    "    coefs_poly_theor[ind,3] = (1-step)**(2*ind)\n",
    "    coefs_poly_theor[ind,5] = (1-step)**(2*ind)"
   ]
  },
  {
   "cell_type": "code",
   "execution_count": 11,
   "metadata": {},
   "outputs": [
    {
     "name": "stdout",
     "output_type": "stream",
     "text": [
      "error norm for long trajectories\n",
      "0.28003169317875776\n",
      "error norm for short trajectories\n",
      "0.21592738904420777\n"
     ]
    }
   ],
   "source": [
    "print(\"error norm for long trajectories\")\n",
    "print(np.linalg.norm(coefs_poly_theor - coefs_poly))\n",
    "print(\"error norm for short trajectories\")\n",
    "print(np.linalg.norm(coefs_poly_theor - coefs_poly_independent))"
   ]
  },
  {
   "cell_type": "markdown",
   "metadata": {},
   "source": [
    "Test our regressors"
   ]
  },
  {
   "cell_type": "code",
   "execution_count": null,
   "metadata": {},
   "outputs": [],
   "source": [
    "cur_lag = 1\n",
    "N_pts = 100\n",
    "plt.figure(figsize=(10, 10))\n",
    "plt.title(\"Testing regression model\",fontsize=20)\n",
    "plt.plot(traj[0,cur_lag:N_pts],color='r',label='true function')\n",
    "plt.plot(P.polynomial.polyval(traj[0,:N_pts-cur_lag],coefs_poly[cur_lag,:]),color='g',label = 'practical approximation')\n",
    "#plt.plot(P.polynomial.polyval(X_train[0,:N_pts-cur_lag],coefs_poly_theor[cur_lag,:]),color='b',label = 'theoretical approximation')\n",
    "plt.legend(loc = 'lower right',fontsize = 16)\n",
    "plt.show()"
   ]
  },
  {
   "cell_type": "code",
   "execution_count": null,
<<<<<<< HEAD
   "metadata": {
    "scrolled": true
   },
=======
   "metadata": {},
>>>>>>> 43fdf6a0560870408ef4a49a98fb499195d353a6
   "outputs": [],
   "source": [
    "test_seed = 1453\n",
    "nbcores = multiprocessing.cpu_count()\n",
    "trav = Pool(nbcores)\n",
    "res = trav.starmap(test_traj, [(Cur_pot,coefs_poly_adv,step,test_seed+i,lag,K_max,S_max,N_burn,N_test,d,f_type,inds_arr,params,x0,fixed_start) for i in range (n_traj_test)])\n",
    "trav.close()"
   ]
  },
  {
   "cell_type": "code",
   "execution_count": null,
   "metadata": {},
   "outputs": [],
   "source": [
    "print(len(res))\n",
    "print(res[0][0])"
   ]
  },
  {
   "cell_type": "code",
   "execution_count": null,
   "metadata": {},
   "outputs": [],
   "source": [
    "res_new = np.asarray([[res[i][0],res[i][1]] for i in range(len(res))])\n",
    "print(res_new.shape)"
   ]
  },
  {
   "cell_type": "code",
   "execution_count": null,
   "metadata": {},
   "outputs": [],
   "source": [
    "vars_vanilla = np.var(res_new[:,0,:],axis = 0)\n",
    "vars_adj = np.var(res_new[:,1,:],axis = 0)\n",
    "#print(vars_vanilla)\n",
    "#print(vars_adj)\n",
    "print(np.mean(vars_adj[1:]/vars_vanilla[1:]))\n",
    "print(vars_vanilla[-1]/vars_adj[-1])"
   ]
  },
  {
   "cell_type": "code",
   "execution_count": null,
   "metadata": {},
   "outputs": [],
   "source": [
    "print(np.var(ints_result['Vanilla'][:,0])/np.var(ints_result['EVM'][:,0]))\n",
    "print(np.var(ints_result['Vanilla'][:,0])/np.var(ints_result['ESVM'][:,0]))"
   ]
  },
  {
   "cell_type": "markdown",
   "metadata": {},
   "source": [
    "### Comparison plots"
   ]
  },
  {
   "cell_type": "code",
   "execution_count": null,
   "metadata": {},
   "outputs": [],
   "source": [
    "title = \"\"\n",
    "labels = ['Vanilla\\n ULA', 'ULA \\nwith MDCV', 'ULA \\nwith EVM','ULA\\nwith ESVM']"
   ]
  },
  {
   "cell_type": "code",
   "execution_count": null,
   "metadata": {},
   "outputs": [],
   "source": [
    "data = [ints_result['Vanilla'][:,0],res_new[:,1,-1],ints_result['EVM'][:,0],ints_result['ESVM'][:,0]] \n",
    "boxplot_ind(data, title, labels)"
   ]
  },
  {
   "cell_type": "code",
   "execution_count": null,
   "metadata": {},
   "outputs": [],
   "source": [
    "title = \"\"\n",
    "labels = ['ULA \\nwith MDCV', 'ULA \\nwith EVM','ULA\\nwith ESVM']"
   ]
  },
  {
   "cell_type": "code",
   "execution_count": null,
   "metadata": {},
   "outputs": [],
   "source": [
    "data = [res_new[:,1,-1],ints_result['EVM'][:,0],ints_result['ESVM'][:,0]] \n",
    "boxplot_ind(data, title, labels)"
   ]
  },
  {
   "cell_type": "code",
   "execution_count": null,
   "metadata": {},
   "outputs": [],
   "source": [
    "N_burn = 2*10**3\n",
    "n_traj_train = 24\n",
    "step = 0.1\n",
    "N_train_arr = [1*10**3, 1*10**4, 1*10**5, 1*10**6]\n",
    "Time_arr = np.zeros(len(N_train_arr))\n",
    "Var_arr = np.zeros(len(N_train_arr))\n",
    "fixed_start = False\n",
    "test_seed = 2020\n",
    "\n",
    "for N in range(len(N_train_arr)):\n",
    "    cur_func = np.zeros(n_traj_train,dtype = float)\n",
    "    loc_time = time.time()\n",
    "    nbcores = multiprocessing.cpu_count()\n",
    "    trav = Pool(nbcores)\n",
    "    res = trav.starmap(test_monte_carlo, [(test_seed+j,Cur_pot,step,N_burn,N_train_arr[N],d,False,x0,fixed_start) for j in range(n_traj_train)])\n",
    "    trav.close()\n",
    "    cur_traj = np.asarray(res)\n",
    "    print(cur_traj.shape)\n",
    "    cur_func = np.mean(np.sum(cur_traj**2,axis=2),axis=1)\n",
    "    Var_arr[N] = np.var(cur_func)\n",
    "    Time_arr[N] = (time.time() - loc_time)/4\n",
    "    print(\"var = \",Var_arr[N])\n",
    "    print(\"time = \",Time_arr[N])"
   ]
  },
  {
   "cell_type": "code",
   "execution_count": null,
   "metadata": {},
   "outputs": [],
   "source": [
    "for N in range(len(Var_arr)):\n",
    "    print(\"N = %d, VR rate = %f\" % (N_train_arr[N],Var_arr[0]/Var_arr[N]))\n",
    "    print(\"N*Var:\",N_train_arr[N]*Var_arr[N])"
   ]
  }
 ],
 "metadata": {
  "kernelspec": {
   "display_name": "Python 3",
   "language": "python",
   "name": "python3"
  },
  "language_info": {
   "codemirror_mode": {
    "name": "ipython",
    "version": 3
   },
   "file_extension": ".py",
   "mimetype": "text/x-python",
   "name": "python",
   "nbconvert_exporter": "python",
   "pygments_lexer": "ipython3",
   "version": "3.6.7"
  }
 },
 "nbformat": 4,
 "nbformat_minor": 2
}
