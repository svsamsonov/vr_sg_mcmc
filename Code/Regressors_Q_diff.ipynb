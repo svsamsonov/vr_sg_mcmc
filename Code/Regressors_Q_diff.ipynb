{
 "cells": [
  {
   "cell_type": "code",
   "execution_count": 17,
   "metadata": {},
   "outputs": [],
   "source": [
    "import numpy as np\n",
    "import numpy.polynomial as P\n",
    "import scipy as sp\n",
    "from matplotlib import pyplot as plt\n",
    "from tqdm import tqdm\n",
    "import Algo2\n",
    "import Algo1\n",
    "import ULA\n",
    "from sklearn.preprocessing import PolynomialFeatures\n",
    "from martingale import approx_q\n",
    "from joblib import Parallel, delayed\n",
    "import ZVnbrosse"
   ]
  },
  {
   "cell_type": "code",
   "execution_count": 18,
   "metadata": {},
   "outputs": [
    {
     "data": {
      "text/plain": [
       "<module 'Algo2' from '/Users/sergosamsonoff/Research/VR-MCMC/Code/Algo2.py'>"
      ]
     },
     "execution_count": 18,
     "metadata": {},
     "output_type": "execute_result"
    }
   ],
   "source": [
    "import importlib\n",
    "importlib.reload(Algo2)"
   ]
  },
  {
   "cell_type": "code",
   "execution_count": 19,
   "metadata": {},
   "outputs": [],
   "source": [
    "a = 1.0\n",
    "sigma = 1.0\n",
    "\n",
    "def f_grad(x):\n",
    "    return x-a+2*a/(1 + np.exp(2* (x * a)))\n",
    "\n",
    "def f(x):\n",
    "    a = 1 / np.sqrt(2)\n",
    "    return 1/2 * (x-a)**2 - np.log(1 + np.exp(-2 * x * a))\n",
    "\n",
    "def set_func(x):\n",
    "    #function of interest to compute averages\n",
    "    return x"
   ]
  },
  {
   "cell_type": "code",
   "execution_count": 20,
   "metadata": {},
   "outputs": [
    {
     "data": {
      "text/plain": [
       "'\\na = 1.0\\nsigma = 1.0\\n\\ndef f_grad(x):\\n    return (x-a)/sigma**2\\n'"
      ]
     },
     "execution_count": 20,
     "metadata": {},
     "output_type": "execute_result"
    }
   ],
   "source": [
    "#for normal distribution N(a,\\sigma^2)\n",
    "\"\"\"\n",
    "a = 1.0\n",
    "sigma = 1.0\n",
    "\n",
    "def f_grad(x):\n",
    "    return (x-a)/sigma**2\n",
    "\"\"\""
   ]
  },
  {
   "cell_type": "markdown",
   "metadata": {},
   "source": [
    "Approximation results: use $Q_{l-p}$ to approximate family of $Q_{l,p}$ relying on approximate stationarity of the chain."
   ]
  },
  {
   "cell_type": "code",
   "execution_count": 21,
   "metadata": {},
   "outputs": [],
   "source": [
    "#generate samples from mixture of normals\n",
    "N_burn = 10000\n",
    "N_train = 10000\n",
    "gamma = 0.2\n",
    "N_traj_train = 10\n",
    "X_train = np.zeros((N_traj_train,N_train),dtype = float)\n",
    "\n",
    "for j in range(N_traj_train):\n",
    "    np.random.seed(142+j)\n",
    "    x0 = np.random.randn()\n",
    "    x_cur = x0\n",
    "    #burn-in\n",
    "    for i in range(N_burn):\n",
    "        x_cur = x_cur - gamma*f_grad(x_cur) + np.sqrt(2*gamma)*np.random.randn()\n",
    "    #training sample\n",
    "    for i in range(N_train):\n",
    "        X_train[j,i] = x_cur\n",
    "        x_cur = x_cur - gamma*f_grad(x_cur) + np.sqrt(2*gamma)*np.random.randn()\n",
    "X_last = X_train[0,-1]"
   ]
  },
  {
   "cell_type": "code",
   "execution_count": 22,
   "metadata": {},
   "outputs": [
    {
     "name": "stdout",
     "output_type": "stream",
     "text": [
      "-0.022067434219086978\n"
     ]
    }
   ],
   "source": [
    "print(np.mean(X_train[0,:]))"
   ]
  },
  {
   "cell_type": "markdown",
   "metadata": {},
   "source": [
    "Optimize coefficients"
   ]
  },
  {
   "cell_type": "code",
   "execution_count": 23,
   "metadata": {},
   "outputs": [
    {
     "name": "stdout",
     "output_type": "stream",
     "text": [
      "100000\n",
      "100000\n",
      "99990\n",
      "99990\n",
      "99980\n",
      "99980\n",
      "99970\n",
      "99970\n",
      "99960\n",
      "99960\n",
      "99950\n",
      "99950\n",
      "99940\n",
      "99940\n",
      "99930\n",
      "99930\n",
      "99920\n",
      "99920\n",
      "99910\n",
      "99910\n"
     ]
    }
   ],
   "source": [
    "#degree\n",
    "max_deg = 2\n",
    "#lag order\n",
    "lag = 10\n",
    "#polynomial coefficients\n",
    "coefs_poly = np.zeros((lag,max_deg+1),dtype = float)\n",
    "\n",
    "for i in range(lag):\n",
    "    x_all = np.array([])\n",
    "    y_all = np.array([])\n",
    "    for j in range(N_traj_train):\n",
    "        y = set_func(X_train[j,i:])\n",
    "        if i == 0:\n",
    "            x = X_train[j,:]\n",
    "        else:\n",
    "            x = X_train[j,:-i]\n",
    "        x_all = np.concatenate([x_all,x])\n",
    "        y_all = np.concatenate([y_all,y])\n",
    "    print(len(x_all))\n",
    "    print(len(y_all))\n",
    "    res = P.polynomial.polyfit(x,y,max_deg)\n",
    "    coefs_poly[i,:] = res"
   ]
  },
  {
   "cell_type": "code",
   "execution_count": 24,
   "metadata": {},
   "outputs": [
    {
     "name": "stdout",
     "output_type": "stream",
     "text": [
      "[ 0.00856454  0.89727462 -0.00261472]\n"
     ]
    }
   ],
   "source": [
    "print(coefs_poly[1,:])"
   ]
  },
  {
   "cell_type": "markdown",
   "metadata": {},
   "source": [
    "For particular example of gaussian distribution, we might compute coefficients of $Q_{p-l}$ analytically in closed form"
   ]
  },
  {
   "cell_type": "code",
   "execution_count": 25,
   "metadata": {},
   "outputs": [],
   "source": [
    "coefs_poly_theor = np.zeros_like(coefs_poly)\n",
    "for i in range(lag):\n",
    "    if i == 0:\n",
    "        coefs_poly_theor[i,0] = 0.0\n",
    "        coefs_poly_theor[i,1] = 1.0\n",
    "    else:\n",
    "        coefs_poly_theor[i,0] = a - a*(1-gamma/sigma**2)**(i)\n",
    "        coefs_poly_theor[i,1] = (1-gamma/sigma**2)**(i)"
   ]
  },
  {
   "cell_type": "code",
   "execution_count": 26,
   "metadata": {},
   "outputs": [],
   "source": [
    "#coefs_poly = coefs_poly_theor"
   ]
  },
  {
   "cell_type": "markdown",
   "metadata": {},
   "source": [
    "Test our regressors"
   ]
  },
  {
   "cell_type": "code",
   "execution_count": 27,
   "metadata": {},
   "outputs": [
    {
     "data": {
      "image/png": "[encoded data removed]",
      "text/plain": [
       "<Figure size 720x720 with 1 Axes>"
      ]
     },
     "metadata": {
      "needs_background": "light"
     },
     "output_type": "display_data"
    }
   ],
   "source": [
    "cur_lag = 1\n",
    "N_pts = 500\n",
    "plt.figure(figsize=(10, 10))\n",
    "plt.title(\"Testing regression model\",fontsize=20)\n",
    "plt.plot(X_train[0,cur_lag:N_pts],color='r',label='true function')\n",
    "plt.plot(P.polynomial.polyval(X_train[0,:N_pts-cur_lag],coefs_poly[cur_lag,:]),color='g',label = 'practical approximation')\n",
    "#plt.plot(P.polynomial.polyval(X_train[0,:N_pts-cur_lag],coefs_poly_theor[cur_lag,:]),color='b',label = 'theoretical approximation')\n",
    "plt.legend(loc = 'lower right',fontsize = 16)\n",
    "plt.show()"
   ]
  },
  {
   "cell_type": "code",
   "execution_count": 28,
   "metadata": {},
   "outputs": [
    {
     "name": "stdout",
     "output_type": "stream",
     "text": [
      "[1. 0. 1. 0. 3.]\n"
     ]
    }
   ],
   "source": [
    "sp.special.factorial2(21, exact=False)\n",
    "moments_stand_norm = np.zeros(2*max_deg+1,dtype = float)\n",
    "moments_stand_norm[0] = 1.0\n",
    "moments_stand_norm[1] = 0.0\n",
    "for i in range(len(moments_stand_norm)-2):\n",
    "    moments_stand_norm[i+2] = sp.special.factorial2(i+1, exact=False)\n",
    "#eliminate odd\n",
    "moments_stand_norm[1::2] = 0\n",
    "print(moments_stand_norm)"
   ]
  },
  {
   "cell_type": "code",
   "execution_count": 29,
   "metadata": {},
   "outputs": [],
   "source": [
    "N_burn = 10000\n",
    "N_test = 2000 #size of test part\n",
    "N_min = 1 #minimal number of observations to compute \\pi_N\n",
    "gamma = 0.2\n",
    "X_test = np.zeros(N_test,dtype = float)\n",
    "Noise = np.zeros_like(X_test)\n",
    "N_traj = 10\n",
    "\n",
    "test_stat_vanilla = np.zeros((N_traj,N_test),dtype = float)\n",
    "test_stat_vr = np.zeros((N_traj,N_test),dtype = float)"
   ]
  },
  {
   "cell_type": "code",
   "execution_count": 30,
   "metadata": {},
   "outputs": [
    {
     "name": "stdout",
     "output_type": "stream",
     "text": [
      "100 observations proceeded\n",
      "100 observations proceeded\n",
      "100 observations proceeded\n",
      "100 observations proceeded\n",
      "100 observations proceeded\n",
      "100 observations proceeded\n",
      "100 observations proceeded\n",
      "100 observations proceeded\n",
      "100 observations proceeded\n",
      "100 observations proceeded\n",
      "100 observations proceeded\n",
      "100 observations proceeded\n",
      "100 observations proceeded\n",
      "100 observations proceeded\n",
      "100 observations proceeded\n",
      "100 observations proceeded\n",
      "100 observations proceeded\n",
      "100 observations proceeded\n",
      "100 observations proceeded\n",
      "100 observations proceeded\n",
      "100 observations proceeded\n",
      "100 observations proceeded\n",
      "100 observations proceeded\n",
      "100 observations proceeded\n",
      "100 observations proceeded\n",
      "100 observations proceeded\n",
      "100 observations proceeded\n",
      "100 observations proceeded\n",
      "100 observations proceeded\n",
      "100 observations proceeded\n",
      "100 observations proceeded\n",
      "100 observations proceeded\n",
      "100 observations proceeded\n",
      "100 observations proceeded\n",
      "100 observations proceeded\n",
      "100 observations proceeded\n",
      "100 observations proceeded\n",
      "100 observations proceeded\n",
      "100 observations proceeded\n",
      "100 observations proceeded\n",
      "100 observations proceeded\n",
      "100 observations proceeded\n",
      "100 observations proceeded\n",
      "100 observations proceeded\n",
      "100 observations proceeded\n",
      "100 observations proceeded\n",
      "100 observations proceeded\n",
      "100 observations proceeded\n",
      "100 observations proceeded\n",
      "100 observations proceeded\n",
      "100 observations proceeded\n",
      "100 observations proceeded\n",
      "100 observations proceeded\n",
      "100 observations proceeded\n",
      "100 observations proceeded\n",
      "100 observations proceeded\n",
      "100 observations proceeded\n",
      "100 observations proceeded\n",
      "100 observations proceeded\n",
      "100 observations proceeded\n",
      "100 observations proceeded\n",
      "100 observations proceeded\n",
      "100 observations proceeded\n",
      "100 observations proceeded\n",
      "100 observations proceeded\n",
      "100 observations proceeded\n",
      "100 observations proceeded\n",
      "100 observations proceeded\n",
      "100 observations proceeded\n",
      "100 observations proceeded\n",
      "100 observations proceeded\n",
      "100 observations proceeded\n",
      "100 observations proceeded\n",
      "100 observations proceeded\n",
      "100 observations proceeded\n",
      "100 observations proceeded\n",
      "100 observations proceeded\n",
      "100 observations proceeded\n",
      "100 observations proceeded\n",
      "100 observations proceeded\n",
      "100 observations proceeded\n",
      "100 observations proceeded\n",
      "100 observations proceeded\n",
      "100 observations proceeded\n",
      "100 observations proceeded\n",
      "100 observations proceeded\n",
      "100 observations proceeded\n",
      "100 observations proceeded\n",
      "100 observations proceeded\n",
      "100 observations proceeded\n",
      "100 observations proceeded\n",
      "100 observations proceeded\n",
      "100 observations proceeded\n",
      "100 observations proceeded\n",
      "100 observations proceeded\n",
      "100 observations proceeded\n",
      "100 observations proceeded\n",
      "100 observations proceeded\n",
      "100 observations proceeded\n",
      "100 observations proceeded\n",
      "100 observations proceeded\n",
      "100 observations proceeded\n",
      "100 observations proceeded\n",
      "100 observations proceeded\n",
      "100 observations proceeded\n",
      "100 observations proceeded\n",
      "100 observations proceeded\n",
      "100 observations proceeded\n",
      "100 observations proceeded\n",
      "100 observations proceeded\n",
      "100 observations proceeded\n",
      "100 observations proceeded\n",
      "100 observations proceeded\n",
      "100 observations proceeded\n",
      "100 observations proceeded\n",
      "100 observations proceeded\n",
      "100 observations proceeded\n",
      "100 observations proceeded\n",
      "100 observations proceeded\n",
      "100 observations proceeded\n",
      "100 observations proceeded\n",
      "100 observations proceeded\n",
      "100 observations proceeded\n",
      "100 observations proceeded\n",
      "100 observations proceeded\n",
      "100 observations proceeded\n",
      "100 observations proceeded\n",
      "100 observations proceeded\n",
      "100 observations proceeded\n",
      "100 observations proceeded\n",
      "100 observations proceeded\n",
      "100 observations proceeded\n",
      "100 observations proceeded\n",
      "100 observations proceeded\n",
      "100 observations proceeded\n",
      "100 observations proceeded\n",
      "100 observations proceeded\n",
      "100 observations proceeded\n",
      "100 observations proceeded\n",
      "100 observations proceeded\n",
      "100 observations proceeded\n",
      "100 observations proceeded\n",
      "100 observations proceeded\n",
      "100 observations proceeded\n",
      "100 observations proceeded\n",
      "100 observations proceeded\n",
      "100 observations proceeded\n",
      "100 observations proceeded\n",
      "100 observations proceeded\n",
      "100 observations proceeded\n",
      "100 observations proceeded\n",
      "100 observations proceeded\n",
      "100 observations proceeded\n",
      "100 observations proceeded\n",
      "100 observations proceeded\n",
      "100 observations proceeded\n",
      "100 observations proceeded\n",
      "100 observations proceeded\n",
      "100 observations proceeded\n",
      "100 observations proceeded\n",
      "100 observations proceeded\n",
      "100 observations proceeded\n",
      "100 observations proceeded\n",
      "100 observations proceeded\n",
      "100 observations proceeded\n",
      "100 observations proceeded\n",
      "100 observations proceeded\n",
      "100 observations proceeded\n",
      "100 observations proceeded\n",
      "100 observations proceeded\n",
      "100 observations proceeded\n",
      "100 observations proceeded\n",
      "100 observations proceeded\n",
      "100 observations proceeded\n",
      "100 observations proceeded\n",
      "100 observations proceeded\n",
      "100 observations proceeded\n",
      "100 observations proceeded\n",
      "100 observations proceeded\n",
      "100 observations proceeded\n",
      "100 observations proceeded\n",
      "100 observations proceeded\n",
      "100 observations proceeded\n",
      "100 observations proceeded\n",
      "100 observations proceeded\n",
      "100 observations proceeded\n",
      "100 observations proceeded\n",
      "100 observations proceeded\n",
      "100 observations proceeded\n",
      "100 observations proceeded\n"
     ]
    }
   ],
   "source": [
    "for ind in range(N_traj):\n",
    "    np.random.seed(1453 + ind)\n",
    "    x0 = np.random.randn()\n",
    "    x_cur = x0\n",
    "    #burn-in\n",
    "    for i in range(N_burn):\n",
    "        x_cur = x_cur - gamma*f_grad(x_cur) + np.sqrt(2*gamma)*np.random.randn()\n",
    "    #training sample\n",
    "    #x_cur = X_last\n",
    "    for i in range(N_test):\n",
    "        Noise[i] = np.random.randn()\n",
    "        x_cur = x_cur - gamma*f_grad(x_cur) + np.sqrt(2*gamma)*Noise[i]\n",
    "        X_test[i] = x_cur\n",
    "    #compute polynomials at Z_l\n",
    "    poly_vals = np.zeros((max_deg+1,N_test),dtype = float)\n",
    "    for k in range(max_deg+1):\n",
    "        c = np.zeros(max_deg+1)\n",
    "        c[k] = 1\n",
    "        poly_vals[k,:] = P.hermite_e.hermeval(Noise,c)/np.sqrt(sp.special.factorial(k))\n",
    "    f_vals_vanilla = set_func(X_test)\n",
    "    cvfs = np.zeros_like(f_vals_vanilla)\n",
    "    for i in range(1,len(cvfs)):\n",
    "        #start computing a_{p-l} coefficients\n",
    "        num_poly = min(lag,i)\n",
    "        a_vals = np.zeros((num_poly,max_deg+1),dtype = float)\n",
    "        for npol in range(num_poly):#for a fixed lag Q function\n",
    "            #compute \\hat{a} with fixed lag\n",
    "            x = X_test[i-1-npol]#should be -2 here?\n",
    "            a_cur = np.zeros(max_deg+1,dtype=float)\n",
    "            for m in range(len(coefs_poly[0])):\n",
    "                poly_vspom = np.zeros(max_deg+1,dtype=float)\n",
    "                for u in range(m+1):\n",
    "                    poly_vspom[u] = ((x-gamma*f_grad(x))**(m-u))*((np.sqrt(2*gamma))**u)*sp.special.binom(m,u)\n",
    "                #print(poly_vspom)\n",
    "                a_cur = P.polynomial.polyadd(a_cur,coefs_poly[npol,m]*poly_vspom)\n",
    "            #print(\"a_cur\")\n",
    "            #print(a_cur)\n",
    "            for k in range(1,max_deg+1):\n",
    "                c = np.zeros(max_deg+1)\n",
    "                c[k] = 1\n",
    "                herm_coef = P.hermite_e.herme2poly(c)\n",
    "                #normalize now\n",
    "                herm_coef = herm_coef / np.sqrt(sp.special.factorial(k))\n",
    "                integr_coefs = P.polynomial.polymul(herm_coef,a_cur)\n",
    "                #Note that a_vals are stored in reversed order\n",
    "                a_vals[-(npol+1),k] = np.dot(integr_coefs,moments_stand_norm[:len(integr_coefs)])\n",
    "            #OK, now I have coefficients of the polynomial, and I need to integrate it w.r.t. Gaussian measure\n",
    "        #print(a_vals.shape)\n",
    "        #print(a_vals)\n",
    "        cvfs[i] = np.sum(a_vals*(poly_vals[:,i-num_poly+1:i+1].T))\n",
    "        #cvfs[i] = np.sum(np.mean(a_vals,axis = 0))\n",
    "        if (i%100 == 0):\n",
    "            print(\"100 observations proceeded\")\n",
    "        #save results\n",
    "        test_stat_vanilla[ind,i] = np.mean(f_vals_vanilla[1:(i+1)])\n",
    "        test_stat_vr[ind,i] = test_stat_vanilla[ind,i] - np.sum(cvfs[:i])/i"
   ]
  },
  {
   "cell_type": "code",
   "execution_count": 31,
   "metadata": {},
   "outputs": [
    {
     "name": "stdout",
     "output_type": "stream",
     "text": [
      "[ 0.54306916  0.31581812  0.14630489 -0.29955209 -0.72996497 -1.07892359\n",
      " -1.3415739  -1.46096445 -1.47012519 -1.54419619 -1.61537751 -1.66544396\n",
      " -1.71920923 -1.67065079 -1.52871376 -1.37287622 -1.31591564 -1.29053595\n",
      " -1.27155997 -1.21123772 -1.23781023 -1.29491857 -1.37300834 -1.43825552\n",
      " -1.4964546  -1.53205277 -1.49798902 -1.46895333 -1.43444428 -1.38713955\n",
      " -1.36087251 -1.34257134 -1.3606262  -1.34303804 -1.34299277 -1.32587903\n",
      " -1.31421774 -1.298335   -1.27801574 -1.2802619  -1.27512739 -1.26076758\n",
      " -1.25141545 -1.26807698 -1.28997029 -1.3089092  -1.34068635 -1.37358274\n",
      " -1.41524094 -1.43127169 -1.44647486 -1.45188893 -1.45942671 -1.45351068\n",
      " -1.42991321 -1.38343171 -1.33397372 -1.2798333  -1.23921603 -1.199446\n",
      " -1.15280245 -1.09538888 -1.04087175 -1.00566347 -0.98167234 -0.95448862\n",
      " -0.94313451 -0.92360552 -0.8931154  -0.87772346 -0.86773044 -0.84682031\n",
      " -0.81748397 -0.78567755 -0.74159286 -0.70810945 -0.67488173 -0.65021981\n",
      " -0.62795463 -0.6261288  -0.63554311 -0.64204165 -0.64186172 -0.63365092\n",
      " -0.61589647 -0.59827146 -0.57963901 -0.55166197 -0.52975579 -0.51222956\n",
      " -0.4933053  -0.47557885 -0.4578191  -0.43623817 -0.41864392 -0.40463711\n",
      " -0.38344783 -0.35906283 -0.33106763 -0.31096795]\n",
      "[ 0.54306916  0.48375126  0.50626677  0.20730732  0.13447637  0.14484065\n",
      "  0.19110036  0.3187387   0.43722257  0.38808502  0.39133535  0.40344672\n",
      "  0.38319318  0.46562876  0.51533246  0.4731549   0.31722926  0.22661878\n",
      "  0.17318887  0.1832095   0.05473325 -0.0210327  -0.08419008 -0.11238534\n",
      " -0.11823791 -0.08179294  0.01098977  0.01325245  0.0177428   0.0277242\n",
      "  0.01484159 -0.00598105 -0.06492791 -0.06150987 -0.10808784 -0.12186052\n",
      " -0.15361996 -0.15732166 -0.16118906 -0.18964181 -0.18427868 -0.18169786\n",
      " -0.19453182 -0.23880674 -0.25254856 -0.26138191 -0.27890633 -0.28501852\n",
      " -0.29460795 -0.26568192 -0.26443885 -0.25182448 -0.24745997 -0.22883158\n",
      " -0.21376788 -0.19639228 -0.19835615 -0.20209886 -0.22468104 -0.23920008\n",
      " -0.23824882 -0.23286143 -0.23794945 -0.26129756 -0.27344567 -0.26501741\n",
      " -0.26794241 -0.24573431 -0.22018076 -0.22417817 -0.21852594 -0.19463985\n",
      " -0.17042799 -0.15212528 -0.12890107 -0.13174235 -0.12433243 -0.13033337\n",
      " -0.12753884 -0.13916508 -0.14620659 -0.14183355 -0.13079098 -0.11651649\n",
      " -0.10049843 -0.09032519 -0.08087432 -0.06240191 -0.06114693 -0.05901483\n",
      " -0.0574035  -0.06162011 -0.06326788 -0.05852722 -0.05857207 -0.05531626\n",
      " -0.04138129 -0.03093033 -0.01742909 -0.01755184]\n",
      "-0.1544951524228493\n",
      "-0.06471675535522672\n"
     ]
    }
   ],
   "source": [
    "print(test_stat_vanilla[1,N_min:N_min+100])\n",
    "print(test_stat_vr[1,N_min:N_min+100])\n",
    "print(test_stat_vanilla[1,-1])\n",
    "print(test_stat_vr[1,-1])"
   ]
  },
  {
   "cell_type": "code",
   "execution_count": 32,
   "metadata": {},
   "outputs": [
    {
     "name": "stdout",
     "output_type": "stream",
     "text": [
      "[2.64454983 2.48827938 2.28768178 2.17479818 2.32951868 2.1624117\n",
      " 2.19431109 2.23181171 2.21715404 2.08637646]\n",
      "[2.64454983 1.70404895 1.27215019 1.03016963 1.06625299 0.76721556\n",
      " 0.74191023 0.6891382  0.60197723 0.49293512]\n",
      "0.11883453822103263\n"
     ]
    }
   ],
   "source": [
    "vars_vanilla = np.var(test_stat_vanilla,axis = 0)\n",
    "vars_adj = np.var(test_stat_vr,axis = 0)\n",
    "print(vars_vanilla[N_min:N_min+10])\n",
    "print(vars_adj[N_min:N_min+10])\n",
    "print(np.mean(vars_adj[N_min:]/vars_vanilla[N_min:]))"
   ]
  },
  {
   "cell_type": "code",
   "execution_count": 33,
   "metadata": {},
   "outputs": [
    {
     "name": "stdout",
     "output_type": "stream",
     "text": [
      "0.10053953334694639\n"
     ]
    }
   ],
   "source": [
    "print(np.mean(vars_adj[-10:]/vars_vanilla[-10:]))"
   ]
  },
  {
   "cell_type": "code",
   "execution_count": null,
   "metadata": {},
   "outputs": [],
   "source": []
  }
 ],
 "metadata": {
  "kernelspec": {
   "display_name": "Python 3",
   "language": "python",
   "name": "python3"
  },
  "language_info": {
   "codemirror_mode": {
    "name": "ipython",
    "version": 3
   },
   "file_extension": ".py",
   "mimetype": "text/x-python",
   "name": "python",
   "nbconvert_exporter": "python",
   "pygments_lexer": "ipython3",
   "version": "3.7.3"
  }
 },
 "nbformat": 4,
 "nbformat_minor": 2
}
