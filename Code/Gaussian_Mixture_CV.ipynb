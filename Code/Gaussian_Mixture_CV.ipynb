{
 "cells": [
  {
   "cell_type": "code",
   "execution_count": 80,
   "metadata": {},
   "outputs": [],
   "source": [
    "import numpy as np\n",
    "import numpy.polynomial as P\n",
    "import scipy as sp\n",
    "from matplotlib import pyplot as plt\n",
    "from tqdm import tqdm\n",
    "#from sklearn.preprocessing import PolynomialFeatures\n",
    "from multiprocessing import Pool\n",
    "import multiprocessing\n",
    "import ZVnbrosse\n",
    "from potentials import GaussPotential,GaussMixture,GausMixtureIdent,GausMixtureSame\n",
    "from zv_cv import Eval_ZVCV\n",
    "from samplers import MCMC_sampler,Generate_train,ULA_light\n",
    "from baselines import set_function,construct_ESVM_kernel,GenerateSigma, construct_Tukey_Hanning \n",
    "from martingale import approx_q,test_traj\n",
    "from optimize import Run_eval_test,optimize_parallel_new \n",
    "from utils import *\n",
    "import copy"
   ]
  },
  {
   "cell_type": "code",
   "execution_count": 81,
   "metadata": {},
   "outputs": [],
   "source": [
    "N_burn = 1*10**4 # Burn in period\n",
    "N_train = 1*10**5 # Number of samples on which we optimize\n",
    "#N_test = 2*10**3 # Number of samples\n",
    "step = 0.1 # Step size\n",
    "#step = 0.2\n",
    "n_traj = 100 # Number of independent MCMC trajectories for test"
   ]
  },
  {
   "cell_type": "markdown",
   "metadata": {},
   "source": [
    "Choose sampler type (currently only ULA is maintained)"
   ]
  },
  {
   "cell_type": "code",
   "execution_count": 82,
   "metadata": {},
   "outputs": [
    {
     "name": "stdout",
     "output_type": "stream",
     "text": [
      "[0.44449977 3.48642106]\n"
     ]
    }
   ],
   "source": [
    "d = 2\n",
    "mu = 0.5*np.ones(d,dtype = float)\n",
    "#mu_1 = np.array([-1.0])\n",
    "#mu_2 = np.array([1.0])\n",
    "#Sigma_1 = np.array([[1.0]])\n",
    "#Sigma_2 = np.array([[1.0]])\n",
    "Sigma = GenerateSigma(d,rand_seed = 778,eps = 0.1) #covariance matrix \n",
    "p = 0.5\n",
    "Cur_pot = GausMixtureSame(Sigma,mu,p)\n",
    "#Cur_pot = GaussMixture(Sigma_1,Sigma_2,mu_1,mu_2,p)\n",
    "#Cur_pot = GausMixtureIdent(mu,p)\n",
    "r_seed = 777\n",
    "x0 = np.array([0.0,0.0])\n",
    "fixed_start = True\n",
    "bn = int(np.sqrt(N_train))\n",
    "W_test = construct_Tukey_Hanning(N_train,bn)"
   ]
  },
  {
   "cell_type": "markdown",
   "metadata": {},
   "source": [
    "### Generate data"
   ]
  },
  {
   "cell_type": "code",
   "execution_count": 83,
   "metadata": {},
   "outputs": [
    {
     "name": "stdout",
     "output_type": "stream",
     "text": [
      "ncores =  12\n",
      "accepted =  82233\n",
      "accepted =  82086\n",
      "accepted =  82064\n",
      "accepted =  82189\n",
      "accepted =  82085\n",
      "accepted =  82162\n",
      "accepted =  82450\n",
      "accepted =  82559\n",
      "accepted =  82364\n",
      "accepted =  82483\n",
      "accepted =  82176\n",
      "accepted =  81989\n",
      "accepted =  81991\n",
      "accepted =  82300\n",
      "accepted =  82329\n",
      "accepted =  82275\n",
      "accepted =  82004\n",
      "accepted =  82359\n",
      "accepted =  82119\n",
      "accepted =  82283\n",
      "accepted =  82226\n",
      "accepted =  82320\n",
      "accepted =  81949\n",
      "accepted =  82565\n",
      "accepted =  82094\n",
      "accepted =  82270\n",
      "accepted =  82185\n",
      "accepted =  82156\n",
      "accepted =  82197\n",
      "accepted =  82385\n",
      "accepted =  82063\n",
      "accepted =  82421\n",
      "accepted =  82274\n",
      "accepted =  82257\n",
      "accepted =  82198\n",
      "accepted =  82315\n",
      "accepted =  82541\n",
      "accepted =  82214\n",
      "accepted =  82217\n",
      "accepted =  82335\n",
      "accepted =  82421\n",
      "accepted =  82059\n",
      "accepted =  82520\n",
      "accepted =  82384\n",
      "accepted =  82271\n",
      "accepted =  82570\n",
      "accepted =  82167\n",
      "accepted =  82088\n",
      "accepted =  82045\n",
      "accepted =  82299\n",
      "accepted =  82432\n",
      "accepted =  82378\n",
      "accepted =  82175\n",
      "accepted =  82341\n",
      "accepted =  82105\n",
      "accepted =  82313\n",
      "accepted =  82319\n",
      "accepted =  82198\n",
      "accepted =  82050\n",
      "accepted =  82150\n",
      "accepted =  82329\n",
      "accepted =  82217\n",
      "accepted =  82271\n",
      "accepted =  82400\n",
      "accepted =  82313\n",
      "accepted =  82307\n",
      "accepted =  82493\n",
      "accepted =  82269\n",
      "accepted =  82282\n",
      "accepted =  82187\n",
      "accepted =  82317\n",
      "accepted =  82399\n",
      "accepted =  82407\n",
      "accepted =  82348\n",
      "accepted =  82297\n",
      "accepted =  82109\n",
      "accepted =  82437\n",
      "accepted =  82067\n",
      "accepted =  82358\n",
      "accepted =  82426\n",
      "accepted =  82466\n",
      "accepted =  82053\n",
      "accepted =  82008\n",
      "accepted =  82368\n",
      "accepted =  82218\n",
      "accepted =  82318\n",
      "accepted =  82383\n",
      "accepted =  82347\n",
      "accepted =  82142\n",
      "accepted =  82421\n",
      "accepted =  82229\n",
      "accepted =  82639\n",
      "accepted =  82311\n",
      "accepted =  82357\n",
      "accepted =  82423\n",
      "accepted =  82147\n",
      "accepted =  82496\n",
      "accepted =  82314\n",
      "accepted =  82124\n",
      "accepted =  82206\n"
     ]
    }
   ],
   "source": [
    "sampler = {\"sampler\":\"RWM\",\"burn_type\":\"full\",\"main_type\":\"full\"} # Sampling method\n",
    "\n",
    "if sampler[\"sampler\"] == \"ULA\":\n",
    "    res = Generate_train(n_traj, sampler, Cur_pot, step, N_burn, N_train, d)\n",
    "    res = np.asarray(res)\n",
    "    traj,traj_grad = res[:,0,:,:],res[:,1,:,:]\n",
    "else:\n",
    "    res = Generate_train(n_traj, sampler, Cur_pot, step, N_burn, N_train, d)\n",
    "    traj = []\n",
    "    traj_grad = []\n",
    "    for i in range(len(res)):\n",
    "        traj.append(res[i][0])\n",
    "        traj_grad.append(res[i][1])\n",
    "        print(\"accepted = \",res[i][2])\n",
    "    traj = np.asarray(traj)\n",
    "    traj_grad = np.asarray(traj_grad)"
   ]
  },
  {
   "cell_type": "code",
   "execution_count": 84,
   "metadata": {},
   "outputs": [
    {
     "name": "stdout",
     "output_type": "stream",
     "text": [
      "(100, 100000, 2)\n",
      "(100, 100000, 2)\n"
     ]
    }
   ],
   "source": [
    "print(traj.shape)\n",
    "print(traj_grad.shape)\n",
    "traj_grad = (-1)*traj_grad"
   ]
  },
  {
   "cell_type": "code",
   "execution_count": 85,
   "metadata": {},
   "outputs": [
    {
     "name": "stdout",
     "output_type": "stream",
     "text": [
      "CV1:  [[ 0.92871284]\n",
      " [-0.5806815 ]]\n",
      "CV1:  [[ 0.89416526]\n",
      " [-0.50518948]]\n",
      "CV1:  [[ 0.93619739]\n",
      " [-0.54538029]]\n",
      "CV1:  [[ 0.90646698]\n",
      " [-0.53963526]]\n",
      "CV1:  [[ 0.95705701]\n",
      " [-0.57829373]]CV1:  [[ 0.9072232 ]\n",
      " [-0.52534056]]\n",
      "\n",
      "CV1:  [[ 0.90784625]\n",
      " [-0.53707499]]\n",
      "CV1:  [[ 0.91478911]\n",
      " [-0.55016107]]CV1:  [[ 0.89567858]\n",
      " [-0.50963289]]\n",
      "\n",
      "CV1:  [[ 0.91093509]\n",
      " [-0.53046861]]\n",
      "CV1:  [[ 0.92089269]\n",
      " [-0.54401383]]\n",
      "CV1:  [[ 0.92134391]\n",
      " [-0.58538907]]\n",
      "CV1:  [[ 0.92674146]\n",
      " [-0.56880457]]\n",
      "CV1:  [[ 0.92191507]\n",
      " [-0.535588  ]]\n",
      "CV1:  [[ 0.94334945]\n",
      " [-0.53974139]]\n",
      "CV1:  [[ 0.93752078]\n",
      " [-0.58554909]]\n",
      "CV1:  [[ 0.90897766]\n",
      " [-0.51203078]]\n",
      "CV1:  [[ 0.93027445]\n",
      " [-0.55776907]]\n",
      "CV1:  [[ 0.93529801]\n",
      " [-0.53969913]]\n",
      "CV1:  [[ 0.87953215]\n",
      " [-0.46827233]]\n",
      "CV1:  [[ 0.89754999]\n",
      " [-0.53432698]]\n",
      "CV1:  [[ 0.92310804]\n",
      " [-0.58429916]]\n",
      "CV1:  [[ 0.88126689]\n",
      " [-0.51184081]]\n",
      "CV1:  [[ 0.91421799]\n",
      " [-0.50228128]]\n",
      "CV1:  [[ 0.92083214]\n",
      " [-0.5222899 ]]\n",
      "CV1:  [[ 0.91488857]\n",
      " [-0.54231099]]\n",
      "CV1:  [[ 0.91685224]\n",
      " [-0.52518014]]\n",
      "CV1:  [[ 0.90535315]\n",
      " [-0.51713759]]\n",
      "CV1:  [[ 0.9192966 ]\n",
      " [-0.60768417]]\n",
      "CV1:  [[ 0.90836014]\n",
      " [-0.5191666 ]]\n",
      "CV1:  [[ 0.89862795]\n",
      " [-0.54063121]]\n",
      "CV1:  [[ 0.91021583]\n",
      " [-0.48475363]]\n",
      "CV1:  [[ 0.91099315]\n",
      " [-0.52596988]]\n",
      "CV1:  [[ 0.88874518]\n",
      " [-0.47696468]]\n",
      "CV1:  [[ 0.91791854]\n",
      " [-0.49745343]]\n",
      "CV1:  [[ 0.94108536]\n",
      " [-0.62821571]]\n",
      "CV1:  [[ 0.91220726]\n",
      " [-0.51337972]]\n",
      "CV1:  [[ 0.89438245]\n",
      " [-0.50932904]]\n",
      "CV1:  [[ 0.94133346]\n",
      " [-0.59594922]]CV1:  [[ 0.92680822]\n",
      " [-0.5298016 ]]\n",
      "CV1:  [[ 0.89703366]\n",
      " [-0.56141767]]\n",
      "\n",
      "CV1:  [[ 0.92177224]\n",
      " [-0.49377052]]\n",
      "CV1:  [[ 0.93917438]\n",
      " [-0.5337001 ]]\n",
      "CV1:  [[ 0.91871855]\n",
      " [-0.50943418]]\n",
      "CV1:  [[ 0.87676745]\n",
      " [-0.5024375 ]]\n",
      "CV1:  [[ 0.89733303]\n",
      " [-0.51996713]]\n",
      "CV1:  [[ 0.88225965]\n",
      " [-0.50377322]]\n",
      "CV1:  [[ 0.91662622]\n",
      " [-0.53336018]]\n",
      "CV1:  [[ 0.90916519]\n",
      " [-0.53922245]]\n",
      "CV1:  [[ 0.93109147]\n",
      " [-0.56298472]]CV1:  [[ 0.91022269]\n",
      " [-0.53604665]]\n",
      "\n",
      "CV1:  [[ 0.91967875]\n",
      " [-0.52423577]]CV1:  [[ 0.93567489]\n",
      " [-0.5431959 ]]\n",
      "\n",
      "CV1:  [[ 0.9244356 ]\n",
      " [-0.53354784]]\n",
      "CV1:  [[ 0.91323892]\n",
      " [-0.5075465 ]]\n",
      "CV1:  [[ 0.90129148]\n",
      " [-0.52784955]]\n",
      "CV1:  [[ 0.92305818]\n",
      " [-0.53839853]]\n",
      "CV1:  [[ 0.89775328]\n",
      " [-0.54819188]]\n",
      "CV1:  [[ 0.91346443]\n",
      " [-0.52387208]]\n",
      "CV1:  [[ 0.91679293]\n",
      " [-0.54157616]]\n",
      "CV1:  [[ 0.92380225]\n",
      " [-0.53976293]]\n",
      "CV1:  [[ 0.90594636]\n",
      " [-0.51998981]]\n",
      "CV1:  [[ 0.91965299]\n",
      " [-0.53228998]]\n",
      "CV1:  [[ 0.91679827]\n",
      " [-0.54711602]]\n",
      "CV1:  [[ 0.91672918]\n",
      " [-0.5293303 ]]\n",
      "CV1:  [[ 0.91529797]\n",
      " [-0.51099442]]\n",
      "CV1:  [[ 0.91928338]\n",
      " [-0.5517893 ]]CV1:  [[ 0.90753419]\n",
      " [-0.56838984]]CV1:  [[ 0.92507147]\n",
      " [-0.55671972]]\n",
      "\n",
      "\n",
      "CV1:  [[ 0.94289756]\n",
      " [-0.58248808]]\n",
      "CV1:  [[ 0.9029044]\n",
      " [-0.4976941]]\n",
      "CV1:  [[ 0.91269486]\n",
      " [-0.54987421]]\n",
      "CV1:  [[ 0.92524745]\n",
      " [-0.5376537 ]]\n",
      "CV1:  [[ 0.93649176]\n",
      " [-0.57213382]]CV1:  [[ 0.92268848]\n",
      " [-0.53609491]]\n",
      "\n",
      "CV1:  [[ 0.92562429]\n",
      " [-0.54884474]]\n",
      "CV1:  [[ 0.91720015]\n",
      " [-0.55976559]]\n",
      "CV1:  [[ 0.91660363]\n",
      " [-0.58068512]]\n",
      "CV1:  [[ 0.91476222]\n",
      " [-0.50928354]]CV1:  [[ 0.89526397]\n",
      " [-0.50163833]]\n",
      "\n",
      "CV1:  [[ 0.9070062 ]\n",
      " [-0.54467169]]\n",
      "CV1:  [[ 0.92034311]\n",
      " [-0.52270513]]\n",
      "CV1:  [[ 0.90775263]\n",
      " [-0.48473491]]\n",
      "CV1:  [[ 0.89442184]\n",
      " [-0.47568072]]\n",
      "CV1:  [[ 0.91668356]\n",
      " [-0.56104879]]\n",
      "CV1:  [[ 0.89541512]\n",
      " [-0.55458766]]\n",
      "CV1:  [[ 0.91134869]\n",
      " [-0.52645727]]\n",
      "CV1:  [[ 0.90358338]\n",
      " [-0.50787824]]\n",
      "CV1:  [[ 0.89860689]\n",
      " [-0.5126139 ]]\n",
      "CV1:  [[ 0.93426072]\n",
      " [-0.57795252]]\n",
      "CV1:  [[ 0.90684759]\n",
      " [-0.56128721]]\n",
      "CV1:  [[ 0.91756938]\n",
      " [-0.52939027]]\n",
      "CV1:  [[ 0.93100532]\n",
      " [-0.57329912]]\n",
      "CV1:  [[ 0.89631639]\n",
      " [-0.53697878]]\n",
      "CV1:  [[ 0.93375967]\n",
      " [-0.54248597]]CV1:  [[ 0.90537725]\n",
      " [-0.53605521]]\n",
      "\n",
      "CV1:  [[ 0.90755013]\n",
      " [-0.50509752]]CV1:  [[ 0.91638774]\n",
      " [-0.58425485]]\n",
      "\n",
      "CV1:  [[ 0.9060642 ]\n",
      " [-0.48814495]]\n",
      "CV1:  [[ 0.91656501]\n",
      " [-0.51111704]]\n"
     ]
    }
   ],
   "source": [
    "test_seed = 1453\n",
    "nbcores = multiprocessing.cpu_count()\n",
    "f_type = \"sum_comps\"\n",
    "params = {\"ind\":0}\n",
    "trav = Pool(nbcores)\n",
    "res = trav.starmap(Eval_ZVCV, [(traj[i,:,:],traj_grad[i,:,:],f_type,params,W_test) for i in range (n_traj)])\n",
    "trav.close()"
   ]
  },
  {
   "cell_type": "code",
   "execution_count": 86,
   "metadata": {},
   "outputs": [
    {
     "name": "stdout",
     "output_type": "stream",
     "text": [
      "(100, 2, 5)\n"
     ]
    }
   ],
   "source": [
    "res_arr = np.asarray(res)\n",
    "print(res_arr.shape)"
   ]
  },
  {
   "cell_type": "markdown",
   "metadata": {},
   "source": [
    "### VR rates"
   ]
  },
  {
   "cell_type": "code",
   "execution_count": 87,
   "metadata": {},
   "outputs": [
    {
     "name": "stdout",
     "output_type": "stream",
     "text": [
      "Average vr rates:\n",
      "ZV-1: 99.95102914390111\n",
      "CV-1: 94.96178465582898\n",
      "ZV-2: 100.34237344327323\n",
      "CV-2: 105.14962348741602\n"
     ]
    }
   ],
   "source": [
    "#np.save(\"results/gmm/RWM_quadratic_d_2_mu_05_sigma_mixed_gamma_01_25_06.npy\",res_arr)\n",
    "print(\"Average vr rates:\")\n",
    "print(\"ZV-1:\",np.mean(res_arr[:,1,0]/res_arr[:,1,1]))\n",
    "print(\"CV-1:\",np.mean(res_arr[:,1,0]/res_arr[:,1,3]))\n",
    "print(\"ZV-2:\",np.mean(res_arr[:,1,0]/res_arr[:,1,2]))\n",
    "print(\"CV-2:\",np.mean(res_arr[:,1,0]/res_arr[:,1,4]))"
   ]
  },
  {
   "cell_type": "markdown",
   "metadata": {},
   "source": [
    "### Comparison plots"
   ]
  },
  {
   "cell_type": "code",
   "execution_count": 88,
   "metadata": {},
   "outputs": [],
   "source": [
    "title = \"\"\n",
    "labels = ['Vanilla\\n RWM', 'RWM \\nwith ZV-1', 'RWM \\nwith CV-1']"
   ]
  },
  {
   "cell_type": "code",
   "execution_count": 89,
   "metadata": {},
   "outputs": [
    {
     "data": {
      "image/png": "[encoded data removed]",
      "text/plain": [
       "<Figure size 500x400 with 1 Axes>"
      ]
     },
     "metadata": {
      "needs_background": "light"
     },
     "output_type": "display_data"
    }
   ],
   "source": [
    "data = [res_arr[:,0,0],res_arr[:,0,1],res_arr[:,0,3]] \n",
    "boxplot_ind(data, title, labels, path = \"results/gmm/rwm_mixed_1.pdf\")"
   ]
  },
  {
   "cell_type": "code",
   "execution_count": 90,
   "metadata": {},
   "outputs": [],
   "source": [
    "title = \"\"\n",
    "labels = ['Vanilla\\n RWM', 'RWM \\nwith ZV-2', 'RWM \\nwith CV-2']"
   ]
  },
  {
   "cell_type": "code",
   "execution_count": 91,
   "metadata": {},
   "outputs": [
    {
     "data": {
      "image/png": "[encoded data removed]",
      "text/plain": [
       "<Figure size 500x400 with 1 Axes>"
      ]
     },
     "metadata": {
      "needs_background": "light"
     },
     "output_type": "display_data"
    }
   ],
   "source": [
    "data = [res_arr[:,0,0],res_arr[:,0,2],res_arr[:,0,4]] \n",
    "boxplot_ind(data, title, labels, path = \"results/gmm/rwm_mixed_2.pdf\")"
   ]
  },
  {
   "cell_type": "code",
   "execution_count": null,
   "metadata": {},
   "outputs": [],
   "source": []
  }
 ],
 "metadata": {
  "kernelspec": {
   "display_name": "Python 3",
   "language": "python",
   "name": "python3"
  },
  "language_info": {
   "codemirror_mode": {
    "name": "ipython",
    "version": 3
   },
   "file_extension": ".py",
   "mimetype": "text/x-python",
   "name": "python",
   "nbconvert_exporter": "python",
   "pygments_lexer": "ipython3",
   "version": "3.7.3"
  }
 },
 "nbformat": 4,
 "nbformat_minor": 2
}
