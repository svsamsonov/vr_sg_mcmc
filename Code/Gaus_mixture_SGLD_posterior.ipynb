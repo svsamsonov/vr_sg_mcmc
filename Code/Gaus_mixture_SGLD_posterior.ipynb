{
 "cells": [
  {
   "cell_type": "code",
   "execution_count": 20,
   "metadata": {},
   "outputs": [],
   "source": [
    "import numpy as np\n",
    "import numpy.polynomial as P\n",
    "import scipy as sp\n",
    "from matplotlib import pyplot as plt\n",
    "from tqdm import tqdm\n",
    "#from sklearn.preprocessing import PolynomialFeatures\n",
    "from multiprocessing import Pool\n",
    "import multiprocessing\n",
    "import ZVnbrosse\n",
    "#from potentials import BayesGausMixture\n",
    "from zv_cv import Eval_ZVCV_Gaus\n",
    "from samplers import MCMC_sampler,Generate_train,ULA_light\n",
    "from baselines import set_function,construct_ESVM_kernel,GenerateSigma, construct_Tukey_Hanning, set_function, Spectral_var, mult_W \n",
    "from martingale import approx_q,test_traj\n",
    "from optimize import Run_eval_test,optimize_parallel_new \n",
    "from utils import *\n",
    "import copy"
   ]
  },
  {
   "cell_type": "code",
   "execution_count": 21,
   "metadata": {},
   "outputs": [
    {
     "data": {
      "text/plain": [
       "'\\nclass BayesGausMixture:\\n    #Implements bayesian problem for estimating gaussian mixture parameters\\n    def __init__(self,mu_1,mu_2,sigma_x,sigma_theta,X):\\n        self.mu_1 = mu_1\\n        self.mu_2 = mu_2\\n        self.sigma_x = sigma_x\\n        self.sigma_param = sigma_theta\\n        self.X = copy.deepcopy(X)\\n        self.batch_size = 10\\n\\n    def gradpotential(self,theta):\\n        theta_1 = theta[0]\\n        theta_2 = theta[1]\\n        sigma_x = self.sigma_x\\n        sigma_p = self.sigma_param\\n        grad = np.zeros(2, dtype = float)\\n        arg_1 = self.X - theta_1\\n        arg_2 = self.X - theta_2\\n        denom = 1 + np.exp((-arg_2**2 + arg_1**2)/(2*sigma_x**2))\\n        #print(denom)\\n        grad[0] = -theta_1/sigma_p**2 + (1/sigma_x**2)*np.sum(arg_1 / denom)\\n        grad[1] = -theta_2/sigma_p**2 + (1/sigma_x**2)*np.sum(arg_2*np.exp(-(arg_2**2 + arg_1**2) / (2*sigma_x**2)) / denom)\\n        return grad\\n    \\n    def stoch_grad(self,theta):\\n        N = len(self.X)\\n        #choose random batch for SGLD\\n        batch_inds = np.random.choice(N,self.batch_size)\\n        theta_1 = theta[0]\\n        theta_2 = theta[1]\\n        sigma_x = self.sigma_x\\n        sigma_p = self.sigma_param\\n        grad = np.zeros(2, dtype = float)\\n        arg_1 = self.X - theta_1\\n        arg_2 = self.X - theta_2\\n        denom = np.exp(-(arg_1)**2/(2*sigma_x**2)) + np.exp(-(arg_2)**2/(2*sigma_x**2))\\n        print(denom)\\n        grad[0] = -theta_1/sigma_p**2 + (N/(sigma_x**2 * self.batch_size))*np.sum((arg_1*np.exp(-arg_1**2 / (2*sigma_x**2)) / denom)[batch_inds])\\n        grad[1] = -theta_2/sigma_p**2 + (N/(sigma_x**2 * self.batch_size))*np.sum((arg_2*np.exp(-arg_2**2 / (2*sigma_x**2)) / denom)[batch_inds])\\n        return grad\\n'"
      ]
     },
     "execution_count": 21,
     "metadata": {},
     "output_type": "execute_result"
    }
   ],
   "source": [
    "\"\"\"\n",
    "class BayesGausMixture:\n",
    "    #Implements bayesian problem for estimating gaussian mixture parameters\n",
    "    def __init__(self,mu_1,mu_2,sigma_x,sigma_theta,X):\n",
    "        self.mu_1 = mu_1\n",
    "        self.mu_2 = mu_2\n",
    "        self.sigma_x = sigma_x\n",
    "        self.sigma_param = sigma_theta\n",
    "        self.X = copy.deepcopy(X)\n",
    "        self.batch_size = 10\n",
    "\n",
    "    def gradpotential(self,theta):\n",
    "        theta_1 = theta[0]\n",
    "        theta_2 = theta[1]\n",
    "        sigma_x = self.sigma_x\n",
    "        sigma_p = self.sigma_param\n",
    "        grad = np.zeros(2, dtype = float)\n",
    "        arg_1 = self.X - theta_1\n",
    "        arg_2 = self.X - theta_2\n",
    "        denom = 1 + np.exp((-arg_2**2 + arg_1**2)/(2*sigma_x**2))\n",
    "        #print(denom)\n",
    "        grad[0] = -theta_1/sigma_p**2 + (1/sigma_x**2)*np.sum(arg_1 / denom)\n",
    "        grad[1] = -theta_2/sigma_p**2 + (1/sigma_x**2)*np.sum(arg_2*np.exp(-(arg_2**2 + arg_1**2) / (2*sigma_x**2)) / denom)\n",
    "        return grad\n",
    "    \n",
    "    def stoch_grad(self,theta):\n",
    "        N = len(self.X)\n",
    "        #choose random batch for SGLD\n",
    "        batch_inds = np.random.choice(N,self.batch_size)\n",
    "        theta_1 = theta[0]\n",
    "        theta_2 = theta[1]\n",
    "        sigma_x = self.sigma_x\n",
    "        sigma_p = self.sigma_param\n",
    "        grad = np.zeros(2, dtype = float)\n",
    "        arg_1 = self.X - theta_1\n",
    "        arg_2 = self.X - theta_2\n",
    "        denom = np.exp(-(arg_1)**2/(2*sigma_x**2)) + np.exp(-(arg_2)**2/(2*sigma_x**2))\n",
    "        print(denom)\n",
    "        grad[0] = -theta_1/sigma_p**2 + (N/(sigma_x**2 * self.batch_size))*np.sum((arg_1*np.exp(-arg_1**2 / (2*sigma_x**2)) / denom)[batch_inds])\n",
    "        grad[1] = -theta_2/sigma_p**2 + (N/(sigma_x**2 * self.batch_size))*np.sum((arg_2*np.exp(-arg_2**2 / (2*sigma_x**2)) / denom)[batch_inds])\n",
    "        return grad\n",
    "\"\"\""
   ]
  },
  {
   "cell_type": "code",
   "execution_count": 22,
   "metadata": {},
   "outputs": [],
   "source": [
    "class BayesGausMixtureSymm:\n",
    "    \"\"\"\n",
    "    Implements bayesian problem for estimating gaussian mixture parameters\n",
    "    \"\"\"\n",
    "    def __init__(self,sigma_x,sigma_theta,X):\n",
    "        self.sigma_x = sigma_x\n",
    "        self.sigma_param = sigma_theta\n",
    "        self.X = copy.deepcopy(X)\n",
    "        self.batch_size = 10\n",
    "\n",
    "    def gradpotential(self,theta):\n",
    "        #note that in this example theta is 1-dimensional\n",
    "        sigma_x = self.sigma_x\n",
    "        sigma_p = self.sigma_param\n",
    "        #grad = np.zeros(1, dtype = float)\n",
    "        #print(denom)\n",
    "        grad = -theta/(sigma_p**2) + np.sum((self.X-theta)/sigma_x**2 - 2*self.X/(1+np.exp(2*self.X*theta/sigma_x**2)))\n",
    "        return grad\n",
    "    \n",
    "    def stoch_grad(self,theta):\n",
    "        N = len(self.X)\n",
    "        #choose random batch for SGLD\n",
    "        batch_inds = np.random.choice(N,self.batch_size)\n",
    "        sigma_x = self.sigma_x\n",
    "        sigma_p = self.sigma_param\n",
    "        #grad = np.zeros(1, dtype = float)\n",
    "        #print(denom)\n",
    "        grad = -theta/(sigma_p**2) + (N/self.batch_size)*np.sum(((self.X-theta)/sigma_x**2 - 2*self.X/(1+np.exp(2*self.X*theta/sigma_x**2)))[batch_inds])\n",
    "        return grad"
   ]
  },
  {
   "cell_type": "code",
   "execution_count": 23,
   "metadata": {},
   "outputs": [],
   "source": [
    "from baselines import set_function, Spectral_var\n",
    "def ZVpoly1d(traj,traj_grad,f_target,deg,lamda_reg,W_spec):\n",
    "    if f_target == \"sum\":\n",
    "        samples = traj[:,0].reshape(-1,1)\n",
    "    else:\n",
    "        raise \"Unexpected function type in Eval_ZVCV_1d\"\n",
    "    L_psi = np.zeros((deg,samples.shape[0]),dtype = float)\n",
    "    for i in range(deg):\n",
    "        L_psi[i] = (i+1)*traj_grad[:,0]*(traj[:,0]**i) + i*(i+1)*(traj[:,0]**(i-1))\n",
    "    #compute main matrix\n",
    "    H_zv = np.cov(L_psi, rowvar=True)\n",
    "    #compute right side\n",
    "    b_zv = ((L_psi - L_psi.mean(axis=1).reshape(deg,1)) @ (samples - samples.mean(axis=0)))/(samples.shape[0]-1)\n",
    "    theta = np.linalg.inv(H_zv + lambda_reg*np.eye(deg)) @ b_zv\n",
    "    ZV_est = samples - L_psi.T @ theta\n",
    "    mean_ZV = np.mean(ZV_est, axis = 0)\n",
    "    var_ZV = Spectral_var(ZV_est[:,0],W_spec)\n",
    "    return mean_ZV, var_ZV\n",
    "\n",
    "def ESVMpoly1d(traj,traj_grad,f_target,d,lamda_reg,W_spec):\n",
    "    if f_target == \"sum\":\n",
    "        samples = traj[:,0].reshape(-1,1)\n",
    "    else:\n",
    "        raise \"Unexpected function type in Eval_ZVCV_1d\"\n",
    "    L_psi = np.zeros((d,samples.shape[0]),dtype = float)\n",
    "    W_psi = np.zeros((d,samples.shape[0]),dtype = float)\n",
    "    for i in range(d):\n",
    "        L_psi[i] = (i+1)*traj_grad[:,0]*(traj[:,0]**i) + i*(i+1)*(traj[:,0]**(i-1))\n",
    "        W_psi[i] = mult_W(L_psi[i],W_spec)\n",
    "    #compute main matrix\n",
    "    H_esvm = np.dot(L_psi - L_psi.mean(axis=1).reshape(d,1),(W_psi - W_psi.mean(axis=1).reshape(d,1)).T)/(samples.shape[0]-1)\n",
    "    #compute right-hand side\n",
    "    b_esvm = ((W_psi - W_psi.mean(axis=1).reshape(d,1)) @ (samples - samples.mean(axis=0)))/(samples.shape[0]-1)\n",
    "    theta = np.linalg.inv(H_esvm + lambda_reg*np.eye(d)) @ b_esvm\n",
    "    ESVM_est = samples - L_psi.T @ theta\n",
    "    mean_ESVM = np.mean(ESVM_est, axis = 0)\n",
    "    var_ESVM = Spectral_var(ESVM_est[:,0],W_spec)\n",
    "    return mean_ESVM, var_ESVM\n",
    "    \n",
    "\n",
    "def CVpoly1d(traj,traj_grad,f_target,deg,lamda_reg,W_spec):\n",
    "    if f_target == \"sum\":\n",
    "        samples = traj[:,0].reshape(-1,1)\n",
    "    else:\n",
    "        raise \"Unexpected function type in Eval_ZVCV_1d\"\n",
    "    Nabla_psi = np.zeros((deg,samples.shape[0]),dtype=float)\n",
    "    Psi = np.zeros((deg,samples.shape[0]),dtype=float)\n",
    "    L_psi = np.zeros((deg,samples.shape[0]),dtype=float)\n",
    "    for i in range(deg):\n",
    "        Nabla_psi[i] = (i+1)*(traj[:,0]**i)\n",
    "        Psi[i] = traj[:,0]**(i+1)\n",
    "        L_psi[i] = (i+1)*traj_grad[:,0]*(traj[:,0]**i) + i*(i+1)*(traj[:,0]**(i-1))\n",
    "    #compute main matrix\n",
    "    H_cv = np.dot(Nabla_psi,Nabla_psi.T)/samples.shape[0]\n",
    "    #compute right side\n",
    "    b_cv = ((Psi - Psi.mean(axis=1).reshape(deg,1)) @ (samples - samples.mean(axis=0)))/(samples.shape[0]-1)\n",
    "    theta = np.linalg.inv(H_cv + lambda_reg*np.eye(deg)) @ b_cv\n",
    "    CV_est = samples - L_psi.T @ theta\n",
    "    mean_CV = np.mean(CV_est, axis = 0)\n",
    "    var_CV = Spectral_var(CV_est[:,0],W_spec)\n",
    "    return mean_CV, var_CV\n",
    "\n",
    "def CVpoly1d_adj(traj,traj_grad,f_target,deg,lamda_reg,W_spec):\n",
    "    if f_target == \"sum\":\n",
    "        samples = traj[:,0].reshape(-1,1)\n",
    "    else:\n",
    "        raise \"Unexpected function type in Eval_ZVCV_1d\"\n",
    "    Nabla_psi = np.zeros((deg,samples.shape[0]),dtype=float)\n",
    "    Psi = np.zeros((deg,samples.shape[0]),dtype=float)\n",
    "    L_psi = np.zeros((deg,samples.shape[0]),dtype=float)\n",
    "    for i in range(deg):\n",
    "        Nabla_psi[i] = (i+1)*(traj[:,0]**i)\n",
    "        Psi[i] = traj[:,0]**(i+1)\n",
    "        L_psi[i] = (i+1)*traj_grad[:,0]*(traj[:,0]**i) + i*(i+1)*(traj[:,0]**(i-1))\n",
    "    #compute main matrix\n",
    "    Pois = np.concatenate([Psi,-L_psi],axis=0)\n",
    "    Cov_matr = np.cov(Pois,rowvar = True)\n",
    "    H_cv = Cov_matr[:deg,deg:]\n",
    "    #compute right side\n",
    "    b_cv = ((Psi - Psi.mean(axis=1).reshape(deg,1)) @ (samples - samples.mean(axis=0)))/(samples.shape[0]-1)\n",
    "    theta = np.linalg.inv(H_cv + lambda_reg*np.eye(deg)) @ b_cv\n",
    "    CV_est = samples + L_psi.T @ theta\n",
    "    mean_CV = np.mean(CV_est, axis = 0)\n",
    "    var_CV = Spectral_var(CV_est[:,0],W_spec)\n",
    "    return mean_CV, var_CV\n",
    "    \n",
    "\n",
    "def Eval_ZVCV_1d(traj,traj_grad,f_target,deg,lambda_reg,W_spec):\n",
    "    if f_target == \"sum\":\n",
    "        samples = traj.sum(axis = 1).reshape(-1,1)\n",
    "    else:\n",
    "        raise \"Unexpected function type in Eval_ZVCV_1d\"\n",
    "    mean_vanilla = np.mean(samples)\n",
    "    vars_vanilla = Spectral_var(samples[:,0],W_spec)\n",
    "    mean_ZV, var_ZV = ZVpoly1d(traj,traj_grad,f_target,deg,lambda_reg,W_spec)\n",
    "    #mean_CV, var_CV = CVpoly1d(traj,traj_grad,f_target,deg,lambda_reg,W_spec)\n",
    "    mean_CV_pois, var_CV_pois = CVpoly1d_adj(traj,traj_grad,f_target,deg,lambda_reg,W_spec)\n",
    "    mean_esvm, var_esvm = ESVMpoly1d(traj,traj_grad,f_target,deg,lambda_reg,W_spec)\n",
    "    return (mean_vanilla,mean_ZV, mean_CV_pois, mean_esvm), (vars_vanilla, var_ZV, var_CV_pois, var_esvm)"
   ]
  },
  {
   "cell_type": "code",
   "execution_count": 24,
   "metadata": {},
   "outputs": [],
   "source": [
    "N_burn = 1*10**3 # Burn in period\n",
    "N_train = 5*10**4 # Number of samples on which we optimize\n",
    "step = 5e-3 # Step size\n",
    "#put 0.5 for MALA\n",
    "#step = 0.2\n",
    "n_traj = 24 # Number of independent MCMC trajectories for test\n",
    "f_type = \"sum\"\n",
    "bn = 10\n",
    "#bn = int(np.sqrt(N_train))\n",
    "#W_test = construct_Tukey_Hanning(N_train,bn)\n",
    "W_test = construct_ESVM_kernel(N_train,bn)"
   ]
  },
  {
   "cell_type": "markdown",
   "metadata": {},
   "source": [
    "#### Generate potential for ULA"
   ]
  },
  {
   "cell_type": "code",
   "execution_count": 25,
   "metadata": {},
   "outputs": [
    {
     "name": "stdout",
     "output_type": "stream",
     "text": [
      "[1 1 1 1 1 0 0 0 0 1 0 1 0 1 0 1 0 0 0 0 0 1 0 0 1 1 1 0 1 0 1 1 1 1 0 1 0\n",
      " 0 1 0 0 0 0 1 0 0 1 1 1 0 0 0 0 0 1 1 1 0 1 0 0 1 1 1 0 0 0 0 1 0 1 0 0 0\n",
      " 1 1 1 1 1 0 1 0 1 1 1 1 0 1 0 0 1 0 1 0 1 1 1 0 0 0]\n"
     ]
    }
   ],
   "source": [
    "#fix dimensionality\n",
    "d = 1\n",
    "#generate sample from normal distribution\n",
    "#theta = np.array([0.,1.],dtype = float)\n",
    "mu = 1.0\n",
    "#standard deviations for prior\n",
    "sigma_theta = 10\n",
    "#standard deviations for data\n",
    "sigma_x = 1.0\n",
    "#generate observations\n",
    "N = 100\n",
    "np.random.seed(666)\n",
    "#which group to sample from\n",
    "mask = np.random.binomial(1, 0.5, size=N)\n",
    "print(mask)\n",
    "#sample from two group of normals\n",
    "Y_1 = sigma_x*np.random.randn(N) + mu\n",
    "Y_2 = sigma_x*np.random.randn(N) - mu\n",
    "#join and obtain mixture\n",
    "X = Y_1*mask + Y_2*(1-mask)\n",
    "Cur_pot = BayesGausMixtureSymm(sigma_x,sigma_theta,X)\n",
    "#gradient type\n",
    "grad_type = \"SGLD\""
   ]
  },
  {
   "cell_type": "code",
   "execution_count": 26,
   "metadata": {},
   "outputs": [
    {
     "name": "stdout",
     "output_type": "stream",
     "text": [
      "[ 1.71150415  0.82934995  1.80013002  1.67775509  0.04957141 -0.7441659\n",
      " -0.92071199  0.31558859 -0.922933    0.4150507  -2.14042154  0.99281837\n",
      " -1.79402126  0.77979772  0.50994626  0.81373306 -1.78181666 -1.45680416\n",
      " -0.63229619 -2.51645727 -0.79432323  0.10306821 -2.33227093  0.37288101\n",
      "  1.60937818  1.59035144  0.36505366 -1.54010608  0.13018766 -1.00684581\n",
      "  0.59229339  2.05300095  0.36173149  3.27524041  0.15774281  0.93765914\n",
      " -0.53991867 -2.05890454  1.3624901  -0.50300628 -4.19551031 -1.06326281\n",
      " -0.18809619  0.21699712 -1.30183891 -2.06939499  0.69419755  1.6699217\n",
      "  2.40285445  0.71894417 -1.71836405 -0.33654331 -0.99243027 -0.5355067\n",
      "  1.18562837  1.20523546  1.47999864 -1.62561794  0.38981583 -0.37607581\n",
      " -1.1440877   0.58814444  4.21727605 -0.11492761  0.14383114  0.66721599\n",
      " -2.08490992 -1.09249701 -0.18259007 -1.72438629 -1.76013122  0.67766373\n",
      " -1.76889304 -2.17013219  0.79172577  0.3333974   0.34511259  2.43422229\n",
      "  0.64734578 -0.57127751  1.61355883 -0.89776435  1.31415839  1.8786719\n",
      "  0.5729326   1.92038047 -0.4266767   1.45042725 -1.25309689 -1.36640501\n",
      " -0.65524261 -1.12250157  1.73931846 -0.92337867  1.16741132  2.14134383\n",
      " -0.27241741 -0.16087918 -1.94648591 -1.0447278 ]\n"
     ]
    }
   ],
   "source": [
    "print(X)"
   ]
  },
  {
   "cell_type": "markdown",
   "metadata": {},
   "source": [
    "### Visualize level sets of the potential"
   ]
  },
  {
   "cell_type": "code",
   "execution_count": 8,
   "metadata": {},
   "outputs": [],
   "source": [
    "def plot_posterior(a,sigma_x,sigma_theta,X):\n",
    "    density_val = np.exp(-a**2 / (2*sigma_theta**2))\n",
    "    likelihoods = np.exp(-(X-a)**2 / (2*sigma_x**2)) + np.exp(-(X+a)**2 / (2*sigma_x**2))\n",
    "    for i in range(len(likelihoods)):\n",
    "        density_val*=likelihoods[i]\n",
    "    return density_val*10**6\n",
    "\n",
    "args = np.linspace(-3,3,num=200)\n",
    "posterior_val = np.zeros(len(args))\n",
    "for i in range(len(args)):\n",
    "    posterior_val[i] = plot_posterior(args[i],sigma_x,sigma_theta,X) "
   ]
  },
  {
   "cell_type": "code",
   "execution_count": 9,
   "metadata": {},
   "outputs": [
    {
     "data": {
      "image/png": "[encoded data removed]",
      "text/plain": [
       "<Figure size 720x720 with 1 Axes>"
      ]
     },
     "metadata": {
      "needs_background": "light"
     },
     "output_type": "display_data"
    }
   ],
   "source": [
    "plt.figure(figsize=(10, 10))\n",
    "plt.plot(args,posterior_val,color='r',label='posterior density')\n",
    "#plt.plot(P.polynomial.polyval(X_train[0,:N_pts-cur_lag],coefs_poly_theor[cur_lag,:]),color='b',label = 'theoretical approximation')\n",
    "plt.legend(loc = 'upper right',fontsize = 16)\n",
    "plt.show()"
   ]
  },
  {
   "cell_type": "markdown",
   "metadata": {},
   "source": [
    "### Generate data"
   ]
  },
  {
   "cell_type": "code",
   "execution_count": 10,
   "metadata": {},
   "outputs": [
    {
     "name": "stdout",
     "output_type": "stream",
     "text": [
      "ncores =  12\n"
     ]
    }
   ],
   "source": [
    "sampler = {\"sampler\":\"ULA\",\"burn_type\":grad_type,\"main_type\":grad_type} # Sampling method\n",
    "\n",
    "if sampler[\"sampler\"] == \"ULA\":\n",
    "    res = Generate_train(n_traj, sampler, Cur_pot, step, N_burn, N_train, d)\n",
    "    res = np.asarray(res)\n",
    "    traj,traj_grad = res[:,0,:,:],res[:,1,:,:]\n",
    "else:\n",
    "    res = Generate_train(n_traj, sampler, Cur_pot, step, N_burn, N_train, d)\n",
    "    traj = []\n",
    "    traj_grad = []\n",
    "    for i in range(len(res)):\n",
    "        traj.append(res[i][0])\n",
    "        traj_grad.append(res[i][1])\n",
    "        print(\"accepted = \",res[i][2])\n",
    "    traj = np.asarray(traj)\n",
    "    traj_grad = np.asarray(traj_grad)"
   ]
  },
  {
   "cell_type": "markdown",
   "metadata": {},
   "source": [
    "### Visualize training trajectories"
   ]
  },
  {
   "cell_type": "code",
   "execution_count": 11,
   "metadata": {},
   "outputs": [],
   "source": [
    "#visualize_scatter_2d(traj[3,:,:])"
   ]
  },
  {
   "cell_type": "code",
   "execution_count": 12,
   "metadata": {},
   "outputs": [
    {
     "name": "stdout",
     "output_type": "stream",
     "text": [
      "[ 1.02281553  0.98414876  0.90040957 ... -1.36239123 -1.12316237\n",
      " -1.26249366]\n"
     ]
    }
   ],
   "source": [
    "print(traj[1,:,0])"
   ]
  },
  {
   "cell_type": "code",
   "execution_count": 13,
   "metadata": {},
   "outputs": [
    {
     "name": "stdout",
     "output_type": "stream",
     "text": [
      "[[-0.39528837]\n",
      " [-0.28859996]\n",
      " [-0.07312929]\n",
      " [ 0.82293869]\n",
      " [ 0.6920289 ]\n",
      " [-0.46886134]\n",
      " [ 0.61773324]\n",
      " [-0.84557002]\n",
      " [-0.51263937]\n",
      " [-0.18601164]\n",
      " [ 0.02943923]\n",
      " [-0.06601821]\n",
      " [-0.9396932 ]\n",
      " [ 0.95291481]\n",
      " [-0.17563021]\n",
      " [-0.51149078]\n",
      " [-0.48658542]\n",
      " [ 0.00782274]\n",
      " [-0.10135854]\n",
      " [ 0.77510615]\n",
      " [ 0.73092801]\n",
      " [-0.4530384 ]\n",
      " [ 0.21807645]\n",
      " [ 0.2555334 ]]\n"
     ]
    }
   ],
   "source": [
    "res = traj.mean(axis=1)\n",
    "print(res)"
   ]
  },
  {
   "cell_type": "markdown",
   "metadata": {},
   "source": [
    "### Run variance reduction"
   ]
  },
  {
   "cell_type": "code",
   "execution_count": 14,
   "metadata": {},
   "outputs": [
    {
     "name": "stdout",
     "output_type": "stream",
     "text": [
      "(24, 50000, 1)\n",
      "(24, 50000, 1)\n"
     ]
    }
   ],
   "source": [
    "print(traj.shape)\n",
    "print(traj_grad.shape)\n",
    "#traj_grad = (-1)*traj_grad"
   ]
  },
  {
   "cell_type": "code",
   "execution_count": 15,
   "metadata": {},
   "outputs": [],
   "source": [
    "test_seed = 1453\n",
    "f_type = \"sum\"\n",
    "params = {\"ind\":0}\n",
    "#regularizer\n",
    "lambda_reg = 1e-10\n",
    "#polynomial degree\n",
    "deg = 1\n",
    "nbcores = multiprocessing.cpu_count()\n",
    "trav = Pool(nbcores)\n",
    "res = trav.starmap(Eval_ZVCV_1d, [(traj[i,:,:],traj_grad[i,:,:],f_type,deg,lambda_reg,W_test) for i in range (n_traj)])\n",
    "trav.close()"
   ]
  },
  {
   "cell_type": "code",
   "execution_count": 16,
   "metadata": {},
   "outputs": [
    {
     "name": "stdout",
     "output_type": "stream",
     "text": [
      "(24, 2, 4)\n"
     ]
    }
   ],
   "source": [
    "res_arr = np.asarray(res)\n",
    "print(res_arr.shape)"
   ]
  },
  {
   "cell_type": "markdown",
   "metadata": {},
   "source": [
    "### Saving results"
   ]
  },
  {
   "cell_type": "code",
   "execution_count": 17,
   "metadata": {},
   "outputs": [
    {
     "name": "stdout",
     "output_type": "stream",
     "text": [
      "Average vr rates:\n",
      "ZV: 1.0146913810818161\n",
      "CV: 0.29001995673323216\n",
      "ESVM: 1.0256908994806972\n"
     ]
    }
   ],
   "source": [
    "#np.save(\"results/rezende/RWM_linear_29_06.npy\",res_arr)\n",
    "print(\"Average vr rates:\")\n",
    "print(\"ZV:\",np.mean(res_arr[:,1,0]/res_arr[:,1,1]))\n",
    "print(\"CV:\",np.mean(res_arr[:,1,0]/res_arr[:,1,2]))\n",
    "print(\"ESVM:\",np.mean(res_arr[:,1,0]/res_arr[:,1,3]))"
   ]
  },
  {
   "cell_type": "markdown",
   "metadata": {},
   "source": [
    "### Comparison plots"
   ]
  },
  {
   "cell_type": "code",
   "execution_count": 18,
   "metadata": {},
   "outputs": [],
   "source": [
    "title = \"\"\n",
    "labels = ['Vanilla\\n ULA', 'ULA \\nwith ZV', 'ULA \\nwith CV', 'ULA \\nwith ESVM']"
   ]
  },
  {
   "cell_type": "code",
   "execution_count": 19,
   "metadata": {},
   "outputs": [
    {
     "data": {
      "image/png": "[encoded data removed]",
      "text/plain": [
       "<Figure size 500x400 with 1 Axes>"
      ]
     },
     "metadata": {
      "needs_background": "light"
     },
     "output_type": "display_data"
    }
   ],
   "source": [
    "data = [res_arr[:,0,0],res_arr[:,0,1],res_arr[:,0,2],res_arr[:,0,3]] \n",
    "boxplot_ind(data, title, labels, path = \"results/mixture_sgld/1storder.pdf\")"
   ]
  },
  {
   "cell_type": "code",
   "execution_count": null,
   "metadata": {},
   "outputs": [],
   "source": [
    "title = \"\"\n",
    "labels = ['Vanilla\\n ULA', 'ULA \\nwith ZV', 'ULA \\nwith ESVM']"
   ]
  },
  {
   "cell_type": "code",
   "execution_count": null,
   "metadata": {},
   "outputs": [],
   "source": [
    "data = [res_arr[:,0,0],res_arr[:,0,1],res_arr[:,0,3]] \n",
    "boxplot_ind(data, title, labels, path = \"results/donut/ula_esvm.pdf\")"
   ]
  },
  {
   "cell_type": "code",
   "execution_count": null,
   "metadata": {},
   "outputs": [],
   "source": [
    "title = \"\"\n",
    "labels = ['ULA \\nwith ZV-1', 'ULA \\nwith CV-1']"
   ]
  },
  {
   "cell_type": "code",
   "execution_count": null,
   "metadata": {},
   "outputs": [],
   "source": [
    "data = [res_arr[:,0,1],res_arr[:,0,3]] \n",
    "boxplot_ind(data, title, labels)"
   ]
  },
  {
   "cell_type": "code",
   "execution_count": null,
   "metadata": {},
   "outputs": [],
   "source": [
    "title = \"\"\n",
    "labels = ['Vanilla\\n MALA', 'MALA \\nwith ZV-2', 'MALA \\nwith CV-2']"
   ]
  },
  {
   "cell_type": "code",
   "execution_count": null,
   "metadata": {},
   "outputs": [],
   "source": [
    "data = [res_arr[:,0,0],res_arr[:,0,2],res_arr[:,0,4]] \n",
    "boxplot_ind(data, title, labels)"
   ]
  },
  {
   "cell_type": "code",
   "execution_count": null,
   "metadata": {},
   "outputs": [],
   "source": [
    "title = \"\"\n",
    "labels = ['ULA \\nwith ZV-2', 'ULA \\nwith CV-2']"
   ]
  },
  {
   "cell_type": "code",
   "execution_count": null,
   "metadata": {},
   "outputs": [],
   "source": [
    "data = [res_arr[:,0,2],res_arr[:,0,4]] \n",
    "boxplot_ind(data, title, labels)"
   ]
  },
  {
   "cell_type": "code",
   "execution_count": null,
   "metadata": {},
   "outputs": [],
   "source": []
  },
  {
   "cell_type": "code",
   "execution_count": null,
   "metadata": {},
   "outputs": [],
   "source": []
  }
 ],
 "metadata": {
  "kernelspec": {
   "display_name": "Python 3",
   "language": "python",
   "name": "python3"
  },
  "language_info": {
   "codemirror_mode": {
    "name": "ipython",
    "version": 3
   },
   "file_extension": ".py",
   "mimetype": "text/x-python",
   "name": "python",
   "nbconvert_exporter": "python",
   "pygments_lexer": "ipython3",
   "version": "3.7.3"
  }
 },
 "nbformat": 4,
 "nbformat_minor": 2
}
