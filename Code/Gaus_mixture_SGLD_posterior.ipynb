{
 "cells": [
  {
   "cell_type": "code",
   "execution_count": null,
   "metadata": {},
   "outputs": [],
   "source": [
    "import numpy as np\n",
    "import numpy.polynomial as P\n",
    "import scipy as sp\n",
    "from matplotlib import pyplot as plt\n",
    "from tqdm import tqdm\n",
    "#from sklearn.preprocessing import PolynomialFeatures\n",
    "from multiprocessing import Pool\n",
    "import multiprocessing\n",
    "import ZVnbrosse\n",
    "#from potentials import BayesGausMixture\n",
    "from zv_cv import Eval_ZVCV_Gaus\n",
    "from samplers import MCMC_sampler,Generate_train,ULA_light\n",
    "from baselines import set_function,construct_ESVM_kernel,GenerateSigma, construct_Tukey_Hanning, set_function, Spectral_var, mult_W \n",
    "from martingale import approx_q,test_traj\n",
    "from optimize import Run_eval_test,optimize_parallel_new \n",
    "from utils import *\n",
    "import copy"
   ]
  },
  {
   "cell_type": "code",
   "execution_count": null,
   "metadata": {},
   "outputs": [],
   "source": [
    "class BayesGausMixture:\n",
    "    \"\"\"\n",
    "    Implements bayesian problem for estimating gaussian mixture parameters\n",
    "    \"\"\"\n",
    "    def __init__(self,mu_1,mu_2,sigma_x,sigma_theta,X):\n",
    "        self.mu_1 = mu_1\n",
    "        self.mu_2 = mu_2\n",
    "        self.sigma_x = sigma_x\n",
    "        self.sigma_param = sigma_theta\n",
    "        self.X = copy.deepcopy(X)\n",
    "        self.batch_size = 10\n",
    "\n",
    "    def gradpotential(self,theta):\n",
    "        theta_1 = theta[0]\n",
    "        theta_2 = theta[1]\n",
    "        sigma_x = self.sigma_x\n",
    "        sigma_p = self.sigma_param\n",
    "        grad = np.zeros(2, dtype = float)\n",
    "        arg_1 = self.X - theta_1\n",
    "        arg_2 = self.X - theta_2\n",
    "        denom = 1 + np.exp((-arg_2**2 + arg_1**2)/(2*sigma_x**2))\n",
    "        #print(denom)\n",
    "        grad[0] = -theta_1/sigma_p**2 + (1/sigma_x**2)*np.sum(arg_1 / denom)\n",
    "        grad[1] = -theta_2/sigma_p**2 + (1/sigma_x**2)*np.sum(arg_2*np.exp(-(arg_2**2 + arg_1**2) / (2*sigma_x**2)) / denom)\n",
    "        return grad\n",
    "    \n",
    "    def stoch_grad(self,theta):\n",
    "        N = len(self.X)\n",
    "        #choose random batch for SGLD\n",
    "        batch_inds = np.random.choice(N,self.batch_size)\n",
    "        theta_1 = theta[0]\n",
    "        theta_2 = theta[1]\n",
    "        sigma_x = self.sigma_x\n",
    "        sigma_p = self.sigma_param\n",
    "        grad = np.zeros(2, dtype = float)\n",
    "        arg_1 = self.X - theta_1\n",
    "        arg_2 = self.X - theta_2\n",
    "        denom = np.exp(-(arg_1)**2/(2*sigma_x**2)) + np.exp(-(arg_2)**2/(2*sigma_x**2))\n",
    "        print(denom)\n",
    "        grad[0] = -theta_1/sigma_p**2 + (N/(sigma_x**2 * self.batch_size))*np.sum((arg_1*np.exp(-arg_1**2 / (2*sigma_x**2)) / denom)[batch_inds])\n",
    "        grad[1] = -theta_2/sigma_p**2 + (N/(sigma_x**2 * self.batch_size))*np.sum((arg_2*np.exp(-arg_2**2 / (2*sigma_x**2)) / denom)[batch_inds])\n",
    "        return grad"
   ]
  },
  {
   "cell_type": "code",
   "execution_count": null,
   "metadata": {},
   "outputs": [],
   "source": [
    "class BayesGausMixtureSymm:\n",
    "    \"\"\"\n",
    "    Implements bayesian problem for estimating gaussian mixture parameters\n",
    "    \"\"\"\n",
    "    def __init__(self,sigma_x,sigma_theta,X):\n",
    "        self.sigma_x = sigma_x\n",
    "        self.sigma_param = sigma_theta\n",
    "        self.X = copy.deepcopy(X)\n",
    "        self.batch_size = 10\n",
    "\n",
    "    def gradpotential(self,theta):\n",
    "        #note that in this example theta is 1-dimensional\n",
    "        sigma_x = self.sigma_x\n",
    "        sigma_p = self.sigma_param\n",
    "        #grad = np.zeros(1, dtype = float)\n",
    "        #print(denom)\n",
    "        grad = -theta/(sigma_p**2) + np.sum((self.X-theta)/sigma_x**2 - 2*self.X/(1+np.exp(2*self.X*theta/sigma_x**2)))\n",
    "        return grad\n",
    "    \n",
    "    def stoch_grad(self,theta):\n",
    "        N = len(self.X)\n",
    "        #choose random batch for SGLD\n",
    "        batch_inds = np.random.choice(N,self.batch_size)\n",
    "        sigma_x = self.sigma_x\n",
    "        sigma_p = self.sigma_param\n",
    "        #grad = np.zeros(1, dtype = float)\n",
    "        #print(denom)\n",
    "        grad = -theta/(sigma_p**2) + (N/self.batch_size)*np.sum(((self.X-theta)/sigma_x**2 - 2*self.X/(1+np.exp(2*self.X*theta/sigma_x**2)))[batch_inds])\n",
    "        return grad"
   ]
  },
  {
   "cell_type": "code",
   "execution_count": null,
   "metadata": {},
   "outputs": [],
   "source": [
    "N_burn = 1*10**3 # Burn in period\n",
    "N_train = 1*10**4 # Number of samples on which we optimize\n",
    "step = 1e-3 # Step size\n",
    "#put 0.5 for MALA\n",
    "#step = 0.2\n",
    "n_traj = 24 # Number of independent MCMC trajectories for test\n",
    "f_type = \"sum\"\n",
    "bn = 10\n",
    "#bn = int(np.sqrt(N_train))\n",
    "#W_test = construct_Tukey_Hanning(N_train,bn)\n",
    "W_test = construct_ESVM_kernel(N_train,bn)"
   ]
  },
  {
   "cell_type": "markdown",
   "metadata": {},
   "source": [
    "#### Generate potential for ULA"
   ]
  },
  {
   "cell_type": "code",
   "execution_count": null,
   "metadata": {},
   "outputs": [],
   "source": [
    "#fix dimensionality\n",
    "d = 1\n",
    "#generate sample from normal distribution\n",
    "#theta = np.array([0.,1.],dtype = float)\n",
    "mu = 2.0\n",
    "#standard deviations for prior\n",
    "sigma_theta = 10\n",
    "#standard deviations for data\n",
    "sigma_x = 1.0\n",
    "#generate observations\n",
    "N = 100\n",
    "np.random.seed(666)\n",
    "#which group to sample from\n",
    "mask = np.random.binomial(1, 0.5, size=N)\n",
    "print(mask)\n",
    "#sample from two group of normals\n",
    "Y_1 = sigma_x*np.random.randn(N) + mu\n",
    "Y_2 = sigma_x*np.random.randn(N) - mu\n",
    "#join and obtain mixture\n",
    "X = Y_1*mask + Y_2*(1-mask)\n",
    "Cur_pot = BayesGausMixtureSymm(sigma_x,sigma_theta,X)\n",
    "#gradient type\n",
    "grad_type = \"SGLD\""
   ]
  },
  {
   "cell_type": "code",
   "execution_count": null,
   "metadata": {},
   "outputs": [],
   "source": [
    "print(X)"
   ]
  },
  {
   "cell_type": "markdown",
   "metadata": {},
   "source": [
    "### Visualize level sets of the potential"
   ]
  },
  {
   "cell_type": "code",
   "execution_count": null,
   "metadata": {},
   "outputs": [],
   "source": []
  },
  {
   "cell_type": "markdown",
   "metadata": {},
   "source": [
    "### Generate data"
   ]
  },
  {
   "cell_type": "code",
   "execution_count": null,
   "metadata": {},
   "outputs": [],
   "source": [
    "sampler = {\"sampler\":\"ULA\",\"burn_type\":grad_type,\"main_type\":grad_type} # Sampling method\n",
    "\n",
    "if sampler[\"sampler\"] == \"ULA\":\n",
    "    res = Generate_train(n_traj, sampler, Cur_pot, step, N_burn, N_train, d)\n",
    "    res = np.asarray(res)\n",
    "    traj,traj_grad = res[:,0,:,:],res[:,1,:,:]\n",
    "else:\n",
    "    res = Generate_train(n_traj, sampler, Cur_pot, step, N_burn, N_train, d)\n",
    "    traj = []\n",
    "    traj_grad = []\n",
    "    for i in range(len(res)):\n",
    "        traj.append(res[i][0])\n",
    "        traj_grad.append(res[i][1])\n",
    "        print(\"accepted = \",res[i][2])\n",
    "    traj = np.asarray(traj)\n",
    "    traj_grad = np.asarray(traj_grad)"
   ]
  },
  {
   "cell_type": "markdown",
   "metadata": {},
   "source": [
    "### Visualize training trajectories"
   ]
  },
  {
   "cell_type": "code",
   "execution_count": null,
   "metadata": {},
   "outputs": [],
   "source": [
    "#visualize_scatter_2d(traj[3,:,:])"
   ]
  },
  {
   "cell_type": "code",
   "execution_count": null,
   "metadata": {},
   "outputs": [],
   "source": [
    "print(traj[1,:,0])"
   ]
  },
  {
   "cell_type": "code",
   "execution_count": null,
   "metadata": {},
   "outputs": [],
   "source": [
    "res = traj.mean(axis=1)\n",
    "print(res)"
   ]
  },
  {
   "cell_type": "markdown",
   "metadata": {},
   "source": [
    "### Run variance reduction"
   ]
  },
  {
   "cell_type": "code",
   "execution_count": null,
   "metadata": {},
   "outputs": [],
   "source": [
    "print(traj.shape)\n",
    "print(traj_grad.shape)\n",
    "traj_grad = (-1)*traj_grad"
   ]
  },
  {
   "cell_type": "code",
   "execution_count": null,
   "metadata": {},
   "outputs": [],
   "source": [
    "from zv_cv import ZVpolyOne\n",
    "def GausCV(traj,sample):\n",
    "    \"\"\"\n",
    "    returns matrix of gaussian CV's \n",
    "    \"\"\"\n",
    "    m=7\n",
    "    pen=0.\n",
    "    x = np.linspace(-3,3,m)\n",
    "    y = np.linspace(-3,3,m)\n",
    "    sigma_squared = 4.0\n",
    "    xx, yy = np.meshgrid(x,y)\n",
    "    d = m**2\n",
    "    mu = np.concatenate((xx.reshape((-1,1)),yy.reshape((-1,1))),axis=1)\n",
    "    traj_adj = (np.repeat(traj[:,np.newaxis,:], d, axis=1)-mu[np.newaxis,:])/sigma_squared\n",
    "    psi_matr = np.zeros((d,traj.shape[0]))\n",
    "    for i in range(d):\n",
    "        psi_matr[i,:] = np.exp(-np.sum((traj-mu[i].reshape((1,2)))**2, axis=1)/(2*sigma_squared))\n",
    "    cov = np.dot(psi_matr - psi_matr.mean(axis=0),sample - sample.mean()) / traj.shape[0]\n",
    "    jac_matr = -traj_adj*((psi_matr.T).reshape((psi_matr.shape[1],psi_matr.shape[0],1)))\n",
    "    H = np.mean(np.matmul(jac_matr,jac_matr.transpose(0,2,1)),axis=0)\n",
    "    param_CV = np.linalg.inv(H + pen*np.eye(H.shape[0])) @ cov                                                                                 \n",
    "    jac_star = np.sum(jac_matr*param_CV[np.newaxis,:],axis=1)\n",
    "    print(jac_star.shape)\n",
    "    delta_star = (psi_matr.T*(np.sum(traj_adj**2, axis=2)-traj.shape[1]/sigma_squared)).dot(param_CV)\n",
    "    return jac_star,delta_star\n",
    "\n",
    "def GausCV_adj(traj,traj_grad,samples,f_target,params,W_spec):\n",
    "    \"\"\"\n",
    "    returns matrix of gaussian CV's \n",
    "    \"\"\"\n",
    "    #m=7 - good\n",
    "    m=7\n",
    "    lambda_reg=0.\n",
    "    x = np.linspace(-5,5,m)\n",
    "    y = np.linspace(-5,5,m)\n",
    "    sigma = 2.0\n",
    "    xx, yy = np.meshgrid(x,y)\n",
    "    d = m**2\n",
    "    #print(xx)\n",
    "    mu = np.concatenate((xx.reshape((-1,1)),yy.reshape((-1,1))),axis=1)\n",
    "    #Nabla_psi = np.zeros((d,samples.shape[0]),dtype=float)\n",
    "    Psi = np.zeros((d,samples.shape[0]),dtype=float)\n",
    "    L_psi = np.zeros((d,samples.shape[0]),dtype=float)\n",
    "    for i in range(d):\n",
    "        #Nabla_psi[i] = (i+1)*(traj[:,0]**i)\n",
    "        Psi[i] = np.exp(-(np.sum((traj-mu[i])**2,axis=1)/(2*sigma**2)))\n",
    "        L_psi[i] = (np.sum(traj_grad*(traj-mu[i])/sigma**2,axis=1) \\\n",
    "                    +(np.sum((traj-mu[i])**2,axis=1)/sigma**4 - traj.shape[1]/sigma**2))*Psi[i]\n",
    "    #compute main matrix\n",
    "    Pois = np.concatenate([Psi,-L_psi],axis=0)\n",
    "    Cov_matr = np.cov(Pois,rowvar = True)\n",
    "    H_cv = Cov_matr[:d,d:]\n",
    "    b_cv = ((Psi - Psi.mean(axis=1).reshape(d,1)) @ (samples - samples.mean(axis=0)))/(samples.shape[0]-1)\n",
    "    theta = np.linalg.inv(H_cv + lambda_reg*np.eye(d)) @ b_cv\n",
    "    CV_est = samples + L_psi.T @ theta\n",
    "    mean_CV = np.mean(CV_est, axis = 0)\n",
    "    var_CV = Spectral_var(CV_est[:,0],W_spec)\n",
    "    return mean_CV, var_CV \n",
    "\n",
    "def GausZV(traj,traj_grad,samples,f_target,params,W_spec):\n",
    "    \"\"\"\n",
    "    returns matrix of gaussian CV's for ZV algorithm;\n",
    "    \"\"\"\n",
    "    #m=7 - good\n",
    "    m=7\n",
    "    lambda_reg=0.\n",
    "    x = np.linspace(-5,5,m)\n",
    "    y = np.linspace(-5,5,m)\n",
    "    sigma = 2.0\n",
    "    xx, yy = np.meshgrid(x,y)\n",
    "    d = m**2\n",
    "    #print(xx)\n",
    "    mu = np.concatenate((xx.reshape((-1,1)),yy.reshape((-1,1))),axis=1)\n",
    "    #Nabla_psi = np.zeros((d,samples.shape[0]),dtype=float)\n",
    "    Psi = np.zeros((d,samples.shape[0]),dtype=float)\n",
    "    L_psi = np.zeros((d,samples.shape[0]),dtype=float)\n",
    "    for i in range(d):\n",
    "        #Nabla_psi[i] = (i+1)*(traj[:,0]**i)\n",
    "        Psi[i] = np.exp(-(np.sum((traj-mu[i])**2,axis=1)/(2*sigma**2)))\n",
    "        L_psi[i] = (np.sum(traj_grad*(traj-mu[i])/sigma**2,axis=1) \\\n",
    "                    +(np.sum((traj-mu[i])**2,axis=1)/sigma**4 - traj.shape[1]/sigma**2))*Psi[i]\n",
    "    #compute main matrix\n",
    "    H_zv = np.cov(L_psi,rowvar = True)\n",
    "    b_zv = ((L_psi - L_psi.mean(axis=1).reshape(d,1)) @ (samples - samples.mean(axis=0)))/(samples.shape[0]-1)\n",
    "    theta = np.linalg.inv(H_zv + lambda_reg*np.eye(d)) @ b_zv\n",
    "    ZV_est = samples - L_psi.T @ theta\n",
    "    mean_ZV = np.mean(ZV_est, axis = 0)\n",
    "    var_ZV = Spectral_var(ZV_est[:,0],W_spec)\n",
    "    return mean_ZV, var_ZV \n",
    "\n",
    "def GausESVM(traj,traj_grad,samples,f_target,params,W_spec):\n",
    "    \"\"\"\n",
    "    returns matrix of gaussian CV's for ESVM argorithm;\n",
    "    \"\"\"\n",
    "    #m=7 - good\n",
    "    m=7\n",
    "    lambda_reg=0.\n",
    "    x = np.linspace(-5,5,m)\n",
    "    y = np.linspace(-5,5,m)\n",
    "    sigma = 2.0\n",
    "    xx, yy = np.meshgrid(x,y)\n",
    "    d = m**2\n",
    "    #print(xx)\n",
    "    mu = np.concatenate((xx.reshape((-1,1)),yy.reshape((-1,1))),axis=1)\n",
    "    #Nabla_psi = np.zeros((d,samples.shape[0]),dtype=float)\n",
    "    Psi = np.zeros((d,samples.shape[0]),dtype=float)\n",
    "    L_psi = np.zeros((d,samples.shape[0]),dtype=float)\n",
    "    W_psi = np.zeros((d,samples.shape[0]),dtype=float)\n",
    "    for i in range(d):\n",
    "        #Nabla_psi[i] = (i+1)*(traj[:,0]**i)\n",
    "        Psi[i] = np.exp(-(np.sum((traj-mu[i])**2,axis=1)/(2*sigma**2)))\n",
    "        L_psi[i] = (np.sum(traj_grad*(traj-mu[i])/sigma**2,axis=1) \\\n",
    "                    +(np.sum((traj-mu[i])**2,axis=1)/sigma**4 - traj.shape[1]/sigma**2))*Psi[i]\n",
    "        W_psi[i] = mult_W(L_psi[i],W_spec)\n",
    "    #compute main matrix\n",
    "    H_esvm = np.dot(L_psi - L_psi.mean(axis=1).reshape(d,1),(W_psi - W_psi.mean(axis=1).reshape(d,1)).T)/(samples.shape[0]-1)\n",
    "    #compute right-hand side\n",
    "    b_esvm = ((W_psi - W_psi.mean(axis=1).reshape(d,1)) @ (samples - samples.mean(axis=0)))/(samples.shape[0]-1)\n",
    "    theta = np.linalg.inv(H_esvm + lambda_reg*np.eye(d)) @ b_esvm\n",
    "    ESVM_est = samples - L_psi.T @ theta\n",
    "    mean_ESVM = np.mean(ESVM_est, axis = 0)\n",
    "    var_ESVM = Spectral_var(ESVM_est[:,0],W_spec)\n",
    "    return mean_ESVM, var_ESVM    \n",
    "\n",
    "def Eval_ZVCV_Gaus(traj,traj_grad, f_target, params, W_spec):\n",
    "    if f_target == \"sum\":\n",
    "        samples = traj.sum(axis = 1).reshape(-1,1)\n",
    "    elif f_target == \"sum_comps\":\n",
    "        samples = traj[:,params[\"ind\"]].reshape(-1,1)\n",
    "    elif f_target == \"sum_comps_squared\":\n",
    "        samples = np.square(traj[:,params[\"ind\"]]).reshape(-1,1)\n",
    "    elif f_target == \"sum_squared\":\n",
    "        samples = np.square(traj).sum(axis = 1).reshape(-1,1)\n",
    "    elif f_target == \"sum_4th\":\n",
    "        samples = ((traj)**4).sum(axis = 1).reshape(-1,1)\n",
    "    elif f_target == \"exp_sum\":\n",
    "        samples = np.exp(traj.sum(axis = 1)).reshape(-1,1)\n",
    "    else:\n",
    "        traj = np.expand_dims(traj, axis = 0)\n",
    "        samples = set_function(f_target,traj,[0],params)\n",
    "        traj = traj[0]\n",
    "        samples = samples[0]\n",
    "    mean_vanilla = np.mean(samples)\n",
    "    vars_vanilla = Spectral_var(samples[:,0],W_spec)\n",
    "    mean_ZV, var_ZV = GausZV(traj,traj_grad,samples,f_target,params,W_spec)\n",
    "    mean_CV_adj, var_CV_adj = GausCV_adj(traj,traj_grad,samples,f_target,params,W_spec) \n",
    "    mean_ESVM, var_ESVM = GausESVM(traj,traj_grad,samples,f_target,params,W_spec)\n",
    "    return (mean_vanilla,mean_ZV,mean_CV_adj,mean_ESVM), (vars_vanilla,var_ZV,var_CV_adj,var_ESVM)"
   ]
  },
  {
   "cell_type": "code",
   "execution_count": null,
   "metadata": {},
   "outputs": [],
   "source": [
    "test_seed = 1453\n",
    "f_type = \"sum\"\n",
    "params = {\"ind\":1}\n",
    "nbcores = multiprocessing.cpu_count()\n",
    "trav = Pool(nbcores)\n",
    "res = trav.starmap(Eval_ZVCV_Gaus, [(traj[i,:,:],traj_grad[i,:,:],f_type,params,W_test) for i in range (n_traj)])\n",
    "trav.close()"
   ]
  },
  {
   "cell_type": "code",
   "execution_count": null,
   "metadata": {},
   "outputs": [],
   "source": [
    "res_arr = np.asarray(res)\n",
    "print(res_arr.shape)"
   ]
  },
  {
   "cell_type": "markdown",
   "metadata": {},
   "source": [
    "### Saving results"
   ]
  },
  {
   "cell_type": "code",
   "execution_count": null,
   "metadata": {},
   "outputs": [],
   "source": [
    "#np.save(\"results/rezende/RWM_linear_29_06.npy\",res_arr)\n",
    "print(\"Average vr rates:\")\n",
    "print(\"ZV:\",np.mean(res_arr[:,1,0]/res_arr[:,1,1]))\n",
    "print(\"CV:\",np.mean(res_arr[:,1,0]/res_arr[:,1,2]))\n",
    "print(\"ESVM:\",np.mean(res_arr[:,1,0]/res_arr[:,1,3]))"
   ]
  },
  {
   "cell_type": "markdown",
   "metadata": {},
   "source": [
    "### Comparison plots"
   ]
  },
  {
   "cell_type": "code",
   "execution_count": null,
   "metadata": {},
   "outputs": [],
   "source": [
    "title = \"\"\n",
    "labels = ['Vanilla\\n ULA', 'ULA \\nwith ZV', 'ULA \\nwith CV', 'ULA \\nwith ESVM']"
   ]
  },
  {
   "cell_type": "code",
   "execution_count": null,
   "metadata": {},
   "outputs": [],
   "source": [
    "data = [res_arr[:,0,0],res_arr[:,0,1],res_arr[:,0,2],res_arr[:,0,3]] \n",
    "boxplot_ind(data, title, labels, path = \"results/donut/ula.pdf\")"
   ]
  },
  {
   "cell_type": "code",
   "execution_count": null,
   "metadata": {},
   "outputs": [],
   "source": [
    "title = \"\"\n",
    "labels = ['Vanilla\\n ULA', 'ULA \\nwith ZV', 'ULA \\nwith ESVM']"
   ]
  },
  {
   "cell_type": "code",
   "execution_count": null,
   "metadata": {},
   "outputs": [],
   "source": [
    "data = [res_arr[:,0,0],res_arr[:,0,1],res_arr[:,0,3]] \n",
    "boxplot_ind(data, title, labels, path = \"results/donut/ula_esvm.pdf\")"
   ]
  },
  {
   "cell_type": "code",
   "execution_count": null,
   "metadata": {},
   "outputs": [],
   "source": [
    "title = \"\"\n",
    "labels = ['ULA \\nwith ZV-1', 'ULA \\nwith CV-1']"
   ]
  },
  {
   "cell_type": "code",
   "execution_count": null,
   "metadata": {},
   "outputs": [],
   "source": [
    "data = [res_arr[:,0,1],res_arr[:,0,3]] \n",
    "boxplot_ind(data, title, labels)"
   ]
  },
  {
   "cell_type": "code",
   "execution_count": null,
   "metadata": {},
   "outputs": [],
   "source": [
    "title = \"\"\n",
    "labels = ['Vanilla\\n MALA', 'MALA \\nwith ZV-2', 'MALA \\nwith CV-2']"
   ]
  },
  {
   "cell_type": "code",
   "execution_count": null,
   "metadata": {},
   "outputs": [],
   "source": [
    "data = [res_arr[:,0,0],res_arr[:,0,2],res_arr[:,0,4]] \n",
    "boxplot_ind(data, title, labels)"
   ]
  },
  {
   "cell_type": "code",
   "execution_count": null,
   "metadata": {},
   "outputs": [],
   "source": [
    "title = \"\"\n",
    "labels = ['ULA \\nwith ZV-2', 'ULA \\nwith CV-2']"
   ]
  },
  {
   "cell_type": "code",
   "execution_count": null,
   "metadata": {},
   "outputs": [],
   "source": [
    "data = [res_arr[:,0,2],res_arr[:,0,4]] \n",
    "boxplot_ind(data, title, labels)"
   ]
  },
  {
   "cell_type": "code",
   "execution_count": null,
   "metadata": {},
   "outputs": [],
   "source": []
  },
  {
   "cell_type": "code",
   "execution_count": null,
   "metadata": {},
   "outputs": [],
   "source": []
  }
 ],
 "metadata": {
  "kernelspec": {
   "display_name": "Python 3",
   "language": "python",
   "name": "python3"
  },
  "language_info": {
   "codemirror_mode": {
    "name": "ipython",
    "version": 3
   },
   "file_extension": ".py",
   "mimetype": "text/x-python",
   "name": "python",
   "nbconvert_exporter": "python",
   "pygments_lexer": "ipython3",
   "version": "3.6.7"
  }
 },
 "nbformat": 4,
 "nbformat_minor": 2
}
