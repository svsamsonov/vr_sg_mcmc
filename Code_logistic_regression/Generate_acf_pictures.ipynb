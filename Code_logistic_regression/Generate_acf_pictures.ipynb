{
 "cells": [
  {
   "cell_type": "code",
   "execution_count": 22,
   "metadata": {},
   "outputs": [],
   "source": [
    "import numpy as np\n",
    "import pandas as pd\n",
    "import scipy.stats as spstats\n",
    "from scipy import signal\n",
    "import pickle\n",
    "from multiprocessing import Pool\n",
    "import multiprocessing\n",
    "import scipy.sparse as sparse\n",
    "from sklearn.model_selection import train_test_split\n",
    "from statsmodels.tsa.stattools import acf,acovf\n",
    "\n",
    "from potentials import potentialRegression\n",
    "from baselines import construct_ESVM_kernel,split_dataset,set_function,standartize\n",
    "from optimize import Run_eval_test,optimize_parallel_new\n",
    "from samplers import MCMC_sampler,Generate_train,ULA\n",
    "from utils import *"
   ]
  },
  {
   "cell_type": "markdown",
   "metadata": {},
   "source": [
    "## Setting parameters"
   ]
  },
  {
   "cell_type": "markdown",
   "metadata": {},
   "source": [
    "<p>Datasets:</p>\n",
    "<ol>\n",
    "    <li>Eeg $(N=14\\,980,\\ d=15)$</li>\n",
    "    <li>Susy $(N=500\\,000,\\ d=19)$</li>\n",
    "</ol>"
   ]
  },
  {
   "cell_type": "code",
   "execution_count": 23,
   "metadata": {},
   "outputs": [],
   "source": [
    "dataset = \"eeg\" # Switch between \"eeg\" and \"susy\" \n",
    "\n",
    "intercept = True # Do we include the intercept\n",
    "\n",
    "method = {\"sampler\":\"ULA\",\"burn_type\":\"SGLDFP\",\"main_type\":\"SGLDFP\"} # Sampling method\n",
    "\n",
    "# Switch between \"posterior_prob_point\", \"posterior_prob_mean\", \"posterior_prob_variance\", \"posterior_mean\"\n",
    "f_type = \"posterior_prob_mean\""
   ]
  },
  {
   "cell_type": "code",
   "execution_count": 24,
   "metadata": {},
   "outputs": [],
   "source": [
    "# Tuning parameters\n",
    "step = 1*10**(-1)\n",
    "n_traj_train = 4 # Number of independent MCMC trajectories for train\n",
    "\n",
    "if (dataset == \"eeg\"):    \n",
    "    batch_size = 1*15 # Batch size for stochastic gradient\n",
    "    N_b = 1*10**4 # Burn-in period\n",
    "    N_train = 1*10**4 # Length of the train trajectory\n",
    "    N_test = 1*10**4 # Length of the test trajectories\n",
    "elif (dataset == \"susy\"): \n",
    "    batch_size = 3*19 # Batch size for stochastic gradient\n",
    "    N_b = 1*10**4 # Burn in period\n",
    "    N_train = 1*10**5 # Number of samples on which we optimize\n",
    "    N_test = 1*10**5 # Number of samples"
   ]
  },
  {
   "cell_type": "markdown",
   "metadata": {},
   "source": [
    "## Loading data"
   ]
  },
  {
   "cell_type": "code",
   "execution_count": 25,
   "metadata": {},
   "outputs": [],
   "source": [
    "if (dataset == \"eeg\"):   \n",
    "    data = pd.read_csv(\"data/eeg.csv\",header=None)\n",
    "    outliers_inds = np.array([13179,11509,898,10386])\n",
    "    Y = data.iloc[:,-1]\n",
    "    X = data.iloc[:,:-1]    \n",
    "elif (dataset == \"susy\"): \n",
    "    data = pd.read_csv(\"data/susy.csv\",header=None)\n",
    "    outliers_inds = np.array([267630])\n",
    "    Y = data.iloc[:,0]\n",
    "    X = data.iloc[:,1:]"
   ]
  },
  {
   "cell_type": "markdown",
   "metadata": {},
   "source": [
    "## Preprocessing data"
   ]
  },
  {
   "cell_type": "code",
   "execution_count": 26,
   "metadata": {},
   "outputs": [],
   "source": [
    "# Removing the outliers\n",
    "if (outliers_inds.size!=0):\n",
    "    X_processed = np.delete(np.asarray(X),outliers_inds,0)\n",
    "    mask = np.ones(len(Y),dtype = bool)\n",
    "    mask[outliers_inds] = False\n",
    "    Y_processed = Y[mask]\n",
    "    Y_processed = np.asarray(Y_processed)\n",
    "    X_processed = np.asarray(X_processed)\n",
    "else:\n",
    "    Y_processed = np.asarray(Y)\n",
    "    X_processed = np.asarray(X)"
   ]
  },
  {
   "cell_type": "code",
   "execution_count": 27,
   "metadata": {},
   "outputs": [],
   "source": [
    "if (f_type == \"posterior_mean\"):\n",
    "    X_train,X_train = standartize(X_processed,X_processed,intercept=intercept)\n",
    "    Y_train = Y_processed\n",
    "else:\n",
    "    X_train,X_test,Y_train,Y_test = train_test_split(X_processed,Y_processed,test_size=100,random_state=1812,stratify=Y_processed)\n",
    "    X_train,X_test = standartize(X_train,X_test,intercept=intercept)"
   ]
  },
  {
   "cell_type": "markdown",
   "metadata": {},
   "source": [
    "### Creating potential"
   ]
  },
  {
   "cell_type": "code",
   "execution_count": 28,
   "metadata": {},
   "outputs": [],
   "source": [
    "#std of initial point\n",
    "optim_params = {\n",
    "    \"compute_fp\":True,\n",
    "    \"GD\":False,\n",
    "    \"stochastic\":False,\n",
    "    \"order\":1,\n",
    "    \"n_restarts\":5,\n",
    "    \"batch_size\":100,\n",
    "    \"sigma\":1.0,\n",
    "    \"gtol\":1e-6,\n",
    "    \"gamma\":5e-4,\n",
    "    \"weight_decay\":0.995,\n",
    "    \"loop_length\":100,\n",
    "    \"n_loops\":300\n",
    "}"
   ]
  },
  {
   "cell_type": "code",
   "execution_count": 29,
   "metadata": {},
   "outputs": [],
   "source": [
    "# Construct kernel\n",
    "W_train_spec = construct_ESVM_kernel(N_train)\n",
    "W_test_spec = construct_ESVM_kernel(N_test)"
   ]
  },
  {
   "cell_type": "code",
   "execution_count": 30,
   "metadata": {},
   "outputs": [
    {
     "name": "stdout",
     "output_type": "stream",
     "text": [
      "optimization iteration ended\n",
      "success =  True\n",
      "func value =  9601.957236447844\n",
      "jacobian value =  [ 2.33928487e-07 -7.98432274e-08  2.39840255e-07 -4.26811268e-07\n",
      "  1.24110507e-07  7.99309695e-08 -3.89986750e-07 -1.23628031e-07\n",
      " -1.06085101e-07 -1.34195907e-07 -3.57737467e-07 -4.82283650e-07\n",
      " -3.69922688e-07  3.03352065e-07 -2.51494750e-07]\n",
      "number of function evaluation =  22\n",
      "number of jacobian evaluation =  22\n",
      "number of optimizer steps =  19\n",
      "optimization iteration ended\n",
      "success =  True\n",
      "func value =  9601.957236447843\n",
      "jacobian value =  [ 3.35007316e-07 -2.76311697e-07  2.50922545e-07 -4.39964618e-07\n",
      "  1.11398612e-07  2.10440969e-07 -3.19362184e-07  2.81527275e-08\n",
      " -7.87742208e-08 -9.33058165e-08 -2.96203762e-07 -5.40675769e-07\n",
      " -3.03768119e-07  3.60246938e-07 -2.38960362e-07]\n",
      "number of function evaluation =  22\n",
      "number of jacobian evaluation =  22\n",
      "number of optimizer steps =  19\n",
      "optimization iteration ended\n",
      "success =  True\n",
      "func value =  9601.957236447844\n",
      "jacobian value =  [ 3.12596657e-07 -1.91644651e-07  1.85895491e-08 -5.43337288e-07\n",
      "  6.15101639e-08  2.75966832e-07 -8.27880834e-08 -1.09135280e-07\n",
      " -1.64361974e-07 -1.76804655e-07 -1.18828739e-07 -4.40561723e-07\n",
      " -3.66434290e-07  3.01525675e-07 -2.47531757e-07]\n",
      "number of function evaluation =  22\n",
      "number of jacobian evaluation =  22\n",
      "number of optimizer steps =  19\n",
      "optimization iteration ended\n",
      "success =  True\n",
      "func value =  9601.957236447843\n",
      "jacobian value =  [ 2.26152382e-07 -1.85698767e-07  1.77395586e-07 -4.70541143e-07\n",
      "  1.44612285e-07  2.00465088e-07 -2.45873500e-07 -1.01249582e-07\n",
      " -1.87052399e-07 -1.41089393e-07 -2.90348726e-07 -4.27140109e-07\n",
      " -3.38426485e-07  2.90776456e-07 -1.72246662e-07]\n",
      "number of function evaluation =  22\n",
      "number of jacobian evaluation =  22\n",
      "number of optimizer steps =  19\n",
      "optimization iteration ended\n",
      "success =  True\n",
      "func value =  9601.957236447843\n",
      "jacobian value =  [ 3.84277710e-07 -2.27497537e-07  4.57062680e-08 -3.45838775e-07\n",
      "  1.04984311e-07  2.26917605e-07 -1.48888529e-07 -7.57533837e-08\n",
      " -2.15869698e-07 -2.24715583e-07 -2.72277503e-07 -4.63161325e-07\n",
      " -1.91195857e-07  2.74555996e-07 -1.24880153e-07]\n",
      "number of function evaluation =  22\n",
      "number of jacobian evaluation =  22\n",
      "number of optimizer steps =  19\n",
      "theta^* found succesfully\n",
      "final jacobian at termination: \n",
      "[ 3.35007316e-07 -2.76311697e-07  2.50922545e-07 -4.39964618e-07\n",
      "  1.11398612e-07  2.10440969e-07 -3.19362184e-07  2.81527275e-08\n",
      " -7.87742208e-08 -9.33058165e-08 -2.96203762e-07 -5.40675769e-07\n",
      " -3.03768119e-07  3.60246938e-07 -2.38960362e-07]\n"
     ]
    }
   ],
   "source": [
    "#Creating potential\n",
    "Cur_pot = potentialRegression(Y_train, X_train, typ = \"l\",optim_params = optim_params, batch_size = batch_size, print_info = True)\n",
    "d = Cur_pot.d #dimension"
   ]
  },
  {
   "cell_type": "markdown",
   "metadata": {},
   "source": [
    "## Sampling training samples"
   ]
  },
  {
   "cell_type": "code",
   "execution_count": 31,
   "metadata": {},
   "outputs": [
    {
     "name": "stdout",
     "output_type": "stream",
     "text": [
      "ncores =  12\n"
     ]
    }
   ],
   "source": [
    "#sample for variance reduction\n",
    "res = Generate_train(n_traj_train, method, Cur_pot, step, N_b, N_train, d)\n",
    "res = np.asarray(res)\n",
    "traj,traj_grad = res[:,0,:,:],res[:,1,:,:]"
   ]
  },
  {
   "cell_type": "markdown",
   "metadata": {},
   "source": [
    "## Initialization of function values"
   ]
  },
  {
   "cell_type": "code",
   "execution_count": 32,
   "metadata": {},
   "outputs": [],
   "source": [
    "#Select variables to optimize, other values are available ONLY for \"posterior_prob_point\" and \"posterior_mean\"\n",
    "inds_arr = np.array([0])\n",
    "#initialize vector of function values\n",
    "if (f_type == \"posterior_mean\"):\n",
    "    params = None\n",
    "else:\n",
    "    params = {\"X\":X_test,\"Y\":Y_test}\n",
    "f_vals = set_function(f_type,traj,inds_arr,params)"
   ]
  },
  {
   "cell_type": "markdown",
   "metadata": {},
   "source": [
    "## Training coefficients for EVM and ESVM"
   ]
  },
  {
   "cell_type": "code",
   "execution_count": 33,
   "metadata": {},
   "outputs": [],
   "source": [
    "#number of restarts during optimization\n",
    "n_restarts = 2\n",
    "#deviation of starting points\n",
    "sigma = 1\n",
    "#tolerance (for the norm of gradient)\n",
    "tol = 1e-5"
   ]
  },
  {
   "cell_type": "markdown",
   "metadata": {},
   "source": [
    "Here $LS$ estimate corresponds to simple least-squares problem "
   ]
  },
  {
   "cell_type": "code",
   "execution_count": 34,
   "metadata": {},
   "outputs": [
    {
     "name": "stdout",
     "output_type": "stream",
     "text": [
      "1 degree optimization terminated succesfully\n",
      "jacobian at termination: \n",
      "[ 3.48737100e-07  3.05430403e-07 -4.70347371e-07 -3.99783905e-07\n",
      "  2.70192631e-07  1.56480623e-07 -2.52777399e-07 -4.27107217e-07\n",
      "  1.18275345e-07  1.81179070e-07  1.14375573e-07  3.87567599e-07\n",
      "  6.38003755e-07 -3.31799584e-07  2.36090589e-07]\n",
      "1 degree optimization terminated succesfully\n",
      "jacobian at termination: \n",
      "[ 1.09013835e-06 -4.21833623e-07 -7.80035476e-07 -4.61871776e-07\n",
      " -8.60575510e-08 -9.57665469e-08  1.48735810e-08 -6.38061670e-07\n",
      " -4.60627496e-08  5.05983983e-07  3.12684195e-07  3.27686162e-07\n",
      "  4.31645877e-07 -2.71742898e-07  1.25333054e-07]\n",
      "1 degree optimization terminated succesfully\n",
      "jacobian at termination: \n",
      "[ 1.16988465e-07  2.74630492e-07 -1.46113712e-07 -2.93243666e-07\n",
      "  9.75846469e-08 -2.68567856e-07 -1.72364895e-07  2.55167725e-07\n",
      "  1.07740822e-08  1.82159814e-08  2.59699174e-07  3.42311895e-07\n",
      "  3.32770821e-07 -1.21243673e-07 -2.02032257e-08]\n"
     ]
    }
   ],
   "source": [
    "A_ESVM_1,A_EVM_1,A_LS_1 = optimize_parallel_new(1,inds_arr,f_vals,traj,traj_grad,W_train_spec,n_restarts,tol,sigma)"
   ]
  },
  {
   "cell_type": "markdown",
   "metadata": {},
   "source": [
    "### Evaluation"
   ]
  },
  {
   "cell_type": "markdown",
   "metadata": {},
   "source": [
    "Generate $1$ independent test trajectory of the same length with same burn-in, to visualize."
   ]
  },
  {
   "cell_type": "code",
   "execution_count": 35,
   "metadata": {},
   "outputs": [],
   "source": [
    "traj_test,traj_grad_test = ULA(1453,Cur_pot,step, N_b, N_test, d,method[\"burn_type\"],method[\"main_type\"])\n",
    "traj_test = np.asarray([traj_test])\n",
    "traj_grad_test = np.asarray([traj_grad_test])\n",
    "f_vals_test = set_function(f_type,traj_test,inds_arr,params)\n",
    "#"
   ]
  },
  {
   "cell_type": "code",
   "execution_count": 76,
   "metadata": {},
   "outputs": [
    {
     "data": {
      "image/png": "[encoded data removed]",
      "text/plain": [
       "<Figure size 1440x360 with 3 Axes>"
      ]
     },
     "metadata": {
      "needs_background": "light"
     },
     "output_type": "display_data"
    }
   ],
   "source": [
    "#do main plots in this section\n",
    "#indices of trajectory and variable, you can play around them in case element-wise test functions\n",
    "ex_num=0\n",
    "var_num=0\n",
    "#part of trajectory tp lot\n",
    "N1 = 5000\n",
    "N2 = 5500\n",
    "#number of covariances to visualize\n",
    "N_cov_1 = 0\n",
    "N_cov = 30\n",
    "\n",
    "vect_vanilla = f_vals_test[ex_num,:,var_num] \n",
    "vect_EVM = f_vals_test[ex_num,:,var_num] + traj_grad_test[ex_num,:,:] @ A_EVM_1[var_num,:]\n",
    "vect_ESVM = f_vals_test[ex_num,:,var_num] + traj_grad_test[ex_num,:,:] @ A_ESVM_1[var_num,:]\n",
    "\n",
    "sample_acf_vanilla = acovf(vect_vanilla, unbiased = True,fft = True)#,nlags=100)\n",
    "sample_acf_EVM = acovf(vect_EVM, unbiased = True,fft = True)#,nlags=100)\n",
    "sample_acf_ESVM = acovf(vect_ESVM, unbiased = True,fft = True)#,nlags=100)\n",
    "#\"\"\"\n",
    "\n",
    "fig, (ax1, ax2, ax3) = plt.subplots(1,3,figsize=(20,5),gridspec_kw={'width_ratios': [1.5,1.5,2]})\n",
    "ax1.set_title('Vanilla trajectory',fontsize=24)\n",
    "ax1.plot(N1+np.arange(len(vect_vanilla[N1:N2])),vect_vanilla[N1:N2],color='r')\n",
    "ax1.tick_params(axis='y',labelsize = 16)\n",
    "ax1.tick_params(axis='x',labelsize = 16)\n",
    "ax2.set_title('Trajectory after ESVM',fontsize=24)\n",
    "ax2.plot(N1+np.arange(len(vect_ESVM[N1:N2])),vect_ESVM[N1:N2],color='r')\n",
    "ax2.tick_params(axis='y',labelsize = 16)\n",
    "ax2.tick_params(axis='x',labelsize = 16)\n",
    "ax3.set_title('Sample autocovariance',fontsize=24)\n",
    "ax3.fill_between(N_cov_1+np.arange(N_cov-N_cov_1),sample_acf_vanilla[N_cov_1:N_cov],facecolor='blue',alpha=0.5,label='acf vanilla')\n",
    "ax3.fill_between(N_cov_1+np.arange(N_cov-N_cov_1),sample_acf_EVM[N_cov_1:N_cov],facecolor='green',alpha=0.5,label='acf EVM')\n",
    "ax3.fill_between(N_cov_1+np.arange(N_cov-N_cov_1),sample_acf_ESVM[N_cov_1:N_cov],facecolor='red',alpha=0.5,label='acf ESVM')\n",
    "ax3.set_ylim(0,5e-6)\n",
    "ax3.ticklabel_format(axis='y',style='sci',scilimits=(-2,2))\n",
    "ax3.tick_params(axis='y',labelsize = 16)\n",
    "ax3.tick_params(axis='x',labelsize = 16)\n",
    "ax3.legend(fontsize=24)\n",
    "fig.savefig(\"adjusted_trajectories.pdf\",bbox_inches = \"tight\")\n",
    "plt.show()"
   ]
  },
  {
   "cell_type": "markdown",
   "metadata": {},
   "source": [
    "### Produce 3 plots in a row"
   ]
  },
  {
   "cell_type": "code",
   "execution_count": 77,
   "metadata": {},
   "outputs": [],
   "source": [
    "method = {\"sampler\":\"ULA\",\"burn_type\":\"SGLDFP\",\"main_type\":\"SGLDFP\"} # Sampling method\n",
    "# Switch between \"posterior_prob_point\", \"posterior_prob_mean\", \"posterior_prob_variance\", \"posterior_mean\"\n",
    "f_type = \"posterior_prob_mean\""
   ]
  },
  {
   "cell_type": "code",
   "execution_count": 78,
   "metadata": {},
   "outputs": [],
   "source": [
    "inds_arr = np.array([0])\n",
    "params = {\"X\":X_test,\"Y\":Y_test}"
   ]
  },
  {
   "cell_type": "code",
   "execution_count": 79,
   "metadata": {},
   "outputs": [],
   "source": [
    "def generate_function_coefs(batch_size): \n",
    "    Cur_pot = potentialRegression(Y_train, X_train, typ = \"l\",optim_params = optim_params, batch_size = batch_size, print_info = True)\n",
    "    d = Cur_pot.d\n",
    "    res = Generate_train(n_traj_train, method, Cur_pot, step, N_b, N_train, d)\n",
    "    res = np.asarray(res)\n",
    "    traj,traj_grad = res[:,0,:,:],res[:,1,:,:]\n",
    "    f_vals = set_function(f_type,traj,inds_arr,params)\n",
    "    #number of restarts during optimization\n",
    "    n_restarts = 2\n",
    "    #deviation of starting points\n",
    "    sigma = 4.0\n",
    "    #tolerance (norm of gradient needed to terminate)\n",
    "    tol = 1e-5\n",
    "    #optimization\n",
    "    A_ESVM_1,A_EVM_1,A_LS_1 = optimize_parallel_new(1,inds_arr,f_vals,traj,traj_grad,W_train_spec,n_restarts,tol,sigma)\n",
    "    traj,traj_grad = ULA(1453,Cur_pot,step, N_b, N_test, d, method[\"burn_type\"],method[\"main_type\"])\n",
    "    traj = np.asarray([traj])\n",
    "    traj_grad = np.asarray([traj_grad])\n",
    "    f_vals_test = set_function(f_type,traj,inds_arr,params)\n",
    "    return f_vals_test,traj_grad,A_ESVM_1,A_EVM_1   "
   ]
  },
  {
   "cell_type": "markdown",
   "metadata": {},
   "source": [
    "For batch sizes $5$, $15$ and $150$ "
   ]
  },
  {
   "cell_type": "code",
   "execution_count": 80,
   "metadata": {},
   "outputs": [
    {
     "name": "stdout",
     "output_type": "stream",
     "text": [
      "optimization iteration ended\n",
      "success =  True\n",
      "func value =  9601.957236447844\n",
      "jacobian value =  [ 3.82280581e-07 -1.68691869e-07  1.32779803e-07 -3.76975051e-07\n",
      "  8.16276056e-08  2.31381074e-07 -1.93185664e-07 -1.64540422e-07\n",
      " -2.01219523e-07 -2.79478017e-07 -2.83338184e-07 -4.75597596e-07\n",
      " -3.33905819e-07  2.93168461e-07 -7.37000452e-08]\n",
      "number of function evaluation =  22\n",
      "number of jacobian evaluation =  22\n",
      "number of optimizer steps =  19\n",
      "optimization iteration ended\n",
      "success =  True\n",
      "func value =  9601.957236447844\n",
      "jacobian value =  [ 1.24924271e-07 -1.28650623e-07  2.53808758e-07 -5.34628953e-07\n",
      "  2.96780037e-07  1.26948905e-07 -3.28110862e-07 -1.20643511e-07\n",
      " -1.67610982e-07 -8.43501502e-08 -3.18459916e-07 -3.34797464e-07\n",
      " -2.81988404e-07  2.67965966e-07 -2.02556059e-07]\n",
      "number of function evaluation =  22\n",
      "number of jacobian evaluation =  22\n",
      "number of optimizer steps =  19\n",
      "optimization iteration ended\n",
      "success =  True\n",
      "func value =  9601.957236447843\n",
      "jacobian value =  [ 2.94251872e-07 -1.96091137e-07  1.11116224e-07 -4.25510383e-07\n",
      "  3.88155036e-08  1.16494005e-07 -2.67313726e-07 -4.88257489e-08\n",
      " -1.74013589e-08 -8.35336441e-08 -1.76867312e-07 -4.30657870e-07\n",
      " -3.93521342e-07  1.94393246e-07 -8.52695870e-08]\n",
      "number of function evaluation =  22\n",
      "number of jacobian evaluation =  22\n",
      "number of optimizer steps =  19\n",
      "optimization iteration ended\n",
      "success =  True\n",
      "func value =  9601.957236447843\n",
      "jacobian value =  [ 3.39360416e-07 -1.28819645e-07  7.37720635e-08 -3.63166530e-07\n",
      "  9.92345395e-09  2.02579007e-07 -1.20660822e-07 -1.47247210e-07\n",
      " -1.61892621e-07 -1.89107424e-07 -2.03305024e-07 -4.02371256e-07\n",
      " -3.57193421e-07  2.12300250e-07 -3.64081538e-08]\n",
      "number of function evaluation =  22\n",
      "number of jacobian evaluation =  22\n",
      "number of optimizer steps =  19\n",
      "optimization iteration ended\n",
      "success =  True\n",
      "func value =  9601.957236447843\n",
      "jacobian value =  [ 3.44485096e-07 -1.69393900e-07  2.24352112e-07 -3.41298479e-07\n",
      "  3.13363555e-08  2.16853181e-07 -2.11589120e-07  1.66610156e-08\n",
      " -1.91874162e-07 -2.03658082e-07 -2.71972636e-07 -4.55447017e-07\n",
      " -3.79720994e-07  3.26930007e-07 -1.02589883e-07]\n",
      "number of function evaluation =  22\n",
      "number of jacobian evaluation =  22\n",
      "number of optimizer steps =  19\n",
      "theta^* found succesfully\n",
      "final jacobian at termination: \n",
      "[ 2.94251872e-07 -1.96091137e-07  1.11116224e-07 -4.25510383e-07\n",
      "  3.88155036e-08  1.16494005e-07 -2.67313726e-07 -4.88257489e-08\n",
      " -1.74013589e-08 -8.35336441e-08 -1.76867312e-07 -4.30657870e-07\n",
      " -3.93521342e-07  1.94393246e-07 -8.52695870e-08]\n",
      "ncores =  12\n",
      "1 degree optimization terminated succesfully\n",
      "jacobian at termination: \n",
      "[-2.26937357e-06 -4.04071839e-07  4.61406863e-07  6.19097160e-08\n",
      "  1.06010271e-07  9.84504801e-08 -1.28997440e-06  1.22510382e-06\n",
      "  7.63721070e-07 -1.29057064e-07  1.72211907e-06 -2.02063766e-07\n",
      " -1.66430812e-06  1.82016007e-06 -8.95845039e-07]\n",
      "1 degree optimization terminated succesfully\n",
      "jacobian at termination: \n",
      "[-2.25537774e-06 -3.64146241e-07  4.84940117e-07 -1.72976054e-08\n",
      "  3.53309925e-08  2.59407446e-08 -1.17440345e-06  1.30113320e-06\n",
      "  7.32557991e-07 -1.91332486e-07  1.63943897e-06 -1.49896447e-07\n",
      " -1.57849050e-06  1.84070241e-06 -9.11066912e-07]\n",
      "1 degree optimization terminated succesfully\n",
      "jacobian at termination: \n",
      "[-1.83463003e-08 -6.70342067e-08 -2.04120318e-08  3.77648698e-08\n",
      "  5.57063999e-08 -6.75676808e-08 -1.04321939e-07 -7.91969486e-09\n",
      "  9.38809836e-09  6.21521755e-08  6.01454781e-08 -3.29386006e-08\n",
      "  5.26794813e-08 -2.08850354e-08 -8.69899212e-09]\n",
      "optimization iteration ended\n",
      "success =  True\n",
      "func value =  9601.957236447843\n",
      "jacobian value =  [ 3.03398797e-07 -1.32120878e-07  2.94406596e-07 -3.46276192e-07\n",
      "  3.83656512e-08  1.37085680e-07 -2.86322319e-07  1.24118471e-08\n",
      " -9.05959696e-08 -1.15788648e-07 -2.95873908e-07 -4.90673481e-07\n",
      " -2.87727477e-07  2.95224790e-07 -1.47482084e-07]\n",
      "number of function evaluation =  22\n",
      "number of jacobian evaluation =  22\n",
      "number of optimizer steps =  19\n",
      "optimization iteration ended\n",
      "success =  True\n",
      "func value =  9601.957236447843\n",
      "jacobian value =  [ 2.67881900e-07 -3.04472711e-07  2.85617784e-07 -4.93146253e-07\n",
      "  4.02787983e-08  1.63561737e-07 -3.50820758e-07 -8.58312940e-08\n",
      " -9.72908402e-08 -2.48167176e-07 -2.50334752e-07 -4.70566370e-07\n",
      " -3.34299536e-07  2.56399518e-07 -9.46928183e-08]\n",
      "number of function evaluation =  22\n",
      "number of jacobian evaluation =  22\n",
      "number of optimizer steps =  19\n",
      "optimization iteration ended\n",
      "success =  True\n",
      "func value =  9601.957236447844\n",
      "jacobian value =  [ 3.73556106e-07 -2.19820150e-07  1.91736915e-07 -3.43820782e-07\n",
      "  6.17127836e-08  2.29220207e-07 -3.11596431e-07 -2.62986298e-08\n",
      " -1.22157222e-07 -2.43217765e-07 -3.27932208e-07 -5.24068339e-07\n",
      " -3.46308426e-07  3.45670271e-07 -1.56768035e-07]\n",
      "number of function evaluation =  22\n",
      "number of jacobian evaluation =  22\n",
      "number of optimizer steps =  19\n",
      "optimization iteration ended\n",
      "success =  True\n",
      "func value =  9601.957236447843\n",
      "jacobian value =  [ 2.94607792e-07 -1.03047646e-07  1.06317814e-07 -3.88211556e-07\n",
      "  9.25058257e-08  1.35388086e-07 -1.12356364e-07 -2.35002099e-08\n",
      " -1.86526327e-07 -1.84052667e-07 -1.79255510e-07 -4.82850137e-07\n",
      " -3.26321478e-07  2.29587590e-07  2.85397161e-08]\n",
      "number of function evaluation =  22\n",
      "number of jacobian evaluation =  22\n",
      "number of optimizer steps =  19\n",
      "optimization iteration ended\n",
      "success =  True\n",
      "func value =  9601.957236447843\n",
      "jacobian value =  [ 3.73073355e-07 -1.74208754e-07  1.12818556e-07 -2.95134562e-07\n",
      "  5.59215070e-08  1.10694726e-07 -2.56406261e-07 -7.07699668e-08\n",
      " -1.14538548e-07 -2.75541020e-07 -2.85340461e-07 -4.13099900e-07\n",
      " -3.20668828e-07  2.33114507e-07 -8.26257702e-08]\n",
      "number of function evaluation =  22\n",
      "number of jacobian evaluation =  22\n",
      "number of optimizer steps =  19\n",
      "theta^* found succesfully\n",
      "final jacobian at termination: \n",
      "[ 3.03398797e-07 -1.32120878e-07  2.94406596e-07 -3.46276192e-07\n",
      "  3.83656512e-08  1.37085680e-07 -2.86322319e-07  1.24118471e-08\n",
      " -9.05959696e-08 -1.15788648e-07 -2.95873908e-07 -4.90673481e-07\n",
      " -2.87727477e-07  2.95224790e-07 -1.47482084e-07]\n",
      "ncores =  12\n",
      "1 degree optimization terminated succesfully\n",
      "jacobian at termination: \n",
      "[ 1.08112723e-06  5.71314899e-07 -4.28426449e-07 -3.86233489e-06\n",
      "  6.19960907e-07 -1.44645540e-06 -8.07833330e-08  1.26168336e-06\n",
      "  5.70768458e-07  8.79826214e-07 -3.86783649e-07 -2.44130130e-06\n",
      "  1.06257273e-06  3.98354714e-07  4.69123616e-07]\n",
      "1 degree optimization terminated succesfully\n",
      "jacobian at termination: \n",
      "[ 1.56356438e-06 -2.79435175e-07 -7.17412626e-07 -2.81642890e-06\n",
      " -1.21099021e-07 -2.01667214e-06  2.70007758e-07  1.98977782e-06\n",
      "  7.92888610e-07  1.79845137e-06  3.06485658e-08 -2.23768576e-06\n",
      "  1.68118685e-06  7.13928817e-07 -4.22639313e-07]\n",
      "1 degree optimization terminated succesfully\n",
      "jacobian at termination: \n",
      "[-2.34766385e-08  1.46810972e-08  5.42354815e-09 -1.88319132e-08\n",
      " -1.60251407e-08  4.47138959e-10 -3.76464273e-09 -1.79293640e-09\n",
      "  1.21465268e-08  4.20952184e-09  7.03288402e-09 -1.29604197e-08\n",
      "  5.75481966e-09 -1.83329649e-08  1.38693376e-09]\n",
      "optimization iteration ended\n",
      "success =  True\n",
      "func value =  9601.957236447843\n",
      "jacobian value =  [ 3.88313417e-07 -2.26615934e-07  1.51396570e-07 -3.68177941e-07\n",
      "  4.03050138e-08  2.62012328e-07 -2.16837391e-07 -5.50998963e-08\n",
      " -1.32510388e-07 -1.27808618e-07 -2.85302757e-07 -4.90494238e-07\n",
      " -3.13235593e-07  2.90158010e-07 -1.04535650e-07]\n",
      "number of function evaluation =  22\n",
      "number of jacobian evaluation =  22\n",
      "number of optimizer steps =  19\n",
      "optimization iteration ended\n",
      "success =  True\n",
      "func value =  9601.95723644784\n",
      "jacobian value =  [ 2.93605577e-07 -1.27343792e-07  2.33068869e-08 -2.59760416e-07\n",
      "  9.78440035e-08  2.75805775e-07 -8.47139011e-08 -2.23007076e-07\n",
      " -1.68994311e-07 -1.61167342e-07 -2.75128105e-07 -4.33600246e-07\n",
      " -2.76807280e-07  2.25854522e-07 -3.57066814e-08]\n",
      "number of function evaluation =  22\n",
      "number of jacobian evaluation =  22\n",
      "number of optimizer steps =  19\n",
      "optimization iteration ended\n",
      "success =  True\n",
      "func value =  9601.957236447843\n",
      "jacobian value =  [ 2.80305924e-07 -1.66550087e-07  1.72610218e-07 -4.23300041e-07\n",
      " -1.58998127e-08  2.09765428e-07 -1.97506158e-07 -3.02609024e-08\n",
      " -9.89023910e-08 -1.52065801e-07 -2.04828394e-07 -4.87887242e-07\n",
      " -3.19802123e-07  2.67905593e-07 -1.24498719e-07]\n",
      "number of function evaluation =  22\n",
      "number of jacobian evaluation =  22\n",
      "number of optimizer steps =  19\n",
      "optimization iteration ended\n",
      "success =  True\n",
      "func value =  9601.957236447843\n",
      "jacobian value =  [ 2.31571016e-07 -2.33348433e-07  1.68878874e-07 -4.39191200e-07\n",
      "  2.92985707e-08  1.96048519e-07 -2.67699653e-07 -1.00941011e-07\n",
      " -4.20597421e-08  7.71275781e-09 -2.30161270e-07 -4.05502505e-07\n",
      " -2.89447398e-07  1.92579823e-07 -1.23639440e-07]\n",
      "number of function evaluation =  22\n",
      "number of jacobian evaluation =  22\n",
      "number of optimizer steps =  19\n",
      "optimization iteration ended\n",
      "success =  True\n",
      "func value =  9601.957236447844\n",
      "jacobian value =  [ 2.82636199e-07 -1.47484361e-07  2.41779329e-07 -3.68237232e-07\n",
      "  1.03787471e-07  2.58151079e-07 -1.82051420e-07 -3.97338356e-08\n",
      " -2.67545736e-07 -2.46672909e-07 -3.15187874e-07 -4.59980107e-07\n",
      " -3.07043397e-07  3.37341982e-07 -8.47564454e-08]\n",
      "number of function evaluation =  22\n",
      "number of jacobian evaluation =  22\n",
      "number of optimizer steps =  19\n",
      "theta^* found succesfully\n",
      "final jacobian at termination: \n",
      "[ 2.93605577e-07 -1.27343792e-07  2.33068869e-08 -2.59760416e-07\n",
      "  9.78440035e-08  2.75805775e-07 -8.47139011e-08 -2.23007076e-07\n",
      " -1.68994311e-07 -1.61167342e-07 -2.75128105e-07 -4.33600246e-07\n",
      " -2.76807280e-07  2.25854522e-07 -3.57066814e-08]\n",
      "ncores =  12\n"
     ]
    },
    {
     "name": "stdout",
     "output_type": "stream",
     "text": [
      "1 degree optimization terminated succesfully\n",
      "jacobian at termination: \n",
      "1 degree optimization terminated succesfully\n",
      "[-2.36148362e-06  2.71294423e-06  2.01043897e-07  2.78149952e-06\n",
      " -1.74772958e-06  3.58530233e-07  5.69311785e-07 -3.44879429e-06\n",
      "  1.84345183e-07 -3.92236501e-07 -8.28794988e-07 -1.38161654e-06\n",
      " -1.37118226e-06 -5.35677774e-07 -4.78912993e-07]\n",
      "jacobian at termination: \n",
      "[-2.99691960e-06  2.23513856e-06  9.33262336e-08  2.89809316e-06\n",
      " -1.34036126e-06 -1.44568270e-07  8.28110980e-07 -3.07681695e-06\n",
      "  3.32178033e-08 -1.03156424e-06 -9.54476320e-07 -8.47657606e-07\n",
      " -6.89547025e-07 -7.96189622e-07 -4.40689988e-07]\n",
      "1 degree optimization terminated succesfully\n",
      "jacobian at termination: \n",
      "[ 3.98925849e-12  7.61778149e-12  4.73011524e-12 -8.79346306e-13\n",
      "  5.67776516e-12  8.12994434e-12 -5.45760812e-12  1.23457839e-11\n",
      " -1.78465279e-11 -1.79875041e-11 -8.70242649e-12 -1.56682601e-11\n",
      "  3.79717623e-12 -8.68403797e-12  1.86361222e-11]\n"
     ]
    }
   ],
   "source": [
    "f_vals_5,traj_grad_5,A_ESVM_5,A_EVM_5 = generate_function_coefs(batch_size=5)\n",
    "f_vals_15,traj_grad_15,A_ESVM_15,A_EVM_15 = generate_function_coefs(batch_size=10)\n",
    "f_vals_150,traj_grad_150,A_ESVM_150,A_EVM_150 = generate_function_coefs(batch_size=50)"
   ]
  },
  {
   "cell_type": "code",
   "execution_count": 81,
   "metadata": {},
   "outputs": [],
   "source": [
    "def get_func_values(f_vals,traj_grad,EVM_coef,ESVM_coef, ex_num=0,var_num=0):\n",
    "    vect_vanilla = f_vals[ex_num,:,var_num] \n",
    "    vect_EVM = f_vals[ex_num,:,var_num] + traj_grad[ex_num,:,:] @ EVM_coef[var_num,:]\n",
    "    vect_ESVM = f_vals[ex_num,:,var_num] + traj_grad[ex_num,:,:] @ ESVM_coef[var_num,:]\n",
    "    return vect_vanilla,vect_EVM,vect_ESVM "
   ]
  },
  {
   "cell_type": "code",
   "execution_count": 82,
   "metadata": {},
   "outputs": [],
   "source": [
    "def get_acfs(f_vals,f_vals_EVM,f_vals_ESVM,nlags = 100,ex_num=0,var_num=0):\n",
    "    sample_acf_vanilla = acovf(f_vals, unbiased = True,fft = True)#,nlags=nlags)\n",
    "    sample_acf_EVM = acovf(f_vals_EVM, unbiased = True,fft = True)#,nlags=nlags)\n",
    "    sample_acf_ESVM = acovf(f_vals_ESVM, unbiased = True,fft = True)#,nlags=nlags)\n",
    "    return sample_acf_vanilla,sample_acf_EVM,sample_acf_ESVM"
   ]
  },
  {
   "cell_type": "code",
   "execution_count": 83,
   "metadata": {},
   "outputs": [
    {
     "data": {
      "image/png": "[encoded data removed]",
      "text/plain": [
       "<Figure size 1440x360 with 3 Axes>"
      ]
     },
     "metadata": {
      "needs_background": "light"
     },
     "output_type": "display_data"
    }
   ],
   "source": [
    "#number of covariances to visualize\n",
    "N_cov_1 = 0\n",
    "N_cov = 30\n",
    "\n",
    "vect_vanilla_5,vect_EVM_5,vect_ESVM_5 = get_func_values(f_vals_5,traj_grad_5,A_EVM_5,A_ESVM_5)\n",
    "vect_vanilla_15,vect_EVM_15,vect_ESVM_15 = get_func_values(f_vals_15,traj_grad_15,A_EVM_15,A_ESVM_15)\n",
    "vect_vanilla_150,vect_EVM_150,vect_ESVM_150 = get_func_values(f_vals_150,traj_grad_150,A_EVM_150,A_ESVM_150)\n",
    "\n",
    "sample_acf_vanilla_5,sample_acf_EVM_5,sample_acf_ESVM_5 = get_acfs(vect_vanilla_5,vect_EVM_5,vect_ESVM_5)\n",
    "sample_acf_vanilla_15,sample_acf_EVM_15,sample_acf_ESVM_15 = get_acfs(vect_vanilla_15,vect_EVM_15,vect_ESVM_15)\n",
    "sample_acf_vanilla_150,sample_acf_EVM_150,sample_acf_ESVM_150 = get_acfs(vect_vanilla_150,vect_EVM_150,vect_ESVM_150)\n",
    "\n",
    "\n",
    "fig, (ax1, ax2, ax3) = plt.subplots(1,3,figsize=(20,5),gridspec_kw={'width_ratios': [1,1,1]})\n",
    "ax1.set_title('Batch size = 5',fontsize=24)\n",
    "ax1.fill_between(N_cov_1+np.arange(N_cov-N_cov_1),sample_acf_vanilla_5[N_cov_1:N_cov],facecolor='blue',alpha=0.5,label='acf vanilla')\n",
    "ax1.fill_between(N_cov_1+np.arange(N_cov-N_cov_1),sample_acf_EVM_5[N_cov_1:N_cov],facecolor='green',alpha=0.5,label='acf EVM')\n",
    "ax1.fill_between(N_cov_1+np.arange(N_cov-N_cov_1),sample_acf_ESVM_5[N_cov_1:N_cov],facecolor='red',alpha=0.5,label='acf ESVM')\n",
    "ax1.set_ylim(0,15e-6)\n",
    "ax1.ticklabel_format(axis='y',style='sci',scilimits=(-2,2))\n",
    "ax1.tick_params(axis='y',labelsize = 16)\n",
    "ax1.tick_params(axis='x',labelsize = 16)\n",
    "ax1.legend(fontsize=24)\n",
    "ax2.set_title('Batch size = 10',fontsize=24)\n",
    "ax2.fill_between(N_cov_1+np.arange(N_cov-N_cov_1),sample_acf_vanilla_15[N_cov_1:N_cov],facecolor='blue',alpha=0.5,label='acf vanilla')\n",
    "ax2.fill_between(N_cov_1+np.arange(N_cov-N_cov_1),sample_acf_EVM_15[N_cov_1:N_cov],facecolor='green',alpha=0.5,label='acf EVM')\n",
    "ax2.fill_between(N_cov_1+np.arange(N_cov-N_cov_1),sample_acf_ESVM_15[N_cov_1:N_cov],facecolor='red',alpha=0.5,label='acf ESVM')\n",
    "ax2.set_ylim(0,8e-6)\n",
    "ax2.ticklabel_format(axis='y',style='sci',scilimits=(-2,2))\n",
    "ax2.tick_params(axis='y',labelsize = 16)\n",
    "ax2.tick_params(axis='x',labelsize = 16)\n",
    "ax2.legend(fontsize=24)\n",
    "ax3.set_title('Batch size = 50',fontsize=24)\n",
    "ax3.fill_between(N_cov_1+np.arange(N_cov-N_cov_1),sample_acf_vanilla_150[N_cov_1:N_cov],facecolor='blue',alpha=0.5,label='acf vanilla')\n",
    "ax3.fill_between(N_cov_1+np.arange(N_cov-N_cov_1),sample_acf_EVM_150[N_cov_1:N_cov],facecolor='green',alpha=0.5,label='acf EVM')\n",
    "ax3.fill_between(N_cov_1+np.arange(N_cov-N_cov_1),sample_acf_ESVM_150[N_cov_1:N_cov],facecolor='red',alpha=0.5,label='acf ESVM')\n",
    "ax3.set_ylim(0,6e-6)\n",
    "ax3.tick_params(axis='y',labelsize = 16)\n",
    "ax3.tick_params(axis='x',labelsize = 16)\n",
    "ax3.ticklabel_format(axis='y',style='sci',scilimits=(-2,2))\n",
    "ax3.legend(fontsize=24)\n",
    "fig.savefig(\"all_batches.pdf\",bbox_inches = \"tight\")\n",
    "plt.show()"
   ]
  }
 ],
 "metadata": {
  "kernelspec": {
   "display_name": "Python 3",
   "language": "python",
   "name": "python3"
  },
  "language_info": {
   "codemirror_mode": {
    "name": "ipython",
    "version": 3
   },
   "file_extension": ".py",
   "mimetype": "text/x-python",
   "name": "python",
   "nbconvert_exporter": "python",
   "pygments_lexer": "ipython3",
   "version": "3.7.3"
  }
 },
 "nbformat": 4,
 "nbformat_minor": 2
}
