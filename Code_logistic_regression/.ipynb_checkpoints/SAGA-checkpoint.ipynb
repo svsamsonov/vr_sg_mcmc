{
 "cells": [
  {
   "cell_type": "code",
   "execution_count": 38,
   "metadata": {},
   "outputs": [],
   "source": [
    "import numpy as np\n",
    "import pandas as pd\n",
    "import scipy.stats as spstats\n",
    "from scipy import signal\n",
    "import pickle\n",
    "from multiprocessing import Pool\n",
    "import multiprocessing\n",
    "import scipy.sparse as sparse\n",
    "from sklearn.model_selection import train_test_split\n",
    "\n",
    "from potentials import potentialRegression\n",
    "from baselines import construct_ESVM_kernel,split_dataset,set_function,standartize\n",
    "from optimize import Run_eval_test,optimize_parallel_new\n",
    "from samplers import MCMC_sampler,Generate_train\n",
    "from utils import *"
   ]
  },
  {
   "cell_type": "markdown",
   "metadata": {},
   "source": [
    "## Setting parameters"
   ]
  },
  {
   "cell_type": "markdown",
   "metadata": {},
   "source": [
    "<p>Datasets:</p>\n",
    "<ol>\n",
    "    <li>Eeg $(N=14\\,980,\\ d=15)$</li>\n",
    "    <li>Susy $(N=500\\,000,\\ d=19)$</li>\n",
    "</ol>"
   ]
  },
  {
   "cell_type": "code",
   "execution_count": 39,
   "metadata": {},
   "outputs": [],
   "source": [
    "dataset = \"eeg\" # Switch between \"eeg\" and \"susy\" \n",
    "\n",
    "intercept = True # Do we include the intercept\n",
    "\n",
    "CV2 = False # Do we include second-order control variates\n",
    "\n",
    "method = {\"sampler\":\"ULA\",\"burn_type\":\"SGLD\",\"main_type\":\"SAGA\"} # Sampling method\n",
    "#during burn-in period we use simple SGLD to prevent SAGA stacking at local minima\n",
    "\n",
    "# Switch between \"posterior_prob_point\", \"posterior_prob_mean\", \"posterior_prob_variance\", \"posterior_mean\"\n",
    "f_type = \"posterior_prob_mean\""
   ]
  },
  {
   "cell_type": "code",
   "execution_count": 40,
   "metadata": {},
   "outputs": [],
   "source": [
    "# Tuning parameters\n",
    "step = 1*10**(-1)\n",
    "n_traj_train = 5 # Number of independent MCMC trajectories for train\n",
    "n_traj_test = 100 # Number of independent MCMC trajectories for test\n",
    "\n",
    "if (dataset == \"eeg\"):    \n",
    "    batch_size = 1*15 # Batch size for stochastic gradient\n",
    "    N_b = 5*10**3 # Burn-in period\n",
    "    N_train = 1*10**4 # Length of the train trajectory\n",
    "    N_test = 1*10**5 # Length of the test trajectories\n",
    "elif (dataset == \"susy\"): \n",
    "    batch_size =3*19 # Batch size for stochastic gradient\n",
    "    N_b = 5*10**4 # Burn in period\n",
    "    N_train = 1*10**5 # Number of samples on which we optimize\n",
    "    N_test = 1*10**6 # Number of samples"
   ]
  },
  {
   "cell_type": "markdown",
   "metadata": {},
   "source": [
    "## Loading data"
   ]
  },
  {
   "cell_type": "code",
   "execution_count": 41,
   "metadata": {},
   "outputs": [],
   "source": [
    "if (dataset == \"eeg\"):   \n",
    "    data = pd.read_csv(\"data/eeg.csv\",header=None)\n",
    "    outliers_inds = np.array([13179,11509,898,10386])\n",
    "    Y = data.iloc[:,-1]\n",
    "    X = data.iloc[:,:-1]    \n",
    "elif (dataset == \"susy\"): \n",
    "    data = pd.read_csv(\"data/susy.csv\",header=None)\n",
    "    outliers_inds = np.array([267630])\n",
    "    Y = data.iloc[:,0]\n",
    "    X = data.iloc[:,1:]"
   ]
  },
  {
   "cell_type": "markdown",
   "metadata": {},
   "source": [
    "## Preprocessing data"
   ]
  },
  {
   "cell_type": "code",
   "execution_count": 42,
   "metadata": {},
   "outputs": [],
   "source": [
    "# Removing the outliers\n",
    "if (outliers_inds.size!=0):\n",
    "    X_processed = np.delete(np.asarray(X),outliers_inds,0)\n",
    "    mask = np.ones(len(Y),dtype = bool)\n",
    "    mask[outliers_inds] = False\n",
    "    Y_processed = Y[mask]\n",
    "    Y_processed = np.asarray(Y_processed)\n",
    "    X_processed = np.asarray(X_processed)\n",
    "else:\n",
    "    Y_processed = np.asarray(Y)\n",
    "    X_processed = np.asarray(X)"
   ]
  },
  {
   "cell_type": "code",
   "execution_count": 43,
   "metadata": {},
   "outputs": [],
   "source": [
    "if (f_type == \"posterior_mean\"):\n",
    "    X_train,X_train = standartize(X_processed,X_processed,intercept=intercept)\n",
    "    Y_train = Y_processed\n",
    "else:\n",
    "    X_train,X_test,Y_train,Y_test = train_test_split(X_processed,Y_processed,test_size=100,random_state=1812,stratify=Y_processed)\n",
    "    X_train,X_test = standartize(X_train,X_test,intercept=intercept)"
   ]
  },
  {
   "cell_type": "markdown",
   "metadata": {},
   "source": [
    "## Creating potential"
   ]
  },
  {
   "cell_type": "code",
   "execution_count": 44,
   "metadata": {},
   "outputs": [],
   "source": [
    "#std of initial point\n",
    "optim_params = {\n",
    "    \"compute_fp\":False,\n",
    "    \"GD\":False,\n",
    "    \"stochastic\":False,\n",
    "    \"order\":1,\n",
    "    \"n_restarts\":5,\n",
    "    \"batch_size\":100,\n",
    "    \"sigma\":1.0,\n",
    "    \"gtol\":1e-6,\n",
    "    \"gamma\":5e-4,\n",
    "    \"weight_decay\":0.995,\n",
    "    \"loop_length\":100,\n",
    "    \"n_loops\":300\n",
    "}"
   ]
  },
  {
   "cell_type": "code",
   "execution_count": 45,
   "metadata": {},
   "outputs": [],
   "source": [
    "# Construct kernel\n",
    "W_train_spec = construct_ESVM_kernel(N_train)\n",
    "W_test_spec = construct_ESVM_kernel(N_test)"
   ]
  },
  {
   "cell_type": "code",
   "execution_count": 46,
   "metadata": {},
   "outputs": [],
   "source": [
    "#Creating potential\n",
    "Cur_pot = potentialRegression(Y_train, X_train, typ = \"l\",optim_params = optim_params, batch_size = batch_size, print_info = True)\n",
    "d = Cur_pot.d #dimension"
   ]
  },
  {
   "cell_type": "markdown",
   "metadata": {},
   "source": [
    "## Sampling training trajectories"
   ]
  },
  {
   "cell_type": "code",
   "execution_count": 47,
   "metadata": {},
   "outputs": [
    {
     "name": "stdout",
     "output_type": "stream",
     "text": [
      "ncores =  4\n"
     ]
    }
   ],
   "source": [
    "#sample for variance reduction\n",
    "res = Generate_train(n_traj_train, method, Cur_pot, step, N_b, N_train, d)\n",
    "res = np.asarray(res)\n",
    "traj,traj_grad = res[:,0,:,:],res[:,1,:,:]"
   ]
  },
  {
   "cell_type": "markdown",
   "metadata": {},
   "source": [
    "## Initialization of function values"
   ]
  },
  {
   "cell_type": "code",
   "execution_count": 48,
   "metadata": {},
   "outputs": [],
   "source": [
    "#Select variables to optimize, other values are available ONLY for \"posterior_prob_point\" and \"posterior_mean\"\n",
    "inds_arr = np.array([0])\n",
    "#initialize vector of function values\n",
    "if (f_type == \"posterior_mean\"):\n",
    "    params = None\n",
    "else:\n",
    "    params = {\"X\":X_test,\"Y\":Y_test}\n",
    "f_vals = set_function(f_type,traj,inds_arr,params)"
   ]
  },
  {
   "cell_type": "markdown",
   "metadata": {},
   "source": [
    "## Training coefficients for EVM and ESVM"
   ]
  },
  {
   "cell_type": "code",
   "execution_count": 49,
   "metadata": {},
   "outputs": [],
   "source": [
    "#number of restarts during optimization\n",
    "n_restarts = 2\n",
    "#deviation of starting points\n",
    "sigma = 1\n",
    "#tolerance (for the norm of gradient)\n",
    "tol = 1e-5"
   ]
  },
  {
   "cell_type": "code",
   "execution_count": 50,
   "metadata": {},
   "outputs": [
    {
     "name": "stdout",
     "output_type": "stream",
     "text": [
      "1 degree optimization terminated succesfully\n",
      "jacobian at termination: \n",
      "[-8.40251886e-07 -2.64593054e-06 -6.05397495e-08  8.15925393e-07\n",
      " -3.05341335e-06 -1.20194967e-06 -8.66699482e-07  2.52748743e-06\n",
      " -1.37342394e-07 -1.36284329e-06  1.62784511e-06 -6.80349146e-07\n",
      " -1.37001958e-06  4.30642484e-06 -5.89439479e-07]\n",
      "1 degree optimization terminated succesfully\n",
      "jacobian at termination: \n",
      "[-1.44883854e-06 -7.58733407e-07 -2.14318187e-06 -3.15174555e-07\n",
      "  5.18548323e-07 -1.57412126e-06 -2.81788787e-06  5.11719940e-07\n",
      " -1.35167620e-06 -1.94724121e-06 -2.45440396e-06 -1.19779235e-06\n",
      " -1.84637990e-06 -2.28470561e-06 -1.31699528e-06]\n",
      "1 degree optimization terminated succesfully\n",
      "jacobian at termination: \n",
      "[ 4.07559380e-09  7.62027860e-08 -2.14762088e-07  1.23933237e-07\n",
      "  5.08667481e-08  1.07587218e-07  1.65703779e-07 -1.04318462e-07\n",
      " -6.95418427e-08  1.41878499e-07  9.46290781e-08 -1.98709284e-07\n",
      "  2.37738761e-07  7.20555737e-08 -2.39615736e-07]\n"
     ]
    }
   ],
   "source": [
    "A_ESVM_1,A_EVM_1,A_LS_1 = optimize_parallel_new(1,inds_arr,f_vals,traj,traj_grad,W_train_spec,n_restarts,tol,sigma)\n",
    "if CV2:\n",
    "    A_ESVM_2,A_EVM_2,A_LS_2 = optimize_parallel_new(2,inds_arr,f_vals,traj,traj_grad,W_train_spec,n_restarts,tol,sigma)\n",
    "else:\n",
    "    A_ESVM_2,A_EVM_2,A_LS_2 = np.zeros((2,d**2+d)),np.zeros((2,d**2+d)),np.zeros((2,d**2+d))"
   ]
  },
  {
   "cell_type": "markdown",
   "metadata": {},
   "source": [
    "## Coefficients for control variates"
   ]
  },
  {
   "cell_type": "code",
   "execution_count": 51,
   "metadata": {},
   "outputs": [
    {
     "name": "stdout",
     "output_type": "stream",
     "text": [
      "Coefficients for ESVM\n",
      "[[-7.56856645e-04 -5.37121967e-04 -2.27363426e-03  4.93170758e-04\n",
      "  -1.66128989e-03  1.86574574e-03 -1.77313018e-03 -9.84947822e-05\n",
      "  -8.76637802e-04  4.11367114e-04  1.04534703e-03  7.12041981e-04\n",
      "   2.48893872e-04  9.19492723e-04 -5.63104534e-04]]\n",
      "Coefficients for EVM\n",
      "[[-2.36185113e-04  2.23133218e-06 -5.66514728e-04  1.60119941e-04\n",
      "  -4.57701737e-04  5.40917340e-04 -4.74139513e-04 -3.83953211e-05\n",
      "  -2.15983922e-04  1.06835675e-04  2.42666641e-04  1.99855513e-04\n",
      "   1.23716191e-04  2.65965129e-04 -5.70098990e-05]]\n",
      "Coefficients for LS\n",
      "[[-0.01862951  0.00867385 -0.01401979  0.02558816  0.00484736  0.00733211\n",
      "   0.0076062   0.00166887 -0.00353949 -0.01449959 -0.00427826 -0.00099111\n",
      "   0.01754402  0.01348841  0.02309834]]\n"
     ]
    }
   ],
   "source": [
    "print(\"Coefficients for ESVM\")\n",
    "print(A_ESVM_1)\n",
    "print(\"Coefficients for EVM\")\n",
    "print(A_EVM_1)\n",
    "print(\"Coefficients for LS\")\n",
    "print(A_LS_1)"
   ]
  },
  {
   "cell_type": "code",
   "execution_count": 52,
   "metadata": {
    "scrolled": true
   },
   "outputs": [],
   "source": [
    "if CV2:\n",
    "    print(\"Coefficients for ESVM\")\n",
    "    print(A_ESVM_2)\n",
    "    print(\"Coefficients for EVM\")\n",
    "    print(A_EVM_2)\n",
    "    print(\"Coefficients for LS\")\n",
    "    print(A_LS_2)\n"
   ]
  },
  {
   "cell_type": "markdown",
   "metadata": {},
   "source": [
    "## Testing EVM and ESVM"
   ]
  },
  {
   "cell_type": "code",
   "execution_count": 53,
   "metadata": {},
   "outputs": [],
   "source": [
    "#create a dictionary, put respective matrices into it\n",
    "CV_dict = {\"ESVM\":[A_ESVM_1,A_ESVM_2],\"EVM\":[A_EVM_1,A_EVM_2],\"LS\":[A_LS_1,A_LS_2]}\n",
    "# number of cores exploited for the computation of the independent trajectories\n",
    "# by deault, all available cores on the machine\n",
    "nbcores = multiprocessing.cpu_count()\n",
    "trav = Pool(nbcores)\n",
    "res = trav.starmap(Run_eval_test, [(i,method,inds_arr,Cur_pot,W_test_spec,CV_dict,step,N_b,N_test,d,params,f_type) for i in range (n_traj_test)])\n",
    "trav.close()\n",
    "res_arr = np.asarray(res) # Saving results as np.array"
   ]
  },
  {
   "cell_type": "markdown",
   "metadata": {},
   "source": [
    "## Results"
   ]
  },
  {
   "cell_type": "code",
   "execution_count": 54,
   "metadata": {
    "scrolled": true
   },
   "outputs": [
    {
     "name": "stdout",
     "output_type": "stream",
     "text": [
      "Estimators\n",
      "SGLDFP [0.55831935]\n",
      "ESVM pol=1 [0.55832416]\n",
      "EVM pol=1 [0.55832027]\n",
      "LS pol=1 [0.55832027]\n"
     ]
    }
   ],
   "source": [
    "print(\"Estimators\")\n",
    "print(\"SGLDFP {}\".format(np.mean(res_arr[:,0,0,:],axis=0)))\n",
    "print(\"ESVM pol=1 {}\".format(np.mean(res_arr[:,0,1,:],axis=0)))\n",
    "#print(\"ESVM pol=2 {}\".format(np.mean(res_arr[:,0,2,:],axis=0)))\n",
    "print(\"EVM pol=1 {}\".format(np.mean(res_arr[:,0,3,:],axis=0)))\n",
    "#print(\"EVM pol=2 {}\".format(np.mean(res_arr[:,0,4,:],axis=0)))\n",
    "print(\"LS pol=1 {}\".format(np.mean(res_arr[:,0,3,:],axis=0)))\n",
    "#print(\"LS pol=2 {}\".format(np.mean(res_arr[:,0,4,:],axis=0)))"
   ]
  },
  {
   "cell_type": "code",
   "execution_count": 55,
   "metadata": {},
   "outputs": [
    {
     "name": "stdout",
     "output_type": "stream",
     "text": [
      "Variances\n",
      "Vanilla MC [0.000354]\n",
      "ZAV pol=1 [1.14212791e-05]\n",
      "ZV pol=1 [0.00019942]\n",
      "LS pol=1 [0.04698313]\n"
     ]
    }
   ],
   "source": [
    "print(\"Variances\")\n",
    "print(\"Vanilla MC {}\".format(np.mean(res_arr[:,1,0,:],axis=0)))\n",
    "print(\"ZAV pol=1 {}\".format(np.mean(res_arr[:,1,1,:],axis=0)))\n",
    "#print(\"ZAV pol=2 {}\".format(np.mean(res_arr[:,1,2,:],axis=0)))\n",
    "print(\"ZV pol=1 {}\".format(np.mean(res_arr[:,1,3,:],axis=0)))\n",
    "#print(\"ZV pol=2 {}\".format(np.mean(res_arr[:,1,4,:],axis=0)))\n",
    "print(\"LS pol=1 {}\".format(np.mean(res_arr[:,1,5,:],axis=0)))\n",
    "#print(\"LS pol=2 {}\".format(np.mean(res_arr[:,1,6,:],axis=0)))"
   ]
  },
  {
   "cell_type": "markdown",
   "metadata": {},
   "source": [
    "## Plotting the results"
   ]
  },
  {
   "cell_type": "code",
   "execution_count": 56,
   "metadata": {},
   "outputs": [],
   "source": [
    "var_ind = 0 #Index to plot\n",
    "title = dataset.upper()+\" dataset\"\n",
    "labels = ['Vanilla\\n SAGA-LD', 'SAGA-LD \\nwith EVM','SAGA-LD \\nwith ESVM']"
   ]
  },
  {
   "cell_type": "code",
   "execution_count": 57,
   "metadata": {},
   "outputs": [
    {
     "data": {
      "image/png": "[encoded data removed]",
      "text/plain": [
       "<Figure size 500x400 with 1 Axes>"
      ]
     },
     "metadata": {
      "needs_background": "light"
     },
     "output_type": "display_data"
    }
   ],
   "source": [
    "# Violin plots\n",
    "if CV2: \n",
    "    data1 = [res_arr[:,0,0,var_ind],res_arr[:,0,3,var_ind],res_arr[:,0,1,var_ind]]\n",
    "    data2 = [res_arr[:,0,0,var_ind],res_arr[:,0,4,var_ind],res_arr[:,0,2,var_ind]]\n",
    "    violplot_2ind(data1, data2, title, labels)\n",
    "else: \n",
    "    data = [res_arr[:,0,0,var_ind],res_arr[:,0,3,var_ind],res_arr[:,0,1,var_ind]] \n",
    "    violplot_ind(data, title, labels)"
   ]
  },
  {
   "cell_type": "code",
   "execution_count": 58,
   "metadata": {},
   "outputs": [
    {
     "data": {
      "image/png": "[encoded data removed]",
      "text/plain": [
       "<Figure size 500x400 with 1 Axes>"
      ]
     },
     "metadata": {
      "needs_background": "light"
     },
     "output_type": "display_data"
    }
   ],
   "source": [
    "# Box plot\n",
    "if CV2: \n",
    "    data1 = [res_arr[:,0,0,var_ind],res_arr[:,0,3,var_ind],res_arr[:,0,1,var_ind]]\n",
    "    data2 = [res_arr[:,0,0,var_ind],res_arr[:,0,4,var_ind],res_arr[:,0,2,var_ind]]\n",
    "    boxplot_2ind(data1, data2, title, labels)\n",
    "else: \n",
    "    data = [res_arr[:,0,0,var_ind],res_arr[:,0,3,var_ind],res_arr[:,0,1,var_ind]] \n",
    "    boxplot_ind(data, title, labels)"
   ]
  },
  {
   "cell_type": "code",
   "execution_count": null,
   "metadata": {},
   "outputs": [],
   "source": []
  }
 ],
 "metadata": {
  "kernelspec": {
   "display_name": "Python 3",
   "language": "python",
   "name": "python3"
  },
  "language_info": {
   "codemirror_mode": {
    "name": "ipython",
    "version": 3
   },
   "file_extension": ".py",
   "mimetype": "text/x-python",
   "name": "python",
   "nbconvert_exporter": "python",
   "pygments_lexer": "ipython3",
   "version": "3.6.7"
  }
 },
 "nbformat": 4,
 "nbformat_minor": 2
}
