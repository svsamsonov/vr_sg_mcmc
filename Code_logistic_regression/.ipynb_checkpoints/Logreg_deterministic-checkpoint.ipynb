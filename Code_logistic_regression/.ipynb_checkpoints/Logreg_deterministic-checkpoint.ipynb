{
 "cells": [
  {
   "cell_type": "code",
   "execution_count": 1,
   "metadata": {},
   "outputs": [],
   "source": [
    "import numpy as np\n",
    "import pandas as pd\n",
    "import scipy.stats as spstats\n",
    "from scipy import signal\n",
    "import pickle\n",
    "from multiprocessing import Pool\n",
    "import multiprocessing\n",
    "import scipy.sparse as sparse\n",
    "from sklearn.model_selection import train_test_split\n",
    "\n",
    "from potentials import potentialRegression\n",
    "from baselines import construct_ESVM_kernel,split_dataset,set_function,standartize\n",
    "from optimize import Run_eval_test,optimize_parallel_new\n",
    "from samplers import MCMC_sampler,Generate_train\n",
    "from utils import *"
   ]
  },
  {
   "cell_type": "markdown",
   "metadata": {},
   "source": [
    "## Setting parameters"
   ]
  },
  {
   "cell_type": "markdown",
   "metadata": {},
   "source": [
    "<p>Datasets:</p>\n",
    "<ol>\n",
    "    <li>Eeg $(N=14\\,980,\\ d=15)$</li>\n",
    "    <li>Susy $(N=500\\,000,\\ d=19)$</li>\n",
    "</ol>"
   ]
  },
  {
   "cell_type": "code",
   "execution_count": 2,
   "metadata": {},
   "outputs": [],
   "source": [
    "dataset = \"swiss\" # Switch between \"eeg\" and \"susy\" \n",
    "\n",
    "intercept = True # Do we include the intercept\n",
    "\n",
    "CV2 = True # Do we include second-order control variates\n",
    "\n",
    "method = {\"sampler\":\"ULA\",\"burn_type\":\"full\",\"main_type\":\"full\"} # Sampling method\n",
    "\n",
    "# Switch between \"posterior_prob_point\", \"posterior_prob_mean\", \"posterior_prob_variance\", \"posterior_mean\"\n",
    "f_type = \"posterior_prob_mean\""
   ]
  },
  {
   "cell_type": "code",
   "execution_count": 3,
   "metadata": {},
   "outputs": [],
   "source": [
    "# Tuning parameters\n",
    "if method[\"sampler\"] == \"ULA\":\n",
    "    step = 0.1\n",
    "elif method[\"sampler\"] == \"MALA\":\n",
    "    step = 0.1\n",
    "else:\n",
    "    step = 0.1\n",
    "    \n",
    "n_traj_train = 5 # Number of independent MCMC trajectories for train\n",
    "n_traj_test = 100 # Number of independent MCMC trajectories for test\n",
    "\n",
    "if (dataset == \"swiss\"):\n",
    "    batch_size = 1*5\n",
    "    test_size = 10\n",
    "    N_b = 1*10**3\n",
    "    N_train = 1*10**4\n",
    "    N_test = 1*10**4\n",
    "elif (dataset == \"eeg\"):    \n",
    "    batch_size = 1*15\n",
    "    test_size = 100\n",
    "    N_b = 2*10**2 # Burn-in period\n",
    "    N_train = 2*10**3 # Length of the train trajectory\n",
    "    N_test = 2*10**3 # Length of the test trajectories\n",
    "elif (dataset == \"pima\"):\n",
    "    batch_size = 1*15\n",
    "    test_size = 50\n",
    "    N_b = 1*10**3 #Burn-in period\n",
    "    N_train = 10**4 #Length of the train trajectory\n",
    "    N_test = 10**4 #Length of the test trajectory\n",
    "elif (dataset == \"susy\"): \n",
    "    batch_size =3*19 # Batch size for stochastic gradient\n",
    "    test_size = 500\n",
    "    N_b = 1*10**4 # Burn in period\n",
    "    N_train = 1*10**5 # Number of samples on which we optimize\n",
    "    N_test = 1*10**6 # Number of samples"
   ]
  },
  {
   "cell_type": "markdown",
   "metadata": {},
   "source": [
    "## Loading data"
   ]
  },
  {
   "cell_type": "code",
   "execution_count": 4,
   "metadata": {},
   "outputs": [],
   "source": [
    "if (dataset == \"swiss\"):\n",
    "    data = pd.read_csv(\"../iZAV_code/data/swiss.csv\",header=None)\n",
    "    outliers_inds = np.array([])\n",
    "    Y = data.iloc[:,-1]\n",
    "    X = data.iloc[:,:-1]\n",
    "elif (dataset == \"eeg\"):   \n",
    "    data = pd.read_csv(\"../iZAV_code/data/eeg.csv\",header=None)\n",
    "    outliers_inds = np.array([13179,11509,898,10386])\n",
    "    Y = data.iloc[:,-1]\n",
    "    X = data.iloc[:,:-1]\n",
    "elif (dataset == \"pima\"):\n",
    "    data = pd.read_csv(\"../iZAV_code/data/pima.csv\",header=None)\n",
    "    outliers_inds = np.array([])\n",
    "    Y = data.iloc[:,-1]\n",
    "    X = data.iloc[:,:-1]\n",
    "elif (dataset == \"susy\"): \n",
    "    data = pd.read_csv(\"data/susy.csv\",header=None)\n",
    "    outliers_inds = np.array([267630])\n",
    "    Y = data.iloc[:,0]\n",
    "    X = data.iloc[:,1:]"
   ]
  },
  {
   "cell_type": "markdown",
   "metadata": {},
   "source": [
    "## Preprocessing data"
   ]
  },
  {
   "cell_type": "code",
   "execution_count": 5,
   "metadata": {},
   "outputs": [],
   "source": [
    "# Removing the outliers\n",
    "if (outliers_inds.size!=0):\n",
    "    X_processed = np.delete(np.asarray(X),outliers_inds,0)\n",
    "    mask = np.ones(len(Y),dtype = bool)\n",
    "    mask[outliers_inds] = False\n",
    "    Y_processed = Y[mask]\n",
    "    Y_processed = np.asarray(Y_processed)\n",
    "    X_processed = np.asarray(X_processed)\n",
    "else:\n",
    "    Y_processed = np.asarray(Y)\n",
    "    X_processed = np.asarray(X)"
   ]
  },
  {
   "cell_type": "code",
   "execution_count": 6,
   "metadata": {},
   "outputs": [],
   "source": [
    "if (f_type == \"posterior_mean\"):\n",
    "    X_train,X_train = standartize(X_processed,X_processed,intercept=intercept)\n",
    "    Y_train = Y_processed\n",
    "else:\n",
    "    X_train,X_test,Y_train,Y_test = train_test_split(X_processed,Y_processed,test_size=test_size,random_state=1812,stratify=Y_processed)\n",
    "    X_train,X_test = standartize(X_train,X_test,intercept=intercept)"
   ]
  },
  {
   "cell_type": "markdown",
   "metadata": {},
   "source": [
    "## Creating potential"
   ]
  },
  {
   "cell_type": "code",
   "execution_count": 7,
   "metadata": {},
   "outputs": [],
   "source": [
    "optim_params = {\n",
    "    \"compute_fp\":False,\n",
    "    \"GD\":False,\n",
    "    \"stochastic\":False,\n",
    "    \"order\":1,\n",
    "    \"n_restarts\":5,\n",
    "    \"batch_size\":100,\n",
    "    \"sigma\":1.0,\n",
    "    \"gtol\":1e-6,\n",
    "    \"gamma\":5e-4,\n",
    "    \"weight_decay\":0.995,\n",
    "    \"loop_length\":100,\n",
    "    \"n_loops\":300\n",
    "}"
   ]
  },
  {
   "cell_type": "code",
   "execution_count": 8,
   "metadata": {},
   "outputs": [],
   "source": [
    "# Construct kernel\n",
    "W_train_spec = construct_ESVM_kernel(N_train)\n",
    "W_test_spec = construct_ESVM_kernel(N_test)"
   ]
  },
  {
   "cell_type": "code",
   "execution_count": 9,
   "metadata": {},
   "outputs": [],
   "source": [
    "# Creating potential\n",
    "Cur_pot = potentialRegression(Y_train, X_train, typ = \"l\",optim_params = optim_params, batch_size = batch_size, print_info = True)\n",
    "d = Cur_pot.d "
   ]
  },
  {
   "cell_type": "markdown",
   "metadata": {},
   "source": [
    "## Sampling training trajectories"
   ]
  },
  {
   "cell_type": "code",
   "execution_count": 10,
   "metadata": {},
   "outputs": [
    {
     "name": "stdout",
     "output_type": "stream",
     "text": [
      "ncores =  4\n"
     ]
    }
   ],
   "source": [
    "if method[\"sampler\"] == \"ULA\":\n",
    "    res = Generate_train(n_traj_train, method, Cur_pot, step, N_b, N_train, d)\n",
    "    res = np.asarray(res)\n",
    "    traj,traj_grad = res[:,0,:,:],res[:,1,:,:]\n",
    "else:\n",
    "    res = Generate_train(n_traj_train, method, Cur_pot, step, N_b, N_train, d)\n",
    "    traj = []\n",
    "    traj_grad = []\n",
    "    for i in range(len(res)):\n",
    "        traj.append(res[i][0])\n",
    "        traj_grad.append(res[i][1])\n",
    "        print(\"accepted = \",res[i][2])\n",
    "    traj = np.asarray(traj)\n",
    "    traj_grad = np.asarray(traj_grad)"
   ]
  },
  {
   "cell_type": "markdown",
   "metadata": {},
   "source": [
    "## Initialization of function values"
   ]
  },
  {
   "cell_type": "markdown",
   "metadata": {},
   "source": [
    "If the function you are willing to evaluate is \"posterior_prob_point\" or \"posterior mean\" — pass through inds_arr parameter indices of variables, over which you are willing to optimize. For example, in case of \"posterior_prob_point\",\n",
    "\n",
    ">inds_arr = np.array([0])\n",
    "\n",
    "means that you are willing to reduce variance for a point from the test dataset with index $0$."
   ]
  },
  {
   "cell_type": "code",
   "execution_count": 11,
   "metadata": {},
   "outputs": [],
   "source": [
    "if (f_type == \"posterior_mean\"):\n",
    "    inds_arr = np.array([1]) # Taking the second index (not intercept)\n",
    "    params = None\n",
    "else:\n",
    "    params = {\"X\":X_test,\"Y\":Y_test}\n",
    "    inds_arr = np.array([0])\n",
    "    \n",
    "f_vals = set_function(f_type,traj,inds_arr,params)"
   ]
  },
  {
   "cell_type": "markdown",
   "metadata": {},
   "source": [
    "## Training coefficients for EVM and ESVM"
   ]
  },
  {
   "cell_type": "code",
   "execution_count": 12,
   "metadata": {},
   "outputs": [],
   "source": [
    "n_restarts = 2 # Number of restarts during optimization\n",
    "sigma = 1 # Deviation of starting points\n",
    "tol = 1e-5 # Tolerance (for the norm of gradient)"
   ]
  },
  {
   "cell_type": "code",
   "execution_count": 13,
   "metadata": {},
   "outputs": [
    {
     "name": "stdout",
     "output_type": "stream",
     "text": [
      "1 degree optimization terminated succesfully\n",
      "jacobian at termination: \n",
      "[-5.84880531e-07 -2.14736134e-06 -2.37428296e-07 -1.88906553e-07\n",
      " -1.32151752e-07]\n",
      "1 degree optimization terminated succesfully\n",
      "jacobian at termination: \n",
      "[-2.63847735e-08 -1.31099429e-06 -1.90704429e-06  1.52237351e-06\n",
      " -3.22264779e-06]\n",
      "1 degree optimization terminated succesfully\n",
      "jacobian at termination: \n",
      "[-1.11716192e-16  2.01227923e-17  9.36750677e-18 -2.74086309e-17\n",
      "  1.10588622e-18]\n",
      "2 degree optimization terminated succesfully\n",
      "Jacobian matrix at termination: \n",
      "[ 7.51533092e-07  4.91678563e-07  1.97794491e-06 -4.50476467e-06\n",
      " -2.83095943e-07  9.80040470e-07  3.55560167e-07  2.52163194e-06\n",
      "  3.17601656e-07 -1.38099694e-06  3.55560167e-07  3.35864277e-06\n",
      " -5.17526722e-06  1.97934777e-06  1.28434818e-06  2.52163194e-06\n",
      " -5.17526722e-06  2.49794422e-07 -5.03513863e-06  9.80902144e-07\n",
      "  3.17601656e-07  1.97934777e-06 -5.03513863e-06  4.87048606e-06\n",
      "  1.70347034e-07 -1.38099694e-06  1.28434818e-06  9.80902144e-07\n",
      "  1.70347034e-07  1.95719208e-07]\n",
      "2 degree optimization terminated succesfully\n",
      "Jacobian matrix at termination: \n",
      "[ 3.80721747e-06 -1.18748207e-06 -4.12857896e-06  3.70627706e-06\n",
      " -1.16964888e-06  1.28015983e-06 -2.19612915e-06  6.78380129e-07\n",
      "  1.46601465e-06  4.16472716e-06 -2.19612915e-06 -4.85540688e-06\n",
      "  2.85209896e-06  6.33095695e-07  1.88839357e-06  6.78380129e-07\n",
      "  2.85209896e-06 -2.04092576e-06  1.05234626e-06 -1.48349229e-06\n",
      "  1.46601465e-06  6.33095695e-07  1.05234626e-06 -1.45826365e-06\n",
      " -8.92338820e-07  4.16472716e-06  1.88839357e-06 -1.48349229e-06\n",
      " -8.92338820e-07  2.65593694e-07]\n",
      "2 degree optimization terminated succesfully\n",
      "Jacobian matrix at termination: \n",
      "[ 1.82934221e-08 -5.99250691e-09  2.71036421e-08  3.60919727e-09\n",
      " -1.03756527e-08  1.42039339e-07 -9.91276774e-08  1.25445794e-07\n",
      " -7.56213654e-08  1.04994304e-07 -9.91276774e-08 -2.72344869e-07\n",
      "  5.35677054e-08  2.46245429e-07  4.09734070e-07  1.25445794e-07\n",
      "  5.35677054e-08  3.05300376e-07  1.47776681e-07  7.46136676e-07\n",
      " -7.56213654e-08  2.46245429e-07  1.47776681e-07 -5.25225996e-07\n",
      " -4.97433344e-07  1.04994304e-07  4.09734070e-07  7.46136676e-07\n",
      " -4.97433344e-07  2.45567467e-07]\n"
     ]
    }
   ],
   "source": [
    "A_ESVM_1,A_EVM_1,A_LS_1 = optimize_parallel_new(1,inds_arr,f_vals,traj,traj_grad,W_train_spec,n_restarts,tol,sigma)\n",
    "if CV2:\n",
    "    A_ESVM_2,A_EVM_2,A_LS_2 = optimize_parallel_new(2,inds_arr,f_vals,traj,traj_grad,W_train_spec,n_restarts,tol,sigma)\n",
    "else:\n",
    "    A_ESVM_2,A_EVM_2,A_LS_2 = np.zeros((2,d**2+d)),np.zeros((2,d**2+d)),np.zeros((2,d**2+d))"
   ]
  },
  {
   "cell_type": "markdown",
   "metadata": {},
   "source": [
    "## Coefficients for control variates"
   ]
  },
  {
   "cell_type": "code",
   "execution_count": 14,
   "metadata": {},
   "outputs": [
    {
     "name": "stdout",
     "output_type": "stream",
     "text": [
      "Coefficients for ESVM\n",
      "[[0.01850069 0.04617007 0.0383435  0.02880958 0.05962657]]\n",
      "Coefficients for EVM\n",
      "[[0.01844105 0.04585741 0.03851806 0.02886215 0.05959206]]\n",
      "Coefficients for LS\n",
      "[[-0.15822768  0.14810951 -0.02578689  0.05687365 -0.05242894]]\n"
     ]
    }
   ],
   "source": [
    "print(\"Coefficients for ESVM\")\n",
    "print(A_ESVM_1)\n",
    "print(\"Coefficients for EVM\")\n",
    "print(A_EVM_1)\n",
    "print(\"Coefficients for LS\")\n",
    "print(A_LS_1)"
   ]
  },
  {
   "cell_type": "code",
   "execution_count": 15,
   "metadata": {
    "scrolled": true
   },
   "outputs": [
    {
     "name": "stdout",
     "output_type": "stream",
     "text": [
      "Coefficients for ESVM\n",
      "[[-2.17807151e-03  2.60486332e-02  3.05244909e-02  2.48558892e-02\n",
      "   4.55119791e-02 -1.68176677e-04 -6.01418038e-04  6.45508740e-05\n",
      "   3.51991656e-04  2.08463865e-06 -6.01418040e-04 -4.22978122e-04\n",
      "  -1.12486687e-04  2.03030175e-04  1.48928871e-04  6.45508855e-05\n",
      "  -1.12486685e-04  2.46156399e-04 -3.47964840e-05  3.36188850e-05\n",
      "   3.51991659e-04  2.03030172e-04 -3.47964769e-05  1.34939941e-04\n",
      "   5.04038885e-05  2.08463088e-06  1.48928868e-04  3.36188770e-05\n",
      "   5.04038906e-05  1.98928948e-04]]\n",
      "Coefficients for EVM\n",
      "[[-2.23233940e-03  2.51522435e-02  3.08575441e-02  2.38902310e-02\n",
      "   4.50644418e-02 -1.73473079e-04 -6.01600738e-04  6.63435180e-05\n",
      "   3.53765413e-04  1.26403602e-06 -6.01600738e-04 -4.53314360e-04\n",
      "  -1.08211049e-04  2.11487577e-04  1.50187541e-04  6.63435179e-05\n",
      "  -1.08211049e-04  2.45195894e-04 -3.72889466e-05  3.21719663e-05\n",
      "   3.53765413e-04  2.11487577e-04 -3.72889466e-05  1.41017053e-04\n",
      "   6.32392418e-05  1.26403621e-06  1.50187541e-04  3.21719663e-05\n",
      "   6.32392418e-05  2.00924560e-04]]\n",
      "Coefficients for LS\n",
      "[[ 0.42441424  0.44000635 -0.03631339  0.78927597  0.82536302  0.00838184\n",
      "   0.00664358  0.00161636  0.00267713 -0.00907852  0.00664358 -0.01288419\n",
      "  -0.00521458  0.00143412 -0.00573449  0.00161636 -0.00521458  0.00766195\n",
      "  -0.01511786  0.00305159  0.00267713  0.00143412 -0.01511786 -0.02562701\n",
      "   0.00493761 -0.00907852 -0.00573449  0.00305159  0.00493761 -0.01685108]]\n"
     ]
    }
   ],
   "source": [
    "if CV2:\n",
    "    print(\"Coefficients for ESVM\")\n",
    "    print(A_ESVM_2)\n",
    "    print(\"Coefficients for EVM\")\n",
    "    print(A_EVM_2)\n",
    "    print(\"Coefficients for LS\")\n",
    "    print(A_LS_2)"
   ]
  },
  {
   "cell_type": "markdown",
   "metadata": {},
   "source": [
    "## Testing EVM and ESVM"
   ]
  },
  {
   "cell_type": "code",
   "execution_count": 16,
   "metadata": {},
   "outputs": [],
   "source": [
    "# Create a dictionary, put respective matrices into it\n",
    "CV_dict = {\"ESVM\":[A_ESVM_1,A_ESVM_2],\"EVM\":[A_EVM_1,A_EVM_2],\"LS\":[A_LS_1,A_LS_2]}\n",
    "# Number of cores exploited for the computation of the independent trajectories\n",
    "# by deault, all available cores on the machine\n",
    "nbcores = multiprocessing.cpu_count()\n",
    "trav = Pool(nbcores)\n",
    "res = trav.starmap(Run_eval_test, [(i,method,inds_arr,Cur_pot,W_test_spec,CV_dict,step,N_b,N_test,d,params,f_type) for i in range (n_traj_test)])\n",
    "trav.close()\n",
    "res_arr = np.asarray(res) # Saving results as np.array"
   ]
  },
  {
   "cell_type": "markdown",
   "metadata": {},
   "source": [
    "## Results"
   ]
  },
  {
   "cell_type": "code",
   "execution_count": 17,
   "metadata": {
    "scrolled": true
   },
   "outputs": [
    {
     "name": "stdout",
     "output_type": "stream",
     "text": [
      "Estimators\n",
      "Vanilla MALA [0.78230752]\n",
      "ESVM pol=1 [0.78221804]\n",
      "ESVM pol=2 [0.78224634]\n",
      "EVM pol=1 [0.78221944]\n",
      "EVM pol=2 [0.78224617]\n",
      "LS pol=1 [0.78221944]\n",
      "LS pol=2 [0.78224617]\n"
     ]
    }
   ],
   "source": [
    "print(\"Estimators\")\n",
    "print(\"Vanilla MALA {}\".format(np.mean(res_arr[:,0,0,:],axis=0)))\n",
    "print(\"ESVM pol=1 {}\".format(np.mean(res_arr[:,0,1,:],axis=0)))\n",
    "print(\"ESVM pol=2 {}\".format(np.mean(res_arr[:,0,2,:],axis=0)))\n",
    "print(\"EVM pol=1 {}\".format(np.mean(res_arr[:,0,3,:],axis=0)))\n",
    "print(\"EVM pol=2 {}\".format(np.mean(res_arr[:,0,4,:],axis=0)))\n",
    "print(\"LS pol=1 {}\".format(np.mean(res_arr[:,0,3,:],axis=0)))\n",
    "print(\"LS pol=2 {}\".format(np.mean(res_arr[:,0,4,:],axis=0)))"
   ]
  },
  {
   "cell_type": "code",
   "execution_count": 18,
   "metadata": {},
   "outputs": [
    {
     "name": "stdout",
     "output_type": "stream",
     "text": [
      "Variances\n",
      "Vanilla MALA [0.03329666]\n",
      "ZAV pol=1 [0.00076798]\n",
      "ZAV pol=2 [0.00014853]\n",
      "ZV pol=1 [0.00076156]\n",
      "ZV pol=2 [0.00014515]\n",
      "LS pol=1 [0.23696501]\n",
      "LS pol=2 [1.09330443]\n"
     ]
    }
   ],
   "source": [
    "print(\"Variances\")\n",
    "print(\"Vanilla MALA {}\".format(np.mean(res_arr[:,1,0,:],axis=0)))\n",
    "print(\"ZAV pol=1 {}\".format(np.mean(res_arr[:,1,1,:],axis=0)))\n",
    "print(\"ZAV pol=2 {}\".format(np.mean(res_arr[:,1,2,:],axis=0)))\n",
    "print(\"ZV pol=1 {}\".format(np.mean(res_arr[:,1,3,:],axis=0)))\n",
    "print(\"ZV pol=2 {}\".format(np.mean(res_arr[:,1,4,:],axis=0)))\n",
    "print(\"LS pol=1 {}\".format(np.mean(res_arr[:,1,5,:],axis=0)))\n",
    "print(\"LS pol=2 {}\".format(np.mean(res_arr[:,1,6,:],axis=0)))"
   ]
  },
  {
   "cell_type": "code",
   "execution_count": 19,
   "metadata": {},
   "outputs": [],
   "source": [
    "np.save(\"Logreg_determ/Swiss_27_06_step_1e-1_ULA_bn_20_burn_1e3_train_1e4_test_1e4\",res_arr)"
   ]
  },
  {
   "cell_type": "markdown",
   "metadata": {},
   "source": [
    "## Plotting results"
   ]
  },
  {
   "cell_type": "code",
   "execution_count": 20,
   "metadata": {},
   "outputs": [],
   "source": [
    "var_ind = 0 # Index to plot\n",
    "title = dataset.upper()+\" dataset\"\n",
    "labels = ['Vanilla\\nULA', 'ULA\\nwith EVM','ULA\\nwith ESVM']"
   ]
  },
  {
   "cell_type": "code",
   "execution_count": 21,
   "metadata": {},
   "outputs": [
    {
     "data": {
      "image/png": "[encoded data removed]",
      "text/plain": [
       "<Figure size 500x400 with 1 Axes>"
      ]
     },
     "metadata": {
      "needs_background": "light"
     },
     "output_type": "display_data"
    }
   ],
   "source": [
    "# Box plot\n",
    "data = [res_arr[:,0,0,var_ind],res_arr[:,0,4,var_ind],res_arr[:,0,2,var_ind]] \n",
    "boxplot_ind(data, title, labels)"
   ]
  },
  {
   "cell_type": "code",
   "execution_count": 22,
   "metadata": {},
   "outputs": [],
   "source": [
    "var_ind = 0 # Index to plot\n",
    "title = dataset.upper()+\" dataset\"\n",
    "labels = ['ULA\\nwith EVM','ULA\\nwith ESVM']"
   ]
  },
  {
   "cell_type": "code",
   "execution_count": 23,
   "metadata": {},
   "outputs": [
    {
     "data": {
      "image/png": "[encoded data removed]",
      "text/plain": [
       "<Figure size 500x400 with 1 Axes>"
      ]
     },
     "metadata": {
      "needs_background": "light"
     },
     "output_type": "display_data"
    }
   ],
   "source": [
    "# Violin plots\n",
    "data = [res_arr[:,0,4,var_ind],res_arr[:,0,2,var_ind]] \n",
    "boxplot_ind(data, title, labels)"
   ]
  },
  {
   "cell_type": "code",
   "execution_count": 24,
   "metadata": {},
   "outputs": [
    {
     "data": {
      "image/png": "[encoded data removed]",
      "text/plain": [
       "<Figure size 1000x500 with 2 Axes>"
      ]
     },
     "metadata": {
      "needs_background": "light"
     },
     "output_type": "display_data"
    }
   ],
   "source": [
    "# Box plot\n",
    "if CV2: \n",
    "    data1 = [res_arr[:,0,0,var_ind],res_arr[:,0,3,var_ind],res_arr[:,0,1,var_ind]]\n",
    "    data2 = [res_arr[:,0,0,var_ind],res_arr[:,0,4,var_ind],res_arr[:,0,2,var_ind]]\n",
    "    boxplot_2ind(data1, data2, title, labels)\n",
    "else: \n",
    "    data = [res_arr[:,0,0,var_ind],res_arr[:,0,3,var_ind],res_arr[:,0,1,var_ind]] \n",
    "    boxplot_ind(data, title, labels)"
   ]
  },
  {
   "cell_type": "code",
   "execution_count": 36,
   "metadata": {},
   "outputs": [
    {
     "name": "stdout",
     "output_type": "stream",
     "text": [
      "(100, 2, 7, 1)\n"
     ]
    }
   ],
   "source": [
    "results = np.load(\"Logreg_determ/EEG_26_06_step_1e-1_RWM_bn_10_burn_2e2_train_2e3_test_2e3.npy\")\n",
    "print(results.shape)"
   ]
  },
  {
   "cell_type": "code",
   "execution_count": 37,
   "metadata": {},
   "outputs": [
    {
     "name": "stdout",
     "output_type": "stream",
     "text": [
      "average VRF for 1st order EVM: 12069.155033831195\n",
      "average VRF for 2nd order EVM: 1062.1501555153848\n",
      "average VRF for 1st order ESVM: 12180.430182116921\n",
      "average VRF for 2nd order ESVM: 448030.0571400665\n"
     ]
    }
   ],
   "source": [
    "vars_vanilla = results[:,1,0,:]\n",
    "vars_esvm_1st = results[:,1,1,:]\n",
    "vars_esvm_2nd = results[:,1,2,:]\n",
    "vars_evm_1st = results[:,1,3,:]\n",
    "vars_evm_2nd = results[:,1,4,:]\n",
    "print(\"average VRF for 1st order EVM:\",np.mean(vars_vanilla/vars_evm_1st))\n",
    "print(\"average VRF for 2nd order EVM:\",np.mean(vars_vanilla/vars_evm_2nd))\n",
    "print(\"average VRF for 1st order ESVM:\",np.mean(vars_vanilla/vars_esvm_1st))\n",
    "print(\"average VRF for 2nd order ESVM:\",np.mean(vars_vanilla/vars_esvm_2nd))"
   ]
  },
  {
   "cell_type": "code",
   "execution_count": null,
   "metadata": {},
   "outputs": [],
   "source": []
  }
 ],
 "metadata": {
  "kernelspec": {
   "display_name": "Python 3",
   "language": "python",
   "name": "python3"
  },
  "language_info": {
   "codemirror_mode": {
    "name": "ipython",
    "version": 3
   },
   "file_extension": ".py",
   "mimetype": "text/x-python",
   "name": "python",
   "nbconvert_exporter": "python",
   "pygments_lexer": "ipython3",
   "version": "3.6.7"
  }
 },
 "nbformat": 4,
 "nbformat_minor": 2
}
